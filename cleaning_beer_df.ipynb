{
 "cells": [
  {
   "cell_type": "code",
   "execution_count": 1,
   "id": "98f2db36-e436-45d6-8da1-b5ba623ab2ba",
   "metadata": {
    "pycharm": {
     "name": "#%%\n"
    }
   },
   "outputs": [],
   "source": [
    "import pandas as pd\n",
    "import numpy as np\n",
    "import sqlite3"
   ]
  },
  {
   "cell_type": "code",
   "execution_count": 2,
   "id": "a1affc72-95c4-4ed9-b4ca-7422dfe9ea5c",
   "metadata": {
    "pycharm": {
     "name": "#%%\n"
    }
   },
   "outputs": [
    {
     "data": {
      "text/plain": "                           Name    Style  \\\n0                         Amber  Altbier   \n1                    Double Bag  Altbier   \n2                Long Trail Ale  Altbier   \n3                  Doppelsticke  Altbier   \n4  Sleigh'r Dark Doüble Alt Ale  Altbier   \n\n                                            Brewery  \\\n0                               Alaskan Brewing Co.   \n1                            Long Trail Brewing Co.   \n2                            Long Trail Brewing Co.   \n3  Uerige Obergärige Hausbrauerei GmbH / Zum Uerige   \n4                           Ninkasi Brewing Company   \n\n                                    Beer Name (Full)  \\\n0                  Alaskan Brewing Co. Alaskan Amber   \n1                  Long Trail Brewing Co. Double Bag   \n2              Long Trail Brewing Co. Long Trail Ale   \n3  Uerige Obergärige Hausbrauerei GmbH / Zum Ueri...   \n4  Ninkasi Brewing Company Sleigh'r Dark Doüble A...   \n\n                                         Description  ABV  Min IBU  Max IBU  \\\n0  Notes:Richly malty and long on the palate, wit...  5.3       25       50   \n1  Notes:This malty, full-bodied double alt is al...  7.2       25       50   \n2  Notes:Long Trail Ale is a full-bodied amber al...  5.0       25       50   \n3                                             Notes:  8.5       25       50   \n4  Notes:Called 'Dark Double Alt' on the label.Se...  7.2       25       50   \n\n   Astringency  Body  ...  Fruits  Hoppy  Spices  Malty  review_aroma  \\\n0           13    32  ...      33     57       8    111      3.498994   \n1           12    57  ...      24     35      12     84      3.798337   \n2           14    37  ...      10     54       4     62      3.409814   \n3           13    55  ...      49     40      16    119      4.148098   \n4           25    51  ...      11     51      20     95      3.625000   \n\n   review_appearance  review_palate  review_taste  review_overall  \\\n0           3.636821       3.556338      3.643863        3.847082   \n1           3.846154       3.904366      4.024948        4.034304   \n2           3.667109       3.600796      3.631300        3.830239   \n3           4.033967       4.150815      4.205163        4.005435   \n4           3.973958       3.734375      3.765625        3.817708   \n\n   number_of_reviews  \n0                497  \n1                481  \n2                377  \n3                368  \n4                 96  \n\n[5 rows x 25 columns]",
      "text/html": "<div>\n<style scoped>\n    .dataframe tbody tr th:only-of-type {\n        vertical-align: middle;\n    }\n\n    .dataframe tbody tr th {\n        vertical-align: top;\n    }\n\n    .dataframe thead th {\n        text-align: right;\n    }\n</style>\n<table border=\"1\" class=\"dataframe\">\n  <thead>\n    <tr style=\"text-align: right;\">\n      <th></th>\n      <th>Name</th>\n      <th>Style</th>\n      <th>Brewery</th>\n      <th>Beer Name (Full)</th>\n      <th>Description</th>\n      <th>ABV</th>\n      <th>Min IBU</th>\n      <th>Max IBU</th>\n      <th>Astringency</th>\n      <th>Body</th>\n      <th>...</th>\n      <th>Fruits</th>\n      <th>Hoppy</th>\n      <th>Spices</th>\n      <th>Malty</th>\n      <th>review_aroma</th>\n      <th>review_appearance</th>\n      <th>review_palate</th>\n      <th>review_taste</th>\n      <th>review_overall</th>\n      <th>number_of_reviews</th>\n    </tr>\n  </thead>\n  <tbody>\n    <tr>\n      <th>0</th>\n      <td>Amber</td>\n      <td>Altbier</td>\n      <td>Alaskan Brewing Co.</td>\n      <td>Alaskan Brewing Co. Alaskan Amber</td>\n      <td>Notes:Richly malty and long on the palate, wit...</td>\n      <td>5.3</td>\n      <td>25</td>\n      <td>50</td>\n      <td>13</td>\n      <td>32</td>\n      <td>...</td>\n      <td>33</td>\n      <td>57</td>\n      <td>8</td>\n      <td>111</td>\n      <td>3.498994</td>\n      <td>3.636821</td>\n      <td>3.556338</td>\n      <td>3.643863</td>\n      <td>3.847082</td>\n      <td>497</td>\n    </tr>\n    <tr>\n      <th>1</th>\n      <td>Double Bag</td>\n      <td>Altbier</td>\n      <td>Long Trail Brewing Co.</td>\n      <td>Long Trail Brewing Co. Double Bag</td>\n      <td>Notes:This malty, full-bodied double alt is al...</td>\n      <td>7.2</td>\n      <td>25</td>\n      <td>50</td>\n      <td>12</td>\n      <td>57</td>\n      <td>...</td>\n      <td>24</td>\n      <td>35</td>\n      <td>12</td>\n      <td>84</td>\n      <td>3.798337</td>\n      <td>3.846154</td>\n      <td>3.904366</td>\n      <td>4.024948</td>\n      <td>4.034304</td>\n      <td>481</td>\n    </tr>\n    <tr>\n      <th>2</th>\n      <td>Long Trail Ale</td>\n      <td>Altbier</td>\n      <td>Long Trail Brewing Co.</td>\n      <td>Long Trail Brewing Co. Long Trail Ale</td>\n      <td>Notes:Long Trail Ale is a full-bodied amber al...</td>\n      <td>5.0</td>\n      <td>25</td>\n      <td>50</td>\n      <td>14</td>\n      <td>37</td>\n      <td>...</td>\n      <td>10</td>\n      <td>54</td>\n      <td>4</td>\n      <td>62</td>\n      <td>3.409814</td>\n      <td>3.667109</td>\n      <td>3.600796</td>\n      <td>3.631300</td>\n      <td>3.830239</td>\n      <td>377</td>\n    </tr>\n    <tr>\n      <th>3</th>\n      <td>Doppelsticke</td>\n      <td>Altbier</td>\n      <td>Uerige Obergärige Hausbrauerei GmbH / Zum Uerige</td>\n      <td>Uerige Obergärige Hausbrauerei GmbH / Zum Ueri...</td>\n      <td>Notes:</td>\n      <td>8.5</td>\n      <td>25</td>\n      <td>50</td>\n      <td>13</td>\n      <td>55</td>\n      <td>...</td>\n      <td>49</td>\n      <td>40</td>\n      <td>16</td>\n      <td>119</td>\n      <td>4.148098</td>\n      <td>4.033967</td>\n      <td>4.150815</td>\n      <td>4.205163</td>\n      <td>4.005435</td>\n      <td>368</td>\n    </tr>\n    <tr>\n      <th>4</th>\n      <td>Sleigh'r Dark Doüble Alt Ale</td>\n      <td>Altbier</td>\n      <td>Ninkasi Brewing Company</td>\n      <td>Ninkasi Brewing Company Sleigh'r Dark Doüble A...</td>\n      <td>Notes:Called 'Dark Double Alt' on the label.Se...</td>\n      <td>7.2</td>\n      <td>25</td>\n      <td>50</td>\n      <td>25</td>\n      <td>51</td>\n      <td>...</td>\n      <td>11</td>\n      <td>51</td>\n      <td>20</td>\n      <td>95</td>\n      <td>3.625000</td>\n      <td>3.973958</td>\n      <td>3.734375</td>\n      <td>3.765625</td>\n      <td>3.817708</td>\n      <td>96</td>\n    </tr>\n  </tbody>\n</table>\n<p>5 rows × 25 columns</p>\n</div>"
     },
     "execution_count": 2,
     "metadata": {},
     "output_type": "execute_result"
    }
   ],
   "source": [
    "beer_df = pd.read_csv(\"./Kaggle-Files/updated_beer_profile_and_ratings.csv\")\n",
    "beer_df.head()"
   ]
  },
  {
   "cell_type": "code",
   "execution_count": 3,
   "id": "6f0d2912-8caf-41a6-9c80-4a11a075bb1b",
   "metadata": {
    "pycharm": {
     "name": "#%%\n"
    }
   },
   "outputs": [
    {
     "data": {
      "text/plain": "Index(['Name', 'Style', 'Brewery', 'Beer Name (Full)', 'Description', 'ABV',\n       'Min IBU', 'Max IBU', 'Astringency', 'Body', 'Alcohol', 'Bitter',\n       'Sweet', 'Sour', 'Salty', 'Fruits', 'Hoppy', 'Spices', 'Malty',\n       'review_aroma', 'review_appearance', 'review_palate', 'review_taste',\n       'review_overall', 'number_of_reviews'],\n      dtype='object')"
     },
     "execution_count": 3,
     "metadata": {},
     "output_type": "execute_result"
    }
   ],
   "source": [
    "beer_df.columns"
   ]
  },
  {
   "cell_type": "code",
   "execution_count": 4,
   "outputs": [],
   "source": [
    "beer_df.rename({\"Beer Name (Full)\": \"Full_Beer_Name\",\n",
    "                \"Min IBU\": \"Min_IBU\",\n",
    "                \"Max IBU\": \"Max_IBU\"}, axis=\"columns\", inplace=True)"
   ],
   "metadata": {
    "collapsed": false,
    "pycharm": {
     "name": "#%%\n"
    }
   }
  },
  {
   "cell_type": "code",
   "execution_count": 5,
   "id": "61ffa1b9-8652-4f96-ab64-562380e1acca",
   "metadata": {
    "pycharm": {
     "name": "#%%\n"
    }
   },
   "outputs": [
    {
     "name": "stdout",
     "output_type": "stream",
     "text": [
      "<class 'pandas.core.frame.DataFrame'>\n",
      "RangeIndex: 3197 entries, 0 to 3196\n",
      "Data columns (total 25 columns):\n",
      " #   Column             Non-Null Count  Dtype  \n",
      "---  ------             --------------  -----  \n",
      " 0   Name               3197 non-null   object \n",
      " 1   Style              3197 non-null   object \n",
      " 2   Brewery            3197 non-null   object \n",
      " 3   Full_Beer_Name     3197 non-null   object \n",
      " 4   Description        3197 non-null   object \n",
      " 5   ABV                3197 non-null   float64\n",
      " 6   Min_IBU            3197 non-null   int64  \n",
      " 7   Max_IBU            3197 non-null   int64  \n",
      " 8   Astringency        3197 non-null   int64  \n",
      " 9   Body               3197 non-null   int64  \n",
      " 10  Alcohol            3197 non-null   int64  \n",
      " 11  Bitter             3197 non-null   int64  \n",
      " 12  Sweet              3197 non-null   int64  \n",
      " 13  Sour               3197 non-null   int64  \n",
      " 14  Salty              3197 non-null   int64  \n",
      " 15  Fruits             3197 non-null   int64  \n",
      " 16  Hoppy              3197 non-null   int64  \n",
      " 17  Spices             3197 non-null   int64  \n",
      " 18  Malty              3197 non-null   int64  \n",
      " 19  review_aroma       3197 non-null   float64\n",
      " 20  review_appearance  3197 non-null   float64\n",
      " 21  review_palate      3197 non-null   float64\n",
      " 22  review_taste       3197 non-null   float64\n",
      " 23  review_overall     3197 non-null   float64\n",
      " 24  number_of_reviews  3197 non-null   int64  \n",
      "dtypes: float64(6), int64(14), object(5)\n",
      "memory usage: 624.5+ KB\n"
     ]
    }
   ],
   "source": [
    "beer_df.info(5)"
   ]
  },
  {
   "cell_type": "code",
   "execution_count": 6,
   "id": "a5f0eabb-e121-4209-8a0c-6b3c930d94e3",
   "metadata": {
    "pycharm": {
     "name": "#%%\n"
    }
   },
   "outputs": [
    {
     "data": {
      "text/plain": "Lager                              567\nStout                              254\nWheat Beer                         206\nPorter                             164\nIPA                                163\nBock                               155\nStrong Ale                         148\nLambic                             100\nPale Ale                            98\nBrown Ale                           94\nRed Ale                             90\nPilsner                             86\nBitter                              74\nFarmhouse Ale                       72\nBlonde Ale                          64\nBarleywine                          64\nSour                                57\nMild Ale                            47\nDubbel                              41\nWinter Warmer                       40\nAltbier                             39\nTripel                              37\nRye Beer                            37\nFruit and Field Beer                37\nScotch Ale / Wee Heavy              35\nQuadrupel (Quad)                    34\nScottish Ale                        34\nOld Ale                             34\nKölsch                              32\nLow Alcohol Beer                    32\nPumpkin Beer                        30\nSmoked Beer                         28\nChile Beer                          25\nCream Ale                           24\nHerb and Spice Beer                 24\nHapposhu                            23\nWild Ale                            23\nKvass                               21\nCalifornia Common / Steam Beer      20\nGruit / Ancient Herbed Ale          19\nBraggot                             14\nBière de Champagne / Bière Brut      8\nBrett Beer                           3\nName: Style, dtype: int64"
     },
     "execution_count": 6,
     "metadata": {},
     "output_type": "execute_result"
    }
   ],
   "source": [
    "beer_df['Style'].value_counts()"
   ]
  },
  {
   "cell_type": "code",
   "execution_count": 7,
   "id": "2d8f7c11-5cc7-4e0c-9b79-0b00b8e9aa57",
   "metadata": {
    "pycharm": {
     "name": "#%%\n"
    }
   },
   "outputs": [
    {
     "data": {
      "text/plain": "25     76\n24     71\n18     68\n17     65\n16     65\n       ..\n143     1\n148     1\n145     1\n112     1\n109     1\nName: Bitter, Length: 133, dtype: int64"
     },
     "execution_count": 7,
     "metadata": {},
     "output_type": "execute_result"
    }
   ],
   "source": [
    "beer_df['Bitter'].value_counts()"
   ]
  },
  {
   "cell_type": "code",
   "execution_count": 8,
   "id": "5e038350-f553-4a83-aeb9-6f805caeb0c0",
   "metadata": {
    "pycharm": {
     "name": "#%%\n"
    }
   },
   "outputs": [
    {
     "data": {
      "text/plain": "Name                  object\nStyle                 object\nBrewery               object\nFull_Beer_Name        object\nDescription           object\nABV                  float64\nMin_IBU                int64\nMax_IBU                int64\nAstringency            int64\nBody                   int64\nAlcohol                int64\nBitter                 int64\nSweet                  int64\nSour                   int64\nSalty                  int64\nFruits                 int64\nHoppy                  int64\nSpices                 int64\nMalty                  int64\nreview_aroma         float64\nreview_appearance    float64\nreview_palate        float64\nreview_taste         float64\nreview_overall       float64\nnumber_of_reviews      int64\ndtype: object"
     },
     "execution_count": 8,
     "metadata": {},
     "output_type": "execute_result"
    }
   ],
   "source": [
    "# View data types\n",
    "beer_df.dtypes"
   ]
  },
  {
   "cell_type": "code",
   "execution_count": 9,
   "id": "099536c2-da24-499b-87e4-0c4b879e2404",
   "metadata": {
    "pycharm": {
     "name": "#%%\n"
    }
   },
   "outputs": [
    {
     "data": {
      "text/plain": "Name              3066\nStyle               43\nBrewery            934\nFull_Beer_Name    3197\nDescription       1841\ndtype: int64"
     },
     "execution_count": 9,
     "metadata": {},
     "output_type": "execute_result"
    }
   ],
   "source": [
    "# Number of Unique Values for Cat. Variables\n",
    "beer_df.select_dtypes(include=object).nunique()"
   ]
  },
  {
   "cell_type": "code",
   "execution_count": 10,
   "id": "5c220ad9-bd7d-4ca7-b442-7566f72b7106",
   "metadata": {
    "pycharm": {
     "name": "#%%\n"
    }
   },
   "outputs": [
    {
     "data": {
      "text/plain": "Lager                              567\nStout                              254\nWheat Beer                         206\nPorter                             164\nIPA                                163\nBock                               155\nStrong Ale                         148\nLambic                             100\nPale Ale                            98\nBrown Ale                           94\nRed Ale                             90\nPilsner                             86\nBitter                              74\nFarmhouse Ale                       72\nBlonde Ale                          64\nBarleywine                          64\nSour                                57\nMild Ale                            47\nDubbel                              41\nWinter Warmer                       40\nAltbier                             39\nTripel                              37\nRye Beer                            37\nFruit and Field Beer                37\nScotch Ale / Wee Heavy              35\nQuadrupel (Quad)                    34\nScottish Ale                        34\nOld Ale                             34\nKölsch                              32\nLow Alcohol Beer                    32\nPumpkin Beer                        30\nSmoked Beer                         28\nChile Beer                          25\nCream Ale                           24\nHerb and Spice Beer                 24\nHapposhu                            23\nWild Ale                            23\nKvass                               21\nCalifornia Common / Steam Beer      20\nGruit / Ancient Herbed Ale          19\nBraggot                             14\nBière de Champagne / Bière Brut      8\nBrett Beer                           3\nName: Style, dtype: int64"
     },
     "execution_count": 10,
     "metadata": {},
     "output_type": "execute_result"
    }
   ],
   "source": [
    "style_counts = beer_df['Style'].value_counts()\n",
    "style_counts"
   ]
  },
  {
   "cell_type": "code",
   "execution_count": 11,
   "id": "b5476d72-730c-4876-b817-aa8c515dbdf3",
   "metadata": {
    "pycharm": {
     "name": "#%%\n"
    }
   },
   "outputs": [
    {
     "data": {
      "text/plain": "Lager                     567\nStout                     254\nWheat Beer                206\nPorter                    164\nIPA                       163\nBock                      155\nStrong Ale                148\nLambic                    100\nPale Ale                   98\nBrown Ale                  94\nRed Ale                    90\nPilsner                    86\nOther                      85\nBitter                     74\nFarmhouse Ale              72\nBarleywine                 64\nBlonde Ale                 64\nSour                       57\nMild Ale                   47\nDubbel                     41\nWinter Warmer              40\nAltbier                    39\nRye Beer                   37\nTripel                     37\nFruit and Field Beer       37\nScotch Ale / Wee Heavy     35\nOld Ale                    34\nQuadrupel (Quad)           34\nScottish Ale               34\nLow Alcohol Beer           32\nKölsch                     32\nPumpkin Beer               30\nSmoked Beer                28\nChile Beer                 25\nHerb and Spice Beer        24\nCream Ale                  24\nHapposhu                   23\nWild Ale                   23\nName: Style, dtype: int64"
     },
     "execution_count": 11,
     "metadata": {},
     "output_type": "execute_result"
    }
   ],
   "source": [
    "replace_styles = list(style_counts[style_counts < 23].index)\n",
    "\n",
    "# Replace in DataFrame\n",
    "for style in replace_styles:\n",
    "    beer_df['Style'] = beer_df['Style'].replace(style,\"Other\")\n",
    "\n",
    "# Check to make sure binning was successful\n",
    "beer_df['Style'].value_counts()"
   ]
  },
  {
   "cell_type": "code",
   "execution_count": 12,
   "id": "3bb50287-64c4-4857-b132-c3d63fdcba2f",
   "metadata": {
    "pycharm": {
     "name": "#%%\n"
    }
   },
   "outputs": [],
   "source": [
    "# Connect to SQLite database\n",
    "conn = sqlite3.connect(r'./beer_data.sqlite')"
   ]
  },
  {
   "cell_type": "code",
   "execution_count": 13,
   "id": "5f241f1e-6a84-4436-b936-68122a3b4966",
   "metadata": {
    "pycharm": {
     "name": "#%%\n"
    }
   },
   "outputs": [],
   "source": [
    "# Write the data to a sqlite table\n",
    "beer_df.to_sql('all_beer_data', conn, if_exists='replace', index=False)"
   ]
  },
  {
   "cell_type": "code",
   "execution_count": 14,
   "outputs": [],
   "source": [
    "c = conn.cursor()"
   ],
   "metadata": {
    "collapsed": false,
    "pycharm": {
     "name": "#%%\n"
    }
   }
  },
  {
   "cell_type": "code",
   "execution_count": 24,
   "outputs": [
    {
     "data": {
      "text/plain": "<sqlite3.Cursor at 0x20bc60679d0>"
     },
     "execution_count": 24,
     "metadata": {},
     "output_type": "execute_result"
    }
   ],
   "source": [
    "c.execute('''DROP TABLE reviews''')\n",
    "c.execute('''DROP TABLE beer_stats''')\n",
    "c.execute('''DROP TABLE beer_labels''')"
   ],
   "metadata": {
    "collapsed": false,
    "pycharm": {
     "name": "#%%\n"
    }
   }
  },
  {
   "cell_type": "code",
   "execution_count": 25,
   "outputs": [
    {
     "data": {
      "text/plain": "<sqlite3.Cursor at 0x20bc60679d0>"
     },
     "execution_count": 25,
     "metadata": {},
     "output_type": "execute_result"
    }
   ],
   "source": [
    "c.execute('''CREATE TABLE beer_labels AS SELECT Name, Style, Brewery, Full_Beer_Name, Description FROM all_beer_data''')"
   ],
   "metadata": {
    "collapsed": false,
    "pycharm": {
     "name": "#%%\n"
    }
   }
  },
  {
   "cell_type": "code",
   "execution_count": 26,
   "outputs": [
    {
     "data": {
      "text/plain": "<sqlite3.Cursor at 0x20bc60679d0>"
     },
     "execution_count": 26,
     "metadata": {},
     "output_type": "execute_result"
    }
   ],
   "source": [
    "c.execute('''CREATE TABLE beer_stats AS SELECT Name, Brewery, Style, ABV,\n",
    "       Min_IBU, Max_IBU, Astringency, Body, Alcohol, Bitter, Sweet, Sour, Salty, Fruits, Hoppy, Spices, Malty FROM all_beer_data''')"
   ],
   "metadata": {
    "collapsed": false,
    "pycharm": {
     "name": "#%%\n"
    }
   }
  },
  {
   "cell_type": "code",
   "execution_count": 27,
   "outputs": [
    {
     "data": {
      "text/plain": "<sqlite3.Cursor at 0x20bc60679d0>"
     },
     "execution_count": 27,
     "metadata": {},
     "output_type": "execute_result"
    }
   ],
   "source": [
    "c.execute('''CREATE TABLE reviews AS SELECT Name, Brewery, Style, ABV, review_overall, review_aroma, review_appearance, review_palate, review_taste, number_of_reviews FROM all_beer_data''')"
   ],
   "metadata": {
    "collapsed": false,
    "pycharm": {
     "name": "#%%\n"
    }
   }
  }
 ],
 "metadata": {
  "kernelspec": {
   "display_name": "PythonData",
   "language": "python",
   "name": "pythondata"
  },
  "language_info": {
   "codemirror_mode": {
    "name": "ipython",
    "version": 3
   },
   "file_extension": ".py",
   "mimetype": "text/x-python",
   "name": "python",
   "nbconvert_exporter": "python",
   "pygments_lexer": "ipython3",
   "version": "3.9.12"
  }
 },
 "nbformat": 4,
 "nbformat_minor": 5
}
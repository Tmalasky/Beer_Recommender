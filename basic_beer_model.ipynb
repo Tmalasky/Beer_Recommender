{
 "cells": [
  {
   "cell_type": "code",
   "execution_count": 1,
   "outputs": [],
   "source": [
    "# Dependencies\n",
    "from sklearn.model_selection import train_test_split\n",
    "from sklearn.preprocessing import StandardScaler,OneHotEncoder\n",
    "import pandas as pd\n",
    "import tensorflow as tf"
   ],
   "metadata": {
    "collapsed": false,
    "pycharm": {
     "name": "#%%\n"
    }
   }
  },
  {
   "cell_type": "code",
   "execution_count": 3,
   "outputs": [
    {
     "data": {
      "text/plain": "                                          Name          Style  \\\n0                                        Amber        Altbier   \n1                                   Double Bag        Altbier   \n2                               Long Trail Ale        Altbier   \n3                                 Doppelsticke        Altbier   \n4                 Sleigh'r Dark Doüble Alt Ale        Altbier   \n...                                        ...            ...   \n3192                           Winter Shredder  Winter Warmer   \n3193                        The First Snow Ale  Winter Warmer   \n3194                       Red Nose Winter Ale  Winter Warmer   \n3195                      Fish Tale Winterfish  Winter Warmer   \n3196  Frosted Frog Christmas Ale - Barrel-Aged  Winter Warmer   \n\n                                               Brewery  \\\n0                                  Alaskan Brewing Co.   \n1                               Long Trail Brewing Co.   \n2                               Long Trail Brewing Co.   \n3     Uerige Obergärige Hausbrauerei GmbH / Zum Uerige   \n4                              Ninkasi Brewing Company   \n...                                                ...   \n3192                                Cisco Brewers Inc.   \n3193                        RJ Rockers Brewing Company   \n3194                  Natty Greene's Pub & Brewing Co.   \n3195           Fish Brewing Company / Fishbowl Brewpub   \n3196                              Hoppin' Frog Brewery   \n\n                                       Beer Name (Full)  \\\n0                     Alaskan Brewing Co. Alaskan Amber   \n1                     Long Trail Brewing Co. Double Bag   \n2                 Long Trail Brewing Co. Long Trail Ale   \n3     Uerige Obergärige Hausbrauerei GmbH / Zum Ueri...   \n4     Ninkasi Brewing Company Sleigh'r Dark Doüble A...   \n...                                                 ...   \n3192                 Cisco Brewers Inc. Winter Shredder   \n3193          RJ Rockers Brewing Company First Snow Ale   \n3194  Natty Greene's Pub & Brewing Co. Red Nose Wint...   \n3195  Fish Brewing Company / Fishbowl Brewpub Fish T...   \n3196  Hoppin' Frog Brewery Barrel Aged Frosted Frog ...   \n\n                                            Description  ABV  Min IBU  \\\n0     Notes:Richly malty and long on the palate, wit...  5.3       25   \n1     Notes:This malty, full-bodied double alt is al...  7.2       25   \n2     Notes:Long Trail Ale is a full-bodied amber al...  5.0       25   \n3                                                Notes:  8.5       25   \n4     Notes:Called 'Dark Double Alt' on the label.Se...  7.2       25   \n...                                                 ...  ...      ...   \n3192                                             Notes:  8.8       35   \n3193  Notes:This hearty American pale ale contains a...  6.0       35   \n3194                                             Notes:  6.8       35   \n3195                                             Notes:  7.5       35   \n3196  Notes:The essence of Christmas is captured in ...  8.6       35   \n\n      Max IBU  Astringency  Body  ...  Fruits  Hoppy  Spices  Malty  \\\n0          50           13    32  ...      33     57       8    111   \n1          50           12    57  ...      24     35      12     84   \n2          50           14    37  ...      10     54       4     62   \n3          50           13    55  ...      49     40      16    119   \n4          50           25    51  ...      11     51      20     95   \n...       ...          ...   ...  ...     ...    ...     ...    ...   \n3192       50           15    37  ...      23     45      67     74   \n3193       50           15    31  ...      54     14     140     58   \n3194       50            8    44  ...      26     21      96     77   \n3195       50           11    36  ...      81    110      18     73   \n3196       50            8    50  ...      33     16     148     69   \n\n      review_aroma  review_appearance  review_palate  review_taste  \\\n0         3.498994           3.636821       3.556338      3.643863   \n1         3.798337           3.846154       3.904366      4.024948   \n2         3.409814           3.667109       3.600796      3.631300   \n3         4.148098           4.033967       4.150815      4.205163   \n4         3.625000           3.973958       3.734375      3.765625   \n...            ...                ...            ...           ...   \n3192      4.125000           3.875000       3.875000      3.750000   \n3193      3.950000           3.750000       3.760000      3.790000   \n3194      3.576923           3.711538       3.596154      3.673077   \n3195      3.902299           3.885057       3.862069      3.902299   \n3196      3.888889           3.694444       3.833333      3.555556   \n\n      review_overall  number_of_reviews  \n0           3.847082                497  \n1           4.034304                481  \n2           3.830239                377  \n3           4.005435                368  \n4           3.817708                 96  \n...              ...                ...  \n3192        3.731089                  4  \n3193        3.730000                 50  \n3194        3.711538                 26  \n3195        3.879310                 87  \n3196        3.778311                 18  \n\n[3197 rows x 25 columns]",
      "text/html": "<div>\n<style scoped>\n    .dataframe tbody tr th:only-of-type {\n        vertical-align: middle;\n    }\n\n    .dataframe tbody tr th {\n        vertical-align: top;\n    }\n\n    .dataframe thead th {\n        text-align: right;\n    }\n</style>\n<table border=\"1\" class=\"dataframe\">\n  <thead>\n    <tr style=\"text-align: right;\">\n      <th></th>\n      <th>Name</th>\n      <th>Style</th>\n      <th>Brewery</th>\n      <th>Beer Name (Full)</th>\n      <th>Description</th>\n      <th>ABV</th>\n      <th>Min IBU</th>\n      <th>Max IBU</th>\n      <th>Astringency</th>\n      <th>Body</th>\n      <th>...</th>\n      <th>Fruits</th>\n      <th>Hoppy</th>\n      <th>Spices</th>\n      <th>Malty</th>\n      <th>review_aroma</th>\n      <th>review_appearance</th>\n      <th>review_palate</th>\n      <th>review_taste</th>\n      <th>review_overall</th>\n      <th>number_of_reviews</th>\n    </tr>\n  </thead>\n  <tbody>\n    <tr>\n      <th>0</th>\n      <td>Amber</td>\n      <td>Altbier</td>\n      <td>Alaskan Brewing Co.</td>\n      <td>Alaskan Brewing Co. Alaskan Amber</td>\n      <td>Notes:Richly malty and long on the palate, wit...</td>\n      <td>5.3</td>\n      <td>25</td>\n      <td>50</td>\n      <td>13</td>\n      <td>32</td>\n      <td>...</td>\n      <td>33</td>\n      <td>57</td>\n      <td>8</td>\n      <td>111</td>\n      <td>3.498994</td>\n      <td>3.636821</td>\n      <td>3.556338</td>\n      <td>3.643863</td>\n      <td>3.847082</td>\n      <td>497</td>\n    </tr>\n    <tr>\n      <th>1</th>\n      <td>Double Bag</td>\n      <td>Altbier</td>\n      <td>Long Trail Brewing Co.</td>\n      <td>Long Trail Brewing Co. Double Bag</td>\n      <td>Notes:This malty, full-bodied double alt is al...</td>\n      <td>7.2</td>\n      <td>25</td>\n      <td>50</td>\n      <td>12</td>\n      <td>57</td>\n      <td>...</td>\n      <td>24</td>\n      <td>35</td>\n      <td>12</td>\n      <td>84</td>\n      <td>3.798337</td>\n      <td>3.846154</td>\n      <td>3.904366</td>\n      <td>4.024948</td>\n      <td>4.034304</td>\n      <td>481</td>\n    </tr>\n    <tr>\n      <th>2</th>\n      <td>Long Trail Ale</td>\n      <td>Altbier</td>\n      <td>Long Trail Brewing Co.</td>\n      <td>Long Trail Brewing Co. Long Trail Ale</td>\n      <td>Notes:Long Trail Ale is a full-bodied amber al...</td>\n      <td>5.0</td>\n      <td>25</td>\n      <td>50</td>\n      <td>14</td>\n      <td>37</td>\n      <td>...</td>\n      <td>10</td>\n      <td>54</td>\n      <td>4</td>\n      <td>62</td>\n      <td>3.409814</td>\n      <td>3.667109</td>\n      <td>3.600796</td>\n      <td>3.631300</td>\n      <td>3.830239</td>\n      <td>377</td>\n    </tr>\n    <tr>\n      <th>3</th>\n      <td>Doppelsticke</td>\n      <td>Altbier</td>\n      <td>Uerige Obergärige Hausbrauerei GmbH / Zum Uerige</td>\n      <td>Uerige Obergärige Hausbrauerei GmbH / Zum Ueri...</td>\n      <td>Notes:</td>\n      <td>8.5</td>\n      <td>25</td>\n      <td>50</td>\n      <td>13</td>\n      <td>55</td>\n      <td>...</td>\n      <td>49</td>\n      <td>40</td>\n      <td>16</td>\n      <td>119</td>\n      <td>4.148098</td>\n      <td>4.033967</td>\n      <td>4.150815</td>\n      <td>4.205163</td>\n      <td>4.005435</td>\n      <td>368</td>\n    </tr>\n    <tr>\n      <th>4</th>\n      <td>Sleigh'r Dark Doüble Alt Ale</td>\n      <td>Altbier</td>\n      <td>Ninkasi Brewing Company</td>\n      <td>Ninkasi Brewing Company Sleigh'r Dark Doüble A...</td>\n      <td>Notes:Called 'Dark Double Alt' on the label.Se...</td>\n      <td>7.2</td>\n      <td>25</td>\n      <td>50</td>\n      <td>25</td>\n      <td>51</td>\n      <td>...</td>\n      <td>11</td>\n      <td>51</td>\n      <td>20</td>\n      <td>95</td>\n      <td>3.625000</td>\n      <td>3.973958</td>\n      <td>3.734375</td>\n      <td>3.765625</td>\n      <td>3.817708</td>\n      <td>96</td>\n    </tr>\n    <tr>\n      <th>...</th>\n      <td>...</td>\n      <td>...</td>\n      <td>...</td>\n      <td>...</td>\n      <td>...</td>\n      <td>...</td>\n      <td>...</td>\n      <td>...</td>\n      <td>...</td>\n      <td>...</td>\n      <td>...</td>\n      <td>...</td>\n      <td>...</td>\n      <td>...</td>\n      <td>...</td>\n      <td>...</td>\n      <td>...</td>\n      <td>...</td>\n      <td>...</td>\n      <td>...</td>\n      <td>...</td>\n    </tr>\n    <tr>\n      <th>3192</th>\n      <td>Winter Shredder</td>\n      <td>Winter Warmer</td>\n      <td>Cisco Brewers Inc.</td>\n      <td>Cisco Brewers Inc. Winter Shredder</td>\n      <td>Notes:</td>\n      <td>8.8</td>\n      <td>35</td>\n      <td>50</td>\n      <td>15</td>\n      <td>37</td>\n      <td>...</td>\n      <td>23</td>\n      <td>45</td>\n      <td>67</td>\n      <td>74</td>\n      <td>4.125000</td>\n      <td>3.875000</td>\n      <td>3.875000</td>\n      <td>3.750000</td>\n      <td>3.731089</td>\n      <td>4</td>\n    </tr>\n    <tr>\n      <th>3193</th>\n      <td>The First Snow Ale</td>\n      <td>Winter Warmer</td>\n      <td>RJ Rockers Brewing Company</td>\n      <td>RJ Rockers Brewing Company First Snow Ale</td>\n      <td>Notes:This hearty American pale ale contains a...</td>\n      <td>6.0</td>\n      <td>35</td>\n      <td>50</td>\n      <td>15</td>\n      <td>31</td>\n      <td>...</td>\n      <td>54</td>\n      <td>14</td>\n      <td>140</td>\n      <td>58</td>\n      <td>3.950000</td>\n      <td>3.750000</td>\n      <td>3.760000</td>\n      <td>3.790000</td>\n      <td>3.730000</td>\n      <td>50</td>\n    </tr>\n    <tr>\n      <th>3194</th>\n      <td>Red Nose Winter Ale</td>\n      <td>Winter Warmer</td>\n      <td>Natty Greene's Pub &amp; Brewing Co.</td>\n      <td>Natty Greene's Pub &amp; Brewing Co. Red Nose Wint...</td>\n      <td>Notes:</td>\n      <td>6.8</td>\n      <td>35</td>\n      <td>50</td>\n      <td>8</td>\n      <td>44</td>\n      <td>...</td>\n      <td>26</td>\n      <td>21</td>\n      <td>96</td>\n      <td>77</td>\n      <td>3.576923</td>\n      <td>3.711538</td>\n      <td>3.596154</td>\n      <td>3.673077</td>\n      <td>3.711538</td>\n      <td>26</td>\n    </tr>\n    <tr>\n      <th>3195</th>\n      <td>Fish Tale Winterfish</td>\n      <td>Winter Warmer</td>\n      <td>Fish Brewing Company / Fishbowl Brewpub</td>\n      <td>Fish Brewing Company / Fishbowl Brewpub Fish T...</td>\n      <td>Notes:</td>\n      <td>7.5</td>\n      <td>35</td>\n      <td>50</td>\n      <td>11</td>\n      <td>36</td>\n      <td>...</td>\n      <td>81</td>\n      <td>110</td>\n      <td>18</td>\n      <td>73</td>\n      <td>3.902299</td>\n      <td>3.885057</td>\n      <td>3.862069</td>\n      <td>3.902299</td>\n      <td>3.879310</td>\n      <td>87</td>\n    </tr>\n    <tr>\n      <th>3196</th>\n      <td>Frosted Frog Christmas Ale - Barrel-Aged</td>\n      <td>Winter Warmer</td>\n      <td>Hoppin' Frog Brewery</td>\n      <td>Hoppin' Frog Brewery Barrel Aged Frosted Frog ...</td>\n      <td>Notes:The essence of Christmas is captured in ...</td>\n      <td>8.6</td>\n      <td>35</td>\n      <td>50</td>\n      <td>8</td>\n      <td>50</td>\n      <td>...</td>\n      <td>33</td>\n      <td>16</td>\n      <td>148</td>\n      <td>69</td>\n      <td>3.888889</td>\n      <td>3.694444</td>\n      <td>3.833333</td>\n      <td>3.555556</td>\n      <td>3.778311</td>\n      <td>18</td>\n    </tr>\n  </tbody>\n</table>\n<p>3197 rows × 25 columns</p>\n</div>"
     },
     "execution_count": 3,
     "metadata": {},
     "output_type": "execute_result"
    }
   ],
   "source": [
    "# Read in data\n",
    "beer_df = pd.read_csv(\"./beer_recommender/Resources/updated_beer_profile_and_ratings.csv\")\n",
    "beer_df"
   ],
   "metadata": {
    "collapsed": false,
    "pycharm": {
     "name": "#%%\n"
    }
   }
  },
  {
   "cell_type": "code",
   "execution_count": 4,
   "outputs": [
    {
     "data": {
      "text/plain": "Name                 0\nStyle                0\nBrewery              0\nBeer Name (Full)     0\nDescription          0\nABV                  0\nMin IBU              0\nMax IBU              0\nAstringency          0\nBody                 0\nAlcohol              0\nBitter               0\nSweet                0\nSour                 0\nSalty                0\nFruits               0\nHoppy                0\nSpices               0\nMalty                0\nreview_aroma         0\nreview_appearance    0\nreview_palate        0\nreview_taste         0\nreview_overall       0\nnumber_of_reviews    0\ndtype: int64"
     },
     "execution_count": 4,
     "metadata": {},
     "output_type": "execute_result"
    }
   ],
   "source": [
    "# Check null cells\n",
    "beer_df.isnull().sum()"
   ],
   "metadata": {
    "collapsed": false,
    "pycharm": {
     "name": "#%%\n"
    }
   }
  },
  {
   "cell_type": "code",
   "execution_count": 5,
   "outputs": [
    {
     "data": {
      "text/plain": "Name                  object\nStyle                 object\nBrewery               object\nBeer Name (Full)      object\nDescription           object\nABV                  float64\nMin IBU                int64\nMax IBU                int64\nAstringency            int64\nBody                   int64\nAlcohol                int64\nBitter                 int64\nSweet                  int64\nSour                   int64\nSalty                  int64\nFruits                 int64\nHoppy                  int64\nSpices                 int64\nMalty                  int64\nreview_aroma         float64\nreview_appearance    float64\nreview_palate        float64\nreview_taste         float64\nreview_overall       float64\nnumber_of_reviews      int64\ndtype: object"
     },
     "execution_count": 5,
     "metadata": {},
     "output_type": "execute_result"
    }
   ],
   "source": [
    "# View data types\n",
    "beer_df.dtypes"
   ],
   "metadata": {
    "collapsed": false,
    "pycharm": {
     "name": "#%%\n"
    }
   }
  },
  {
   "cell_type": "code",
   "execution_count": 6,
   "outputs": [
    {
     "data": {
      "text/plain": "Name                3066\nStyle                 43\nBrewery              934\nBeer Name (Full)    3197\nDescription         1841\ndtype: int64"
     },
     "execution_count": 6,
     "metadata": {},
     "output_type": "execute_result"
    }
   ],
   "source": [
    "# Number of Unique Values for Cat. Variables\n",
    "beer_df.select_dtypes(include=object).nunique()"
   ],
   "metadata": {
    "collapsed": false,
    "pycharm": {
     "name": "#%%\n"
    }
   }
  },
  {
   "cell_type": "code",
   "execution_count": 9,
   "outputs": [
    {
     "data": {
      "text/plain": "Lager                              567\nStout                              254\nWheat Beer                         206\nPorter                             164\nIPA                                163\nBock                               155\nStrong Ale                         148\nLambic                             100\nPale Ale                            98\nBrown Ale                           94\nRed Ale                             90\nPilsner                             86\nBitter                              74\nFarmhouse Ale                       72\nBlonde Ale                          64\nBarleywine                          64\nSour                                57\nMild Ale                            47\nDubbel                              41\nWinter Warmer                       40\nAltbier                             39\nTripel                              37\nRye Beer                            37\nFruit and Field Beer                37\nScotch Ale / Wee Heavy              35\nQuadrupel (Quad)                    34\nScottish Ale                        34\nOld Ale                             34\nKölsch                              32\nLow Alcohol Beer                    32\nPumpkin Beer                        30\nSmoked Beer                         28\nChile Beer                          25\nCream Ale                           24\nHerb and Spice Beer                 24\nHapposhu                            23\nWild Ale                            23\nKvass                               21\nCalifornia Common / Steam Beer      20\nGruit / Ancient Herbed Ale          19\nBraggot                             14\nBière de Champagne / Bière Brut      8\nBrett Beer                           3\nName: Style, dtype: int64"
     },
     "execution_count": 9,
     "metadata": {},
     "output_type": "execute_result"
    }
   ],
   "source": [
    "style_counts = beer_df['Style'].value_counts()\n",
    "style_counts"
   ],
   "metadata": {
    "collapsed": false,
    "pycharm": {
     "name": "#%%\n"
    }
   }
  },
  {
   "cell_type": "code",
   "execution_count": 11,
   "outputs": [
    {
     "data": {
      "text/plain": "Lager                     567\nStout                     254\nWheat Beer                206\nPorter                    164\nIPA                       163\nBock                      155\nStrong Ale                148\nLambic                    100\nPale Ale                   98\nBrown Ale                  94\nRed Ale                    90\nPilsner                    86\nOther                      85\nBitter                     74\nFarmhouse Ale              72\nBarleywine                 64\nBlonde Ale                 64\nSour                       57\nMild Ale                   47\nDubbel                     41\nWinter Warmer              40\nAltbier                    39\nRye Beer                   37\nTripel                     37\nFruit and Field Beer       37\nScotch Ale / Wee Heavy     35\nOld Ale                    34\nQuadrupel (Quad)           34\nScottish Ale               34\nLow Alcohol Beer           32\nKölsch                     32\nPumpkin Beer               30\nSmoked Beer                28\nChile Beer                 25\nHerb and Spice Beer        24\nCream Ale                  24\nHapposhu                   23\nWild Ale                   23\nName: Style, dtype: int64"
     },
     "execution_count": 11,
     "metadata": {},
     "output_type": "execute_result"
    }
   ],
   "source": [
    "replace_styles = list(style_counts[style_counts < 23].index)\n",
    "\n",
    "# Replace in DataFrame\n",
    "for style in replace_styles:\n",
    "    beer_df['Style'] = beer_df['Style'].replace(style,\"Other\")\n",
    "\n",
    "# Check to make sure binning was successful\n",
    "beer_df['Style'].value_counts()"
   ],
   "metadata": {
    "collapsed": false,
    "pycharm": {
     "name": "#%%\n"
    }
   }
  },
  {
   "cell_type": "code",
   "execution_count": null,
   "outputs": [],
   "source": [],
   "metadata": {
    "collapsed": false,
    "pycharm": {
     "name": "#%%\n"
    }
   }
  }
 ],
 "metadata": {
  "kernelspec": {
   "name": "mlenv",
   "language": "python",
   "display_name": "mlenv"
  },
  "language_info": {
   "codemirror_mode": {
    "name": "ipython",
    "version": 2
   },
   "file_extension": ".py",
   "mimetype": "text/x-python",
   "name": "python",
   "nbconvert_exporter": "python",
   "pygments_lexer": "ipython2",
   "version": "2.7.6"
  }
 },
 "nbformat": 4,
 "nbformat_minor": 0
}
{
 "cells": [
  {
   "cell_type": "code",
   "execution_count": 1,
   "outputs": [],
   "source": [
    "# Machine Learning toolkit\n",
    "import os\n",
    "from sklearn.model_selection import train_test_split\n",
    "from sklearn.preprocessing import MinMaxScaler,OneHotEncoder\n",
    "from sklearn.neighbors import NearestNeighbors\n",
    "import pandas as pd\n",
    "import numpy as np\n",
    "import tensorflow as tf\n",
    "from tensorflow.keras.callbacks import ModelCheckpoint\n",
    "\n",
    "# Python SQL toolkit and Object Relational Mapper\n",
    "import sqlite3"
   ],
   "metadata": {
    "collapsed": false,
    "pycharm": {
     "name": "#%%\n"
    }
   }
  },
  {
   "cell_type": "code",
   "execution_count": 2,
   "outputs": [],
   "source": [
    "con = sqlite3.connect(\"./beer_data.sqlite\")\n",
    "c = con.cursor()"
   ],
   "metadata": {
    "collapsed": false,
    "pycharm": {
     "name": "#%%\n"
    }
   }
  },
  {
   "cell_type": "code",
   "execution_count": 3,
   "outputs": [],
   "source": [
    "beers_df = pd.read_sql_query(\"SELECT * FROM taste_profiles\", con)\n",
    "reviews_df = pd.read_sql_query(\"SELECT * FROM reviews\", con)"
   ],
   "metadata": {
    "collapsed": false,
    "pycharm": {
     "name": "#%%\n"
    }
   }
  },
  {
   "cell_type": "code",
   "execution_count": 4,
   "outputs": [],
   "source": [
    "# Insert Description column\n",
    "reviews_df.insert(3, 'Description', pd.read_sql_query(\"SELECT Description FROM beer_labels\", con).values)\n",
    "\n",
    "# Format Description column\n",
    "remove_notes = [val.replace('Notes:', '') for val in reviews_df['Description'].values]\n",
    "reviews_df['Description'] = remove_notes\n",
    "\n",
    "reviews_df['Description'] = reviews_df['Description'].map(\n",
    "    lambda desc: 'No description available.' if desc == '' else desc\n",
    ")"
   ],
   "metadata": {
    "collapsed": false,
    "pycharm": {
     "name": "#%%\n"
    }
   }
  },
  {
   "cell_type": "code",
   "execution_count": 5,
   "outputs": [
    {
     "data": {
      "text/plain": "                                          Name  \\\n0                                        Amber   \n1                                   Double Bag   \n2                               Long Trail Ale   \n3                                 Doppelsticke   \n4                 Sleigh'r Dark Doüble Alt Ale   \n...                                        ...   \n3192                           Winter Shredder   \n3193                        The First Snow Ale   \n3194                       Red Nose Winter Ale   \n3195                      Fish Tale Winterfish   \n3196  Frosted Frog Christmas Ale - Barrel-Aged   \n\n                                               Brewery          Style  \\\n0                                  Alaskan Brewing Co.        Altbier   \n1                               Long Trail Brewing Co.        Altbier   \n2                               Long Trail Brewing Co.        Altbier   \n3     Uerige Obergärige Hausbrauerei GmbH / Zum Uerige        Altbier   \n4                              Ninkasi Brewing Company        Altbier   \n...                                                ...            ...   \n3192                                Cisco Brewers Inc.  Winter Warmer   \n3193                        RJ Rockers Brewing Company  Winter Warmer   \n3194                  Natty Greene's Pub & Brewing Co.  Winter Warmer   \n3195           Fish Brewing Company / Fishbowl Brewpub  Winter Warmer   \n3196                              Hoppin' Frog Brewery  Winter Warmer   \n\n                                            Description  ABV review_overall  \\\n0     Richly malty and long on the palate, with just...  5.3           3.85   \n1     This malty, full-bodied double alt is also kno...  7.2           4.03   \n2     Long Trail Ale is a full-bodied amber ale mode...  5.0           3.83   \n3                             No description available.  8.5           4.01   \n4     Called 'Dark Double Alt' on the label.Seize th...  7.2           3.82   \n...                                                 ...  ...            ...   \n3192                          No description available.  8.8           3.73   \n3193  This hearty American pale ale contains a rich ...  6.0           3.73   \n3194                          No description available.  6.8           3.71   \n3195                          No description available.  7.5           3.88   \n3196  The essence of Christmas is captured in this v...  8.6           3.78   \n\n     review_aroma review_appearance review_palate review_taste  \\\n0            3.50              3.64          3.56         3.64   \n1            3.80              3.85          3.90         4.02   \n2            3.41              3.67          3.60         3.63   \n3            4.15              4.03          4.15         4.21   \n4            3.62              3.97          3.73         3.77   \n...           ...               ...           ...          ...   \n3192         4.12              3.88          3.88         3.75   \n3193         3.95              3.75          3.76         3.79   \n3194         3.58              3.71          3.60         3.67   \n3195         3.90              3.89          3.86         3.90   \n3196         3.89              3.69          3.83         3.56   \n\n      number_of_reviews  \n0                   497  \n1                   481  \n2                   377  \n3                   368  \n4                    96  \n...                 ...  \n3192                  4  \n3193                 50  \n3194                 26  \n3195                 87  \n3196                 18  \n\n[3197 rows x 11 columns]",
      "text/html": "<div>\n<style scoped>\n    .dataframe tbody tr th:only-of-type {\n        vertical-align: middle;\n    }\n\n    .dataframe tbody tr th {\n        vertical-align: top;\n    }\n\n    .dataframe thead th {\n        text-align: right;\n    }\n</style>\n<table border=\"1\" class=\"dataframe\">\n  <thead>\n    <tr style=\"text-align: right;\">\n      <th></th>\n      <th>Name</th>\n      <th>Brewery</th>\n      <th>Style</th>\n      <th>Description</th>\n      <th>ABV</th>\n      <th>review_overall</th>\n      <th>review_aroma</th>\n      <th>review_appearance</th>\n      <th>review_palate</th>\n      <th>review_taste</th>\n      <th>number_of_reviews</th>\n    </tr>\n  </thead>\n  <tbody>\n    <tr>\n      <th>0</th>\n      <td>Amber</td>\n      <td>Alaskan Brewing Co.</td>\n      <td>Altbier</td>\n      <td>Richly malty and long on the palate, with just...</td>\n      <td>5.3</td>\n      <td>3.85</td>\n      <td>3.50</td>\n      <td>3.64</td>\n      <td>3.56</td>\n      <td>3.64</td>\n      <td>497</td>\n    </tr>\n    <tr>\n      <th>1</th>\n      <td>Double Bag</td>\n      <td>Long Trail Brewing Co.</td>\n      <td>Altbier</td>\n      <td>This malty, full-bodied double alt is also kno...</td>\n      <td>7.2</td>\n      <td>4.03</td>\n      <td>3.80</td>\n      <td>3.85</td>\n      <td>3.90</td>\n      <td>4.02</td>\n      <td>481</td>\n    </tr>\n    <tr>\n      <th>2</th>\n      <td>Long Trail Ale</td>\n      <td>Long Trail Brewing Co.</td>\n      <td>Altbier</td>\n      <td>Long Trail Ale is a full-bodied amber ale mode...</td>\n      <td>5.0</td>\n      <td>3.83</td>\n      <td>3.41</td>\n      <td>3.67</td>\n      <td>3.60</td>\n      <td>3.63</td>\n      <td>377</td>\n    </tr>\n    <tr>\n      <th>3</th>\n      <td>Doppelsticke</td>\n      <td>Uerige Obergärige Hausbrauerei GmbH / Zum Uerige</td>\n      <td>Altbier</td>\n      <td>No description available.</td>\n      <td>8.5</td>\n      <td>4.01</td>\n      <td>4.15</td>\n      <td>4.03</td>\n      <td>4.15</td>\n      <td>4.21</td>\n      <td>368</td>\n    </tr>\n    <tr>\n      <th>4</th>\n      <td>Sleigh'r Dark Doüble Alt Ale</td>\n      <td>Ninkasi Brewing Company</td>\n      <td>Altbier</td>\n      <td>Called 'Dark Double Alt' on the label.Seize th...</td>\n      <td>7.2</td>\n      <td>3.82</td>\n      <td>3.62</td>\n      <td>3.97</td>\n      <td>3.73</td>\n      <td>3.77</td>\n      <td>96</td>\n    </tr>\n    <tr>\n      <th>...</th>\n      <td>...</td>\n      <td>...</td>\n      <td>...</td>\n      <td>...</td>\n      <td>...</td>\n      <td>...</td>\n      <td>...</td>\n      <td>...</td>\n      <td>...</td>\n      <td>...</td>\n      <td>...</td>\n    </tr>\n    <tr>\n      <th>3192</th>\n      <td>Winter Shredder</td>\n      <td>Cisco Brewers Inc.</td>\n      <td>Winter Warmer</td>\n      <td>No description available.</td>\n      <td>8.8</td>\n      <td>3.73</td>\n      <td>4.12</td>\n      <td>3.88</td>\n      <td>3.88</td>\n      <td>3.75</td>\n      <td>4</td>\n    </tr>\n    <tr>\n      <th>3193</th>\n      <td>The First Snow Ale</td>\n      <td>RJ Rockers Brewing Company</td>\n      <td>Winter Warmer</td>\n      <td>This hearty American pale ale contains a rich ...</td>\n      <td>6.0</td>\n      <td>3.73</td>\n      <td>3.95</td>\n      <td>3.75</td>\n      <td>3.76</td>\n      <td>3.79</td>\n      <td>50</td>\n    </tr>\n    <tr>\n      <th>3194</th>\n      <td>Red Nose Winter Ale</td>\n      <td>Natty Greene's Pub &amp; Brewing Co.</td>\n      <td>Winter Warmer</td>\n      <td>No description available.</td>\n      <td>6.8</td>\n      <td>3.71</td>\n      <td>3.58</td>\n      <td>3.71</td>\n      <td>3.60</td>\n      <td>3.67</td>\n      <td>26</td>\n    </tr>\n    <tr>\n      <th>3195</th>\n      <td>Fish Tale Winterfish</td>\n      <td>Fish Brewing Company / Fishbowl Brewpub</td>\n      <td>Winter Warmer</td>\n      <td>No description available.</td>\n      <td>7.5</td>\n      <td>3.88</td>\n      <td>3.90</td>\n      <td>3.89</td>\n      <td>3.86</td>\n      <td>3.90</td>\n      <td>87</td>\n    </tr>\n    <tr>\n      <th>3196</th>\n      <td>Frosted Frog Christmas Ale - Barrel-Aged</td>\n      <td>Hoppin' Frog Brewery</td>\n      <td>Winter Warmer</td>\n      <td>The essence of Christmas is captured in this v...</td>\n      <td>8.6</td>\n      <td>3.78</td>\n      <td>3.89</td>\n      <td>3.69</td>\n      <td>3.83</td>\n      <td>3.56</td>\n      <td>18</td>\n    </tr>\n  </tbody>\n</table>\n<p>3197 rows × 11 columns</p>\n</div>"
     },
     "execution_count": 5,
     "metadata": {},
     "output_type": "execute_result"
    }
   ],
   "source": [
    "# Round review scores to 2 decimal places\n",
    "for col in reviews_df.columns[5:10]:\n",
    "    reviews_df[col] = reviews_df[col].map(\"{:.2f}\".format)\n",
    "reviews_df"
   ],
   "metadata": {
    "collapsed": false,
    "pycharm": {
     "name": "#%%\n"
    }
   }
  },
  {
   "cell_type": "code",
   "execution_count": 6,
   "outputs": [
    {
     "data": {
      "text/plain": "             Name    Style                                           Brewery  \\\n0           Amber  Altbier                               Alaskan Brewing Co.   \n1           Amber  Altbier                               Alaskan Brewing Co.   \n2      Double Bag  Altbier                            Long Trail Brewing Co.   \n3  Long Trail Ale  Altbier                            Long Trail Brewing Co.   \n4    Doppelsticke  Altbier  Uerige Obergärige Hausbrauerei GmbH / Zum Uerige   \n\n   ABV  Min_IBU  Max_IBU  Astringency  Body  Alcohol  Bitter  Sweet  Sour  \\\n0  4.5       18       30           13    24        6      24     37     7   \n1  5.3       25       50           13    32        9      47     74    33   \n2  7.2       25       50           12    57       18      33     55    16   \n3  5.0       25       50           14    37        6      42     43    11   \n4  8.5       25       50           13    55       31      47    101    18   \n\n   Salty  Fruits  Hoppy  Spices  Malty  \n0      0       5     32       2     71  \n1      0      33     57       8    111  \n2      0      24     35      12     84  \n3      0      10     54       4     62  \n4      1      49     40      16    119  ",
      "text/html": "<div>\n<style scoped>\n    .dataframe tbody tr th:only-of-type {\n        vertical-align: middle;\n    }\n\n    .dataframe tbody tr th {\n        vertical-align: top;\n    }\n\n    .dataframe thead th {\n        text-align: right;\n    }\n</style>\n<table border=\"1\" class=\"dataframe\">\n  <thead>\n    <tr style=\"text-align: right;\">\n      <th></th>\n      <th>Name</th>\n      <th>Style</th>\n      <th>Brewery</th>\n      <th>ABV</th>\n      <th>Min_IBU</th>\n      <th>Max_IBU</th>\n      <th>Astringency</th>\n      <th>Body</th>\n      <th>Alcohol</th>\n      <th>Bitter</th>\n      <th>Sweet</th>\n      <th>Sour</th>\n      <th>Salty</th>\n      <th>Fruits</th>\n      <th>Hoppy</th>\n      <th>Spices</th>\n      <th>Malty</th>\n    </tr>\n  </thead>\n  <tbody>\n    <tr>\n      <th>0</th>\n      <td>Amber</td>\n      <td>Altbier</td>\n      <td>Alaskan Brewing Co.</td>\n      <td>4.5</td>\n      <td>18</td>\n      <td>30</td>\n      <td>13</td>\n      <td>24</td>\n      <td>6</td>\n      <td>24</td>\n      <td>37</td>\n      <td>7</td>\n      <td>0</td>\n      <td>5</td>\n      <td>32</td>\n      <td>2</td>\n      <td>71</td>\n    </tr>\n    <tr>\n      <th>1</th>\n      <td>Amber</td>\n      <td>Altbier</td>\n      <td>Alaskan Brewing Co.</td>\n      <td>5.3</td>\n      <td>25</td>\n      <td>50</td>\n      <td>13</td>\n      <td>32</td>\n      <td>9</td>\n      <td>47</td>\n      <td>74</td>\n      <td>33</td>\n      <td>0</td>\n      <td>33</td>\n      <td>57</td>\n      <td>8</td>\n      <td>111</td>\n    </tr>\n    <tr>\n      <th>2</th>\n      <td>Double Bag</td>\n      <td>Altbier</td>\n      <td>Long Trail Brewing Co.</td>\n      <td>7.2</td>\n      <td>25</td>\n      <td>50</td>\n      <td>12</td>\n      <td>57</td>\n      <td>18</td>\n      <td>33</td>\n      <td>55</td>\n      <td>16</td>\n      <td>0</td>\n      <td>24</td>\n      <td>35</td>\n      <td>12</td>\n      <td>84</td>\n    </tr>\n    <tr>\n      <th>3</th>\n      <td>Long Trail Ale</td>\n      <td>Altbier</td>\n      <td>Long Trail Brewing Co.</td>\n      <td>5.0</td>\n      <td>25</td>\n      <td>50</td>\n      <td>14</td>\n      <td>37</td>\n      <td>6</td>\n      <td>42</td>\n      <td>43</td>\n      <td>11</td>\n      <td>0</td>\n      <td>10</td>\n      <td>54</td>\n      <td>4</td>\n      <td>62</td>\n    </tr>\n    <tr>\n      <th>4</th>\n      <td>Doppelsticke</td>\n      <td>Altbier</td>\n      <td>Uerige Obergärige Hausbrauerei GmbH / Zum Uerige</td>\n      <td>8.5</td>\n      <td>25</td>\n      <td>50</td>\n      <td>13</td>\n      <td>55</td>\n      <td>31</td>\n      <td>47</td>\n      <td>101</td>\n      <td>18</td>\n      <td>1</td>\n      <td>49</td>\n      <td>40</td>\n      <td>16</td>\n      <td>119</td>\n    </tr>\n  </tbody>\n</table>\n</div>"
     },
     "execution_count": 6,
     "metadata": {},
     "output_type": "execute_result"
    }
   ],
   "source": [
    "# Check beer data\n",
    "beers_df.head()"
   ],
   "metadata": {
    "collapsed": false,
    "pycharm": {
     "name": "#%%\n"
    }
   }
  },
  {
   "cell_type": "code",
   "execution_count": 7,
   "outputs": [
    {
     "data": {
      "text/plain": "             Name    Style                                           Brewery  \\\n0           Amber  Altbier                               Alaskan Brewing Co.   \n1           Amber  Altbier                               Alaskan Brewing Co.   \n2      Double Bag  Altbier                            Long Trail Brewing Co.   \n3  Long Trail Ale  Altbier                            Long Trail Brewing Co.   \n4    Doppelsticke  Altbier  Uerige Obergärige Hausbrauerei GmbH / Zum Uerige   \n\n        ABV   Min_IBU  Max_IBU  Astringency      Body   Alcohol    Bitter  \\\n0  0.078261  0.276923      0.3     0.183099  0.338028  0.084507  0.338028   \n1  0.092174  0.384615      0.5     0.117117  0.288288  0.081081  0.423423   \n2  0.125217  0.384615      0.5     0.142857  0.678571  0.214286  0.392857   \n3  0.086957  0.384615      0.5     0.225806  0.596774  0.096774  0.677419   \n4  0.147826  0.384615      0.5     0.101695  0.457627  0.254237  0.389831   \n\n      Sweet      Sour  Salty    Fruits     Hoppy    Spices  Malty  \n0  0.521127  0.098592    0.0  0.070423  0.450704  0.028169    1.0  \n1  0.666667  0.297297    0.0  0.297297  0.513514  0.072072    1.0  \n2  0.654762  0.190476    0.0  0.285714  0.416667  0.142857    1.0  \n3  0.693548  0.177419    0.0  0.161290  0.870968  0.064516    1.0  \n4  0.847458  0.144068    0.0  0.406780  0.330508  0.127119    1.0  ",
      "text/html": "<div>\n<style scoped>\n    .dataframe tbody tr th:only-of-type {\n        vertical-align: middle;\n    }\n\n    .dataframe tbody tr th {\n        vertical-align: top;\n    }\n\n    .dataframe thead th {\n        text-align: right;\n    }\n</style>\n<table border=\"1\" class=\"dataframe\">\n  <thead>\n    <tr style=\"text-align: right;\">\n      <th></th>\n      <th>Name</th>\n      <th>Style</th>\n      <th>Brewery</th>\n      <th>ABV</th>\n      <th>Min_IBU</th>\n      <th>Max_IBU</th>\n      <th>Astringency</th>\n      <th>Body</th>\n      <th>Alcohol</th>\n      <th>Bitter</th>\n      <th>Sweet</th>\n      <th>Sour</th>\n      <th>Salty</th>\n      <th>Fruits</th>\n      <th>Hoppy</th>\n      <th>Spices</th>\n      <th>Malty</th>\n    </tr>\n  </thead>\n  <tbody>\n    <tr>\n      <th>0</th>\n      <td>Amber</td>\n      <td>Altbier</td>\n      <td>Alaskan Brewing Co.</td>\n      <td>0.078261</td>\n      <td>0.276923</td>\n      <td>0.3</td>\n      <td>0.183099</td>\n      <td>0.338028</td>\n      <td>0.084507</td>\n      <td>0.338028</td>\n      <td>0.521127</td>\n      <td>0.098592</td>\n      <td>0.0</td>\n      <td>0.070423</td>\n      <td>0.450704</td>\n      <td>0.028169</td>\n      <td>1.0</td>\n    </tr>\n    <tr>\n      <th>1</th>\n      <td>Amber</td>\n      <td>Altbier</td>\n      <td>Alaskan Brewing Co.</td>\n      <td>0.092174</td>\n      <td>0.384615</td>\n      <td>0.5</td>\n      <td>0.117117</td>\n      <td>0.288288</td>\n      <td>0.081081</td>\n      <td>0.423423</td>\n      <td>0.666667</td>\n      <td>0.297297</td>\n      <td>0.0</td>\n      <td>0.297297</td>\n      <td>0.513514</td>\n      <td>0.072072</td>\n      <td>1.0</td>\n    </tr>\n    <tr>\n      <th>2</th>\n      <td>Double Bag</td>\n      <td>Altbier</td>\n      <td>Long Trail Brewing Co.</td>\n      <td>0.125217</td>\n      <td>0.384615</td>\n      <td>0.5</td>\n      <td>0.142857</td>\n      <td>0.678571</td>\n      <td>0.214286</td>\n      <td>0.392857</td>\n      <td>0.654762</td>\n      <td>0.190476</td>\n      <td>0.0</td>\n      <td>0.285714</td>\n      <td>0.416667</td>\n      <td>0.142857</td>\n      <td>1.0</td>\n    </tr>\n    <tr>\n      <th>3</th>\n      <td>Long Trail Ale</td>\n      <td>Altbier</td>\n      <td>Long Trail Brewing Co.</td>\n      <td>0.086957</td>\n      <td>0.384615</td>\n      <td>0.5</td>\n      <td>0.225806</td>\n      <td>0.596774</td>\n      <td>0.096774</td>\n      <td>0.677419</td>\n      <td>0.693548</td>\n      <td>0.177419</td>\n      <td>0.0</td>\n      <td>0.161290</td>\n      <td>0.870968</td>\n      <td>0.064516</td>\n      <td>1.0</td>\n    </tr>\n    <tr>\n      <th>4</th>\n      <td>Doppelsticke</td>\n      <td>Altbier</td>\n      <td>Uerige Obergärige Hausbrauerei GmbH / Zum Uerige</td>\n      <td>0.147826</td>\n      <td>0.384615</td>\n      <td>0.5</td>\n      <td>0.101695</td>\n      <td>0.457627</td>\n      <td>0.254237</td>\n      <td>0.389831</td>\n      <td>0.847458</td>\n      <td>0.144068</td>\n      <td>0.0</td>\n      <td>0.406780</td>\n      <td>0.330508</td>\n      <td>0.127119</td>\n      <td>1.0</td>\n    </tr>\n  </tbody>\n</table>\n</div>"
     },
     "execution_count": 7,
     "metadata": {},
     "output_type": "execute_result"
    }
   ],
   "source": [
    "# Scale numerical values\n",
    "scaler = MinMaxScaler()\n",
    "\n",
    "def scale_col_by_row(df, cols):\n",
    "    # Scale values by row\n",
    "    scaled_cols = pd.DataFrame(scaler.fit_transform(df[cols].T).T, columns=cols)\n",
    "    df[cols] = scaled_cols\n",
    "    return df\n",
    "\n",
    "def scale_col_by_col(df, cols):\n",
    "    # Scale values by column\n",
    "    scaled_cols = pd.DataFrame(scaler.fit_transform(df[cols]), columns=cols)\n",
    "    df[cols] = scaled_cols\n",
    "    return df\n",
    "\n",
    "# Scale values in tasting profile features (across rows)\n",
    "beers_df = scale_col_by_row(beers_df, beers_df.columns[6:])\n",
    "\n",
    "# Scale values in tasting profile features (across columns)\n",
    "beers_df = scale_col_by_col(beers_df, beers_df.columns[6:])\n",
    "\n",
    "# Scale values in chemical features (across columns)\n",
    "beers_df = scale_col_by_col(beers_df, beers_df.columns[3:6])\n",
    "\n",
    "# Peek at re-scaled data\n",
    "beers_df.head()"
   ],
   "metadata": {
    "collapsed": false,
    "pycharm": {
     "name": "#%%\n"
    }
   }
  },
  {
   "cell_type": "code",
   "execution_count": 8,
   "outputs": [
    {
     "name": "stderr",
     "output_type": "stream",
     "text": [
      "C:\\Users\\Jack\\anaconda3\\envs\\mlenv\\lib\\site-packages\\sklearn\\utils\\deprecation.py:87: FutureWarning: Function get_feature_names is deprecated; get_feature_names is deprecated in 1.0 and will be removed in 1.2. Please use get_feature_names_out instead.\n",
      "  warnings.warn(msg, category=FutureWarning)\n"
     ]
    },
    {
     "data": {
      "text/plain": "   Style_Altbier  Style_Barleywine  Style_Bitter  Style_Blonde Ale  \\\n0            1.0               0.0           0.0               0.0   \n1            1.0               0.0           0.0               0.0   \n2            1.0               0.0           0.0               0.0   \n3            1.0               0.0           0.0               0.0   \n4            1.0               0.0           0.0               0.0   \n\n   Style_Bock  Style_Brown Ale  Style_Chile Beer  Style_Cream Ale  \\\n0         0.0              0.0               0.0              0.0   \n1         0.0              0.0               0.0              0.0   \n2         0.0              0.0               0.0              0.0   \n3         0.0              0.0               0.0              0.0   \n4         0.0              0.0               0.0              0.0   \n\n   Style_Dubbel  Style_Farmhouse Ale  ...  Style_Scotch Ale / Wee Heavy  \\\n0           0.0                  0.0  ...                           0.0   \n1           0.0                  0.0  ...                           0.0   \n2           0.0                  0.0  ...                           0.0   \n3           0.0                  0.0  ...                           0.0   \n4           0.0                  0.0  ...                           0.0   \n\n   Style_Scottish Ale  Style_Smoked Beer  Style_Sour  Style_Stout  \\\n0                 0.0                0.0         0.0          0.0   \n1                 0.0                0.0         0.0          0.0   \n2                 0.0                0.0         0.0          0.0   \n3                 0.0                0.0         0.0          0.0   \n4                 0.0                0.0         0.0          0.0   \n\n   Style_Strong Ale  Style_Tripel  Style_Wheat Beer  Style_Wild Ale  \\\n0               0.0           0.0               0.0             0.0   \n1               0.0           0.0               0.0             0.0   \n2               0.0           0.0               0.0             0.0   \n3               0.0           0.0               0.0             0.0   \n4               0.0           0.0               0.0             0.0   \n\n   Style_Winter Warmer  \n0                  0.0  \n1                  0.0  \n2                  0.0  \n3                  0.0  \n4                  0.0  \n\n[5 rows x 38 columns]",
      "text/html": "<div>\n<style scoped>\n    .dataframe tbody tr th:only-of-type {\n        vertical-align: middle;\n    }\n\n    .dataframe tbody tr th {\n        vertical-align: top;\n    }\n\n    .dataframe thead th {\n        text-align: right;\n    }\n</style>\n<table border=\"1\" class=\"dataframe\">\n  <thead>\n    <tr style=\"text-align: right;\">\n      <th></th>\n      <th>Style_Altbier</th>\n      <th>Style_Barleywine</th>\n      <th>Style_Bitter</th>\n      <th>Style_Blonde Ale</th>\n      <th>Style_Bock</th>\n      <th>Style_Brown Ale</th>\n      <th>Style_Chile Beer</th>\n      <th>Style_Cream Ale</th>\n      <th>Style_Dubbel</th>\n      <th>Style_Farmhouse Ale</th>\n      <th>...</th>\n      <th>Style_Scotch Ale / Wee Heavy</th>\n      <th>Style_Scottish Ale</th>\n      <th>Style_Smoked Beer</th>\n      <th>Style_Sour</th>\n      <th>Style_Stout</th>\n      <th>Style_Strong Ale</th>\n      <th>Style_Tripel</th>\n      <th>Style_Wheat Beer</th>\n      <th>Style_Wild Ale</th>\n      <th>Style_Winter Warmer</th>\n    </tr>\n  </thead>\n  <tbody>\n    <tr>\n      <th>0</th>\n      <td>1.0</td>\n      <td>0.0</td>\n      <td>0.0</td>\n      <td>0.0</td>\n      <td>0.0</td>\n      <td>0.0</td>\n      <td>0.0</td>\n      <td>0.0</td>\n      <td>0.0</td>\n      <td>0.0</td>\n      <td>...</td>\n      <td>0.0</td>\n      <td>0.0</td>\n      <td>0.0</td>\n      <td>0.0</td>\n      <td>0.0</td>\n      <td>0.0</td>\n      <td>0.0</td>\n      <td>0.0</td>\n      <td>0.0</td>\n      <td>0.0</td>\n    </tr>\n    <tr>\n      <th>1</th>\n      <td>1.0</td>\n      <td>0.0</td>\n      <td>0.0</td>\n      <td>0.0</td>\n      <td>0.0</td>\n      <td>0.0</td>\n      <td>0.0</td>\n      <td>0.0</td>\n      <td>0.0</td>\n      <td>0.0</td>\n      <td>...</td>\n      <td>0.0</td>\n      <td>0.0</td>\n      <td>0.0</td>\n      <td>0.0</td>\n      <td>0.0</td>\n      <td>0.0</td>\n      <td>0.0</td>\n      <td>0.0</td>\n      <td>0.0</td>\n      <td>0.0</td>\n    </tr>\n    <tr>\n      <th>2</th>\n      <td>1.0</td>\n      <td>0.0</td>\n      <td>0.0</td>\n      <td>0.0</td>\n      <td>0.0</td>\n      <td>0.0</td>\n      <td>0.0</td>\n      <td>0.0</td>\n      <td>0.0</td>\n      <td>0.0</td>\n      <td>...</td>\n      <td>0.0</td>\n      <td>0.0</td>\n      <td>0.0</td>\n      <td>0.0</td>\n      <td>0.0</td>\n      <td>0.0</td>\n      <td>0.0</td>\n      <td>0.0</td>\n      <td>0.0</td>\n      <td>0.0</td>\n    </tr>\n    <tr>\n      <th>3</th>\n      <td>1.0</td>\n      <td>0.0</td>\n      <td>0.0</td>\n      <td>0.0</td>\n      <td>0.0</td>\n      <td>0.0</td>\n      <td>0.0</td>\n      <td>0.0</td>\n      <td>0.0</td>\n      <td>0.0</td>\n      <td>...</td>\n      <td>0.0</td>\n      <td>0.0</td>\n      <td>0.0</td>\n      <td>0.0</td>\n      <td>0.0</td>\n      <td>0.0</td>\n      <td>0.0</td>\n      <td>0.0</td>\n      <td>0.0</td>\n      <td>0.0</td>\n    </tr>\n    <tr>\n      <th>4</th>\n      <td>1.0</td>\n      <td>0.0</td>\n      <td>0.0</td>\n      <td>0.0</td>\n      <td>0.0</td>\n      <td>0.0</td>\n      <td>0.0</td>\n      <td>0.0</td>\n      <td>0.0</td>\n      <td>0.0</td>\n      <td>...</td>\n      <td>0.0</td>\n      <td>0.0</td>\n      <td>0.0</td>\n      <td>0.0</td>\n      <td>0.0</td>\n      <td>0.0</td>\n      <td>0.0</td>\n      <td>0.0</td>\n      <td>0.0</td>\n      <td>0.0</td>\n    </tr>\n  </tbody>\n</table>\n<p>5 rows × 38 columns</p>\n</div>"
     },
     "execution_count": 8,
     "metadata": {},
     "output_type": "execute_result"
    }
   ],
   "source": [
    "enc = OneHotEncoder(sparse=False)\n",
    "\n",
    "# Fit the encoder and produce encoded DataFrame\n",
    "encode_df = pd.DataFrame(enc.fit_transform(beers_df['Style'].values.reshape(-1,1)))\n",
    "\n",
    "# Rename encoded columns\n",
    "encode_df.columns = enc.get_feature_names(['Style'])\n",
    "encode_df.head()"
   ],
   "metadata": {
    "collapsed": false,
    "pycharm": {
     "name": "#%%\n"
    }
   }
  },
  {
   "cell_type": "code",
   "execution_count": 9,
   "outputs": [
    {
     "name": "stderr",
     "output_type": "stream",
     "text": [
      "C:\\Users\\Jack\\anaconda3\\envs\\mlenv\\lib\\site-packages\\ipykernel_launcher.py:2: FutureWarning: In a future version of pandas all arguments of DataFrame.drop except for the argument 'labels' will be keyword-only\n",
      "  \n"
     ]
    },
    {
     "data": {
      "text/plain": "                                          Name  \\\n0                                        Amber   \n1                                        Amber   \n2                                   Double Bag   \n3                               Long Trail Ale   \n4                                 Doppelsticke   \n...                                        ...   \n3830                           Winter Shredder   \n3831                        The First Snow Ale   \n3832                       Red Nose Winter Ale   \n3833                      Fish Tale Winterfish   \n3834  Frosted Frog Christmas Ale - Barrel-Aged   \n\n                                               Brewery       ABV   Min_IBU  \\\n0                                  Alaskan Brewing Co.  0.078261  0.276923   \n1                                  Alaskan Brewing Co.  0.092174  0.384615   \n2                               Long Trail Brewing Co.  0.125217  0.384615   \n3                               Long Trail Brewing Co.  0.086957  0.384615   \n4     Uerige Obergärige Hausbrauerei GmbH / Zum Uerige  0.147826  0.384615   \n...                                                ...       ...       ...   \n3830                                Cisco Brewers Inc.  0.153043  0.538462   \n3831                        RJ Rockers Brewing Company  0.104348  0.538462   \n3832                  Natty Greene's Pub & Brewing Co.  0.118261  0.538462   \n3833           Fish Brewing Company / Fishbowl Brewpub  0.130435  0.538462   \n3834                              Hoppin' Frog Brewery  0.149565  0.538462   \n\n      Max_IBU  Astringency      Body   Alcohol    Bitter     Sweet  ...  \\\n0         0.3     0.183099  0.338028  0.084507  0.338028  0.521127  ...   \n1         0.5     0.117117  0.288288  0.081081  0.423423  0.666667  ...   \n2         0.5     0.142857  0.678571  0.214286  0.392857  0.654762  ...   \n3         0.5     0.225806  0.596774  0.096774  0.677419  0.693548  ...   \n4         0.5     0.101695  0.457627  0.254237  0.389831  0.847458  ...   \n...       ...          ...       ...       ...       ...       ...  ...   \n3830      0.5     0.202703  0.500000  0.324324  0.472973  0.621622  ...   \n3831      0.5     0.107143  0.221429  0.164286  0.114286  0.385714  ...   \n3832      0.5     0.083333  0.458333  0.250000  0.197917  0.541667  ...   \n3833      0.5     0.100000  0.327273  0.454545  0.636364  0.654545  ...   \n3834      0.5     0.054054  0.337838  0.331081  0.087838  0.479730  ...   \n\n      Style_Scotch Ale / Wee Heavy  Style_Scottish Ale  Style_Smoked Beer  \\\n0                              0.0                 0.0                0.0   \n1                              0.0                 0.0                0.0   \n2                              0.0                 0.0                0.0   \n3                              0.0                 0.0                0.0   \n4                              0.0                 0.0                0.0   \n...                            ...                 ...                ...   \n3830                           0.0                 0.0                0.0   \n3831                           0.0                 0.0                0.0   \n3832                           0.0                 0.0                0.0   \n3833                           0.0                 0.0                0.0   \n3834                           0.0                 0.0                0.0   \n\n      Style_Sour  Style_Stout  Style_Strong Ale  Style_Tripel  \\\n0            0.0          0.0               0.0           0.0   \n1            0.0          0.0               0.0           0.0   \n2            0.0          0.0               0.0           0.0   \n3            0.0          0.0               0.0           0.0   \n4            0.0          0.0               0.0           0.0   \n...          ...          ...               ...           ...   \n3830         0.0          0.0               0.0           0.0   \n3831         0.0          0.0               0.0           0.0   \n3832         0.0          0.0               0.0           0.0   \n3833         0.0          0.0               0.0           0.0   \n3834         0.0          0.0               0.0           0.0   \n\n      Style_Wheat Beer  Style_Wild Ale  Style_Winter Warmer  \n0                  0.0             0.0                  0.0  \n1                  0.0             0.0                  0.0  \n2                  0.0             0.0                  0.0  \n3                  0.0             0.0                  0.0  \n4                  0.0             0.0                  0.0  \n...                ...             ...                  ...  \n3830               0.0             0.0                  1.0  \n3831               0.0             0.0                  1.0  \n3832               0.0             0.0                  1.0  \n3833               0.0             0.0                  1.0  \n3834               0.0             0.0                  1.0  \n\n[3835 rows x 54 columns]",
      "text/html": "<div>\n<style scoped>\n    .dataframe tbody tr th:only-of-type {\n        vertical-align: middle;\n    }\n\n    .dataframe tbody tr th {\n        vertical-align: top;\n    }\n\n    .dataframe thead th {\n        text-align: right;\n    }\n</style>\n<table border=\"1\" class=\"dataframe\">\n  <thead>\n    <tr style=\"text-align: right;\">\n      <th></th>\n      <th>Name</th>\n      <th>Brewery</th>\n      <th>ABV</th>\n      <th>Min_IBU</th>\n      <th>Max_IBU</th>\n      <th>Astringency</th>\n      <th>Body</th>\n      <th>Alcohol</th>\n      <th>Bitter</th>\n      <th>Sweet</th>\n      <th>...</th>\n      <th>Style_Scotch Ale / Wee Heavy</th>\n      <th>Style_Scottish Ale</th>\n      <th>Style_Smoked Beer</th>\n      <th>Style_Sour</th>\n      <th>Style_Stout</th>\n      <th>Style_Strong Ale</th>\n      <th>Style_Tripel</th>\n      <th>Style_Wheat Beer</th>\n      <th>Style_Wild Ale</th>\n      <th>Style_Winter Warmer</th>\n    </tr>\n  </thead>\n  <tbody>\n    <tr>\n      <th>0</th>\n      <td>Amber</td>\n      <td>Alaskan Brewing Co.</td>\n      <td>0.078261</td>\n      <td>0.276923</td>\n      <td>0.3</td>\n      <td>0.183099</td>\n      <td>0.338028</td>\n      <td>0.084507</td>\n      <td>0.338028</td>\n      <td>0.521127</td>\n      <td>...</td>\n      <td>0.0</td>\n      <td>0.0</td>\n      <td>0.0</td>\n      <td>0.0</td>\n      <td>0.0</td>\n      <td>0.0</td>\n      <td>0.0</td>\n      <td>0.0</td>\n      <td>0.0</td>\n      <td>0.0</td>\n    </tr>\n    <tr>\n      <th>1</th>\n      <td>Amber</td>\n      <td>Alaskan Brewing Co.</td>\n      <td>0.092174</td>\n      <td>0.384615</td>\n      <td>0.5</td>\n      <td>0.117117</td>\n      <td>0.288288</td>\n      <td>0.081081</td>\n      <td>0.423423</td>\n      <td>0.666667</td>\n      <td>...</td>\n      <td>0.0</td>\n      <td>0.0</td>\n      <td>0.0</td>\n      <td>0.0</td>\n      <td>0.0</td>\n      <td>0.0</td>\n      <td>0.0</td>\n      <td>0.0</td>\n      <td>0.0</td>\n      <td>0.0</td>\n    </tr>\n    <tr>\n      <th>2</th>\n      <td>Double Bag</td>\n      <td>Long Trail Brewing Co.</td>\n      <td>0.125217</td>\n      <td>0.384615</td>\n      <td>0.5</td>\n      <td>0.142857</td>\n      <td>0.678571</td>\n      <td>0.214286</td>\n      <td>0.392857</td>\n      <td>0.654762</td>\n      <td>...</td>\n      <td>0.0</td>\n      <td>0.0</td>\n      <td>0.0</td>\n      <td>0.0</td>\n      <td>0.0</td>\n      <td>0.0</td>\n      <td>0.0</td>\n      <td>0.0</td>\n      <td>0.0</td>\n      <td>0.0</td>\n    </tr>\n    <tr>\n      <th>3</th>\n      <td>Long Trail Ale</td>\n      <td>Long Trail Brewing Co.</td>\n      <td>0.086957</td>\n      <td>0.384615</td>\n      <td>0.5</td>\n      <td>0.225806</td>\n      <td>0.596774</td>\n      <td>0.096774</td>\n      <td>0.677419</td>\n      <td>0.693548</td>\n      <td>...</td>\n      <td>0.0</td>\n      <td>0.0</td>\n      <td>0.0</td>\n      <td>0.0</td>\n      <td>0.0</td>\n      <td>0.0</td>\n      <td>0.0</td>\n      <td>0.0</td>\n      <td>0.0</td>\n      <td>0.0</td>\n    </tr>\n    <tr>\n      <th>4</th>\n      <td>Doppelsticke</td>\n      <td>Uerige Obergärige Hausbrauerei GmbH / Zum Uerige</td>\n      <td>0.147826</td>\n      <td>0.384615</td>\n      <td>0.5</td>\n      <td>0.101695</td>\n      <td>0.457627</td>\n      <td>0.254237</td>\n      <td>0.389831</td>\n      <td>0.847458</td>\n      <td>...</td>\n      <td>0.0</td>\n      <td>0.0</td>\n      <td>0.0</td>\n      <td>0.0</td>\n      <td>0.0</td>\n      <td>0.0</td>\n      <td>0.0</td>\n      <td>0.0</td>\n      <td>0.0</td>\n      <td>0.0</td>\n    </tr>\n    <tr>\n      <th>...</th>\n      <td>...</td>\n      <td>...</td>\n      <td>...</td>\n      <td>...</td>\n      <td>...</td>\n      <td>...</td>\n      <td>...</td>\n      <td>...</td>\n      <td>...</td>\n      <td>...</td>\n      <td>...</td>\n      <td>...</td>\n      <td>...</td>\n      <td>...</td>\n      <td>...</td>\n      <td>...</td>\n      <td>...</td>\n      <td>...</td>\n      <td>...</td>\n      <td>...</td>\n      <td>...</td>\n    </tr>\n    <tr>\n      <th>3830</th>\n      <td>Winter Shredder</td>\n      <td>Cisco Brewers Inc.</td>\n      <td>0.153043</td>\n      <td>0.538462</td>\n      <td>0.5</td>\n      <td>0.202703</td>\n      <td>0.500000</td>\n      <td>0.324324</td>\n      <td>0.472973</td>\n      <td>0.621622</td>\n      <td>...</td>\n      <td>0.0</td>\n      <td>0.0</td>\n      <td>0.0</td>\n      <td>0.0</td>\n      <td>0.0</td>\n      <td>0.0</td>\n      <td>0.0</td>\n      <td>0.0</td>\n      <td>0.0</td>\n      <td>1.0</td>\n    </tr>\n    <tr>\n      <th>3831</th>\n      <td>The First Snow Ale</td>\n      <td>RJ Rockers Brewing Company</td>\n      <td>0.104348</td>\n      <td>0.538462</td>\n      <td>0.5</td>\n      <td>0.107143</td>\n      <td>0.221429</td>\n      <td>0.164286</td>\n      <td>0.114286</td>\n      <td>0.385714</td>\n      <td>...</td>\n      <td>0.0</td>\n      <td>0.0</td>\n      <td>0.0</td>\n      <td>0.0</td>\n      <td>0.0</td>\n      <td>0.0</td>\n      <td>0.0</td>\n      <td>0.0</td>\n      <td>0.0</td>\n      <td>1.0</td>\n    </tr>\n    <tr>\n      <th>3832</th>\n      <td>Red Nose Winter Ale</td>\n      <td>Natty Greene's Pub &amp; Brewing Co.</td>\n      <td>0.118261</td>\n      <td>0.538462</td>\n      <td>0.5</td>\n      <td>0.083333</td>\n      <td>0.458333</td>\n      <td>0.250000</td>\n      <td>0.197917</td>\n      <td>0.541667</td>\n      <td>...</td>\n      <td>0.0</td>\n      <td>0.0</td>\n      <td>0.0</td>\n      <td>0.0</td>\n      <td>0.0</td>\n      <td>0.0</td>\n      <td>0.0</td>\n      <td>0.0</td>\n      <td>0.0</td>\n      <td>1.0</td>\n    </tr>\n    <tr>\n      <th>3833</th>\n      <td>Fish Tale Winterfish</td>\n      <td>Fish Brewing Company / Fishbowl Brewpub</td>\n      <td>0.130435</td>\n      <td>0.538462</td>\n      <td>0.5</td>\n      <td>0.100000</td>\n      <td>0.327273</td>\n      <td>0.454545</td>\n      <td>0.636364</td>\n      <td>0.654545</td>\n      <td>...</td>\n      <td>0.0</td>\n      <td>0.0</td>\n      <td>0.0</td>\n      <td>0.0</td>\n      <td>0.0</td>\n      <td>0.0</td>\n      <td>0.0</td>\n      <td>0.0</td>\n      <td>0.0</td>\n      <td>1.0</td>\n    </tr>\n    <tr>\n      <th>3834</th>\n      <td>Frosted Frog Christmas Ale - Barrel-Aged</td>\n      <td>Hoppin' Frog Brewery</td>\n      <td>0.149565</td>\n      <td>0.538462</td>\n      <td>0.5</td>\n      <td>0.054054</td>\n      <td>0.337838</td>\n      <td>0.331081</td>\n      <td>0.087838</td>\n      <td>0.479730</td>\n      <td>...</td>\n      <td>0.0</td>\n      <td>0.0</td>\n      <td>0.0</td>\n      <td>0.0</td>\n      <td>0.0</td>\n      <td>0.0</td>\n      <td>0.0</td>\n      <td>0.0</td>\n      <td>0.0</td>\n      <td>1.0</td>\n    </tr>\n  </tbody>\n</table>\n<p>3835 rows × 54 columns</p>\n</div>"
     },
     "execution_count": 9,
     "metadata": {},
     "output_type": "execute_result"
    }
   ],
   "source": [
    "# Merge the two DataFrames together and drop the Style column\n",
    "encoded_styles_df = beers_df.merge(encode_df,left_index=True,right_index=True).drop(\"Style\",1)\n",
    "encoded_styles_df"
   ],
   "metadata": {
    "collapsed": false,
    "pycharm": {
     "name": "#%%\n"
    }
   }
  },
  {
   "cell_type": "code",
   "execution_count": 10,
   "outputs": [],
   "source": [
    "# Split our preprocessed data into our features and target arrays\n",
    "y = encoded_styles_df[encoded_styles_df.columns[16:]].values\n",
    "X = encoded_styles_df[encoded_styles_df.columns[2:16]].values\n",
    "\n",
    "# Split the preprocessed data into a training and testing dataset\n",
    "X_train, X_test, y_train, y_test = train_test_split(X, y, stratify=y, random_state=78)"
   ],
   "metadata": {
    "collapsed": false,
    "pycharm": {
     "name": "#%%\n"
    }
   }
  },
  {
   "cell_type": "code",
   "execution_count": 11,
   "outputs": [
    {
     "name": "stdout",
     "output_type": "stream",
     "text": [
      "WARNING:tensorflow:`period` argument is deprecated. Please use `save_freq` to specify the frequency in number of batches seen.\n"
     ]
    }
   ],
   "source": [
    "# Define the checkpoint path and filenames\n",
    "os.makedirs(\"./ML_Weight_Checkpoints/\", exist_ok=True)\n",
    "checkpoint_path = \"./ML_Weight_Checkpoints/seg2_model.h5\"\n",
    "\n",
    "# Create a callback that saves the model's weights every 5 epochs\n",
    "cp_callback = ModelCheckpoint(\n",
    "    filepath=checkpoint_path,\n",
    "    verbose=1,\n",
    "    save_weights_only=True,\n",
    "    save_freq='epoch',\n",
    "    period=10)"
   ],
   "metadata": {
    "collapsed": false,
    "pycharm": {
     "name": "#%%\n"
    }
   }
  },
  {
   "cell_type": "code",
   "execution_count": 12,
   "outputs": [
    {
     "name": "stdout",
     "output_type": "stream",
     "text": [
      "Model: \"sequential\"\n",
      "_________________________________________________________________\n",
      " Layer (type)                Output Shape              Param #   \n",
      "=================================================================\n",
      " dense (Dense)               (None, 15)                225       \n",
      "                                                                 \n",
      " dense_1 (Dense)             (None, 12)                192       \n",
      "                                                                 \n",
      " dense_2 (Dense)             (None, 8)                 104       \n",
      "                                                                 \n",
      " dense_3 (Dense)             (None, 38)                342       \n",
      "                                                                 \n",
      "=================================================================\n",
      "Total params: 863\n",
      "Trainable params: 863\n",
      "Non-trainable params: 0\n",
      "_________________________________________________________________\n"
     ]
    }
   ],
   "source": [
    "# Define the model\n",
    "number_input_features = len(X_train[0])\n",
    "hidden_nodes_layer1 = 15\n",
    "hidden_nodes_layer2 = 12\n",
    "hidden_nodes_layer3 = 8\n",
    "\n",
    "nn = tf.keras.models.Sequential()\n",
    "\n",
    "# First hidden layer\n",
    "nn.add(tf.keras.layers.Dense(units=hidden_nodes_layer1, input_dim=number_input_features, activation=\"relu\"))\n",
    "\n",
    "# Second hidden layer\n",
    "nn.add(tf.keras.layers.Dense(units=hidden_nodes_layer2, activation=\"relu\"))\n",
    "\n",
    "# Third hidden layer\n",
    "nn.add(tf.keras.layers.Dense(units=hidden_nodes_layer3, activation=\"relu\"))\n",
    "\n",
    "# Output layer\n",
    "nn.add(tf.keras.layers.Dense(units=38, activation=\"softmax\"))\n",
    "\n",
    "# Check the structure of the model\n",
    "nn.summary()"
   ],
   "metadata": {
    "collapsed": false,
    "pycharm": {
     "name": "#%%\n"
    }
   }
  },
  {
   "cell_type": "code",
   "execution_count": 13,
   "outputs": [],
   "source": [
    "# Compile the model\n",
    "nn.compile(loss=\"categorical_crossentropy\", optimizer=\"adam\", metrics=[\"accuracy\"])"
   ],
   "metadata": {
    "collapsed": false,
    "pycharm": {
     "name": "#%%\n"
    }
   }
  },
  {
   "cell_type": "code",
   "execution_count": 14,
   "outputs": [],
   "source": [
    "# Train the model (or load previous weights)\n",
    "\n",
    "# fit_model = nn.fit(X_train,y_train,epochs=200, callbacks=[cp_callback])\n",
    "\n",
    "nn.load_weights(\"./ML_Weight_Checkpoints/beer_model_weights.h5\")"
   ],
   "metadata": {
    "collapsed": false,
    "pycharm": {
     "name": "#%%\n"
    }
   }
  },
  {
   "cell_type": "code",
   "execution_count": 15,
   "outputs": [
    {
     "name": "stdout",
     "output_type": "stream",
     "text": [
      "30/30 - 1s - loss: 1.5676 - accuracy: 0.6298 - 1s/epoch - 49ms/step\n",
      "Loss: 1.56755793094635, Accuracy: 0.6298227310180664\n"
     ]
    }
   ],
   "source": [
    "# Evaluate the model using the test data\n",
    "model_loss, model_accuracy = nn.evaluate(X_test,y_test,verbose=2)\n",
    "print(f\"Loss: {model_loss}, Accuracy: {model_accuracy}\")"
   ],
   "metadata": {
    "collapsed": false,
    "pycharm": {
     "name": "#%%\n"
    }
   }
  },
  {
   "cell_type": "code",
   "execution_count": 16,
   "outputs": [
    {
     "data": {
      "text/plain": "array([[0.11826086956521739, 0.23076923076923078, 0.3, 0.15, 0.5, 0.2,\n        0.2833333333333333, 0.9999999999999998, 0.4833333333333332, 0.0,\n        0.6333333333333332, 0.23333333333333328, 0.28333333333333327,\n        0.6499999999999999]], dtype=object)"
     },
     "execution_count": 16,
     "metadata": {},
     "output_type": "execute_result"
    }
   ],
   "source": [
    "# Test model with data from a random beer, simulating user's preference data\n",
    "user_input = beers_df.sample().iloc[0][3:].values\n",
    "user_input = user_input.reshape(1,-1)\n",
    "user_input"
   ],
   "metadata": {
    "collapsed": false,
    "pycharm": {
     "name": "#%%\n"
    }
   }
  },
  {
   "cell_type": "code",
   "execution_count": 17,
   "outputs": [
    {
     "name": "stdout",
     "output_type": "stream",
     "text": [
      "1/1 [==============================] - 0s 498ms/step\n",
      "Predicted Beer Style: Dubbel\n"
     ]
    }
   ],
   "source": [
    "# Output beer style based on taste profile inputs\n",
    "index = nn.predict(np.asarray(user_input).astype(np.float64)).argmax()\n",
    "predicted_style = encode_df.columns[index].split('_', 1)[1]\n",
    "print(f\"Predicted Beer Style: {predicted_style}\")"
   ],
   "metadata": {
    "collapsed": false,
    "pycharm": {
     "name": "#%%\n"
    }
   }
  },
  {
   "cell_type": "code",
   "execution_count": 21,
   "outputs": [],
   "source": [
    "# Function to find top 5 similar beers of same and different styles, respectively\n",
    "def similar_beers(beers_df, user_input, style, same_style):\n",
    "    if same_style:\n",
    "        # Locate beers of same style\n",
    "        sim_beers_df = beers_df.loc[beers_df['Style'] == style].reset_index(drop=True)\n",
    "    else:\n",
    "        # Locate other similar beers\n",
    "        sim_beers_df = beers_df.loc[beers_df[\"Style\"] != style].reset_index(drop=True)\n",
    "\n",
    "    # Get numeric data for similar beers\n",
    "    sim_beers_data = sim_beers_df.iloc[:, 3:]\n",
    "\n",
    "    # Find nearest neighbors\n",
    "    search = NearestNeighbors(n_neighbors=6, algorithm='ball_tree').fit(sim_beers_data)\n",
    "    _, queried_indices = search.kneighbors(user_input)\n",
    "\n",
    "    # Top 5 recommendations\n",
    "    recommends_df = sim_beers_df.loc[queried_indices[0][1:]]\n",
    "    recommends_df = recommends_df[['Name', 'Brewery', 'Style']]\n",
    "    recommends_df = pd.merge(recommends_df, reviews_df, how='inner', on=['Name', 'Brewery', 'Style'])\n",
    "    recommends_df = recommends_df.sort_values(by=['review_overall'], ascending=False)\n",
    "\n",
    "    # Occasional issue with ABV rounding, map to ensure it is correct\n",
    "    # before returning results.\n",
    "    recommends_df['ABV'] = recommends_df['ABV'].map(\"{:.1f}\".format)\n",
    "\n",
    "    return recommends_df"
   ],
   "metadata": {
    "collapsed": false,
    "pycharm": {
     "name": "#%%\n"
    }
   }
  },
  {
   "cell_type": "code",
   "execution_count": 22,
   "outputs": [
    {
     "name": "stderr",
     "output_type": "stream",
     "text": [
      "C:\\Users\\Jack\\anaconda3\\envs\\mlenv\\lib\\site-packages\\sklearn\\base.py:451: UserWarning: X does not have valid feature names, but NearestNeighbors was fitted with feature names\n",
      "  \"X does not have valid feature names, but\"\n"
     ]
    },
    {
     "data": {
      "text/plain": "                                       Name  \\\n3                    Trappistes Rochefort 6   \n1                   Trappist Achel 8° Bruin   \n4                         Brugse Zot Dubbel   \n0                           St Martin Brune   \n2  Brother David's Belgian-style Double Ale   \n\n                                             Brewery   Style  \\\n3                             Brasserie de Rochefort  Dubbel   \n1       Brouwerij der St. Benedictusabdij de Achelse  Dubbel   \n4  Brouwerij Straffe Hendrik / Huisbrouwerij De H...  Dubbel   \n0                             Brasserie De Brunehaut  Dubbel   \n2                    Anderson Valley Brewing Company  Dubbel   \n\n                                         Description  ABV review_overall  \\\n3                          No description available.  7.5           4.14   \n1                          No description available.  8.0           4.11   \n4                          No description available.  7.5           3.85   \n0                          No description available.  8.0           3.79   \n2  Inspired by the classic Dubbels of Belgium, ou...  9.0           3.54   \n\n  review_aroma review_appearance review_palate review_taste  number_of_reviews  \n3         4.07              4.07          4.01         4.12                763  \n1         4.03              4.24          4.02         4.11                359  \n4         3.70              4.00          3.87         3.76                 27  \n0         3.63              3.74          3.59         3.61                 68  \n2         3.66              3.64          3.56         3.58                253  ",
      "text/html": "<div>\n<style scoped>\n    .dataframe tbody tr th:only-of-type {\n        vertical-align: middle;\n    }\n\n    .dataframe tbody tr th {\n        vertical-align: top;\n    }\n\n    .dataframe thead th {\n        text-align: right;\n    }\n</style>\n<table border=\"1\" class=\"dataframe\">\n  <thead>\n    <tr style=\"text-align: right;\">\n      <th></th>\n      <th>Name</th>\n      <th>Brewery</th>\n      <th>Style</th>\n      <th>Description</th>\n      <th>ABV</th>\n      <th>review_overall</th>\n      <th>review_aroma</th>\n      <th>review_appearance</th>\n      <th>review_palate</th>\n      <th>review_taste</th>\n      <th>number_of_reviews</th>\n    </tr>\n  </thead>\n  <tbody>\n    <tr>\n      <th>3</th>\n      <td>Trappistes Rochefort 6</td>\n      <td>Brasserie de Rochefort</td>\n      <td>Dubbel</td>\n      <td>No description available.</td>\n      <td>7.5</td>\n      <td>4.14</td>\n      <td>4.07</td>\n      <td>4.07</td>\n      <td>4.01</td>\n      <td>4.12</td>\n      <td>763</td>\n    </tr>\n    <tr>\n      <th>1</th>\n      <td>Trappist Achel 8° Bruin</td>\n      <td>Brouwerij der St. Benedictusabdij de Achelse</td>\n      <td>Dubbel</td>\n      <td>No description available.</td>\n      <td>8.0</td>\n      <td>4.11</td>\n      <td>4.03</td>\n      <td>4.24</td>\n      <td>4.02</td>\n      <td>4.11</td>\n      <td>359</td>\n    </tr>\n    <tr>\n      <th>4</th>\n      <td>Brugse Zot Dubbel</td>\n      <td>Brouwerij Straffe Hendrik / Huisbrouwerij De H...</td>\n      <td>Dubbel</td>\n      <td>No description available.</td>\n      <td>7.5</td>\n      <td>3.85</td>\n      <td>3.70</td>\n      <td>4.00</td>\n      <td>3.87</td>\n      <td>3.76</td>\n      <td>27</td>\n    </tr>\n    <tr>\n      <th>0</th>\n      <td>St Martin Brune</td>\n      <td>Brasserie De Brunehaut</td>\n      <td>Dubbel</td>\n      <td>No description available.</td>\n      <td>8.0</td>\n      <td>3.79</td>\n      <td>3.63</td>\n      <td>3.74</td>\n      <td>3.59</td>\n      <td>3.61</td>\n      <td>68</td>\n    </tr>\n    <tr>\n      <th>2</th>\n      <td>Brother David's Belgian-style Double Ale</td>\n      <td>Anderson Valley Brewing Company</td>\n      <td>Dubbel</td>\n      <td>Inspired by the classic Dubbels of Belgium, ou...</td>\n      <td>9.0</td>\n      <td>3.54</td>\n      <td>3.66</td>\n      <td>3.64</td>\n      <td>3.56</td>\n      <td>3.58</td>\n      <td>253</td>\n    </tr>\n  </tbody>\n</table>\n</div>"
     },
     "execution_count": 22,
     "metadata": {},
     "output_type": "execute_result"
    }
   ],
   "source": [
    "# Top 5 similar beers of same style (by overall review score)\n",
    "top_5_same_style = similar_beers(beers_df, user_input, predicted_style, same_style=True)\n",
    "top_5_same_style"
   ],
   "metadata": {
    "collapsed": false,
    "pycharm": {
     "name": "#%%\n"
    }
   }
  },
  {
   "cell_type": "code",
   "execution_count": 23,
   "outputs": [
    {
     "name": "stderr",
     "output_type": "stream",
     "text": [
      "C:\\Users\\Jack\\anaconda3\\envs\\mlenv\\lib\\site-packages\\sklearn\\base.py:451: UserWarning: X does not have valid feature names, but NearestNeighbors was fitted with feature names\n",
      "  \"X does not have valid feature names, but\"\n"
     ]
    },
    {
     "data": {
      "text/plain": "                    Name                  Brewery          Style  \\\n2         La Petite Mort  Black Raven Brewing Co.      Brown Ale   \n3      Wendelinus Blonde         Brasserie Meteor     Blonde Ale   \n4                   Kwak       Brouwerij Bosteels     Strong Ale   \n1             Cold Front      Ithaca Beer Company      Brown Ale   \n0  Jenlain Bière De Noël          Brasserie Duyck  Farmhouse Ale   \n\n                                         Description  ABV review_overall  \\\n2                          No description available.  8.7           3.90   \n3  Another idea from the abbey...Brewed in the tr...  6.8           3.81   \n4                            Belgian Specialty Ale\\t  8.4           3.70   \n1                          No description available.  7.2           3.67   \n0                          No description available.  6.8           3.58   \n\n  review_aroma review_appearance review_palate review_taste  number_of_reviews  \n2         3.90              4.00          4.00         4.20                  5  \n3         3.70              3.53          3.43         3.47                 15  \n4         3.72              3.85          3.74         3.74                580  \n1         3.77              3.92          3.65         3.67                124  \n0         3.63              3.79          3.48         3.54                 66  ",
      "text/html": "<div>\n<style scoped>\n    .dataframe tbody tr th:only-of-type {\n        vertical-align: middle;\n    }\n\n    .dataframe tbody tr th {\n        vertical-align: top;\n    }\n\n    .dataframe thead th {\n        text-align: right;\n    }\n</style>\n<table border=\"1\" class=\"dataframe\">\n  <thead>\n    <tr style=\"text-align: right;\">\n      <th></th>\n      <th>Name</th>\n      <th>Brewery</th>\n      <th>Style</th>\n      <th>Description</th>\n      <th>ABV</th>\n      <th>review_overall</th>\n      <th>review_aroma</th>\n      <th>review_appearance</th>\n      <th>review_palate</th>\n      <th>review_taste</th>\n      <th>number_of_reviews</th>\n    </tr>\n  </thead>\n  <tbody>\n    <tr>\n      <th>2</th>\n      <td>La Petite Mort</td>\n      <td>Black Raven Brewing Co.</td>\n      <td>Brown Ale</td>\n      <td>No description available.</td>\n      <td>8.7</td>\n      <td>3.90</td>\n      <td>3.90</td>\n      <td>4.00</td>\n      <td>4.00</td>\n      <td>4.20</td>\n      <td>5</td>\n    </tr>\n    <tr>\n      <th>3</th>\n      <td>Wendelinus Blonde</td>\n      <td>Brasserie Meteor</td>\n      <td>Blonde Ale</td>\n      <td>Another idea from the abbey...Brewed in the tr...</td>\n      <td>6.8</td>\n      <td>3.81</td>\n      <td>3.70</td>\n      <td>3.53</td>\n      <td>3.43</td>\n      <td>3.47</td>\n      <td>15</td>\n    </tr>\n    <tr>\n      <th>4</th>\n      <td>Kwak</td>\n      <td>Brouwerij Bosteels</td>\n      <td>Strong Ale</td>\n      <td>Belgian Specialty Ale\\t</td>\n      <td>8.4</td>\n      <td>3.70</td>\n      <td>3.72</td>\n      <td>3.85</td>\n      <td>3.74</td>\n      <td>3.74</td>\n      <td>580</td>\n    </tr>\n    <tr>\n      <th>1</th>\n      <td>Cold Front</td>\n      <td>Ithaca Beer Company</td>\n      <td>Brown Ale</td>\n      <td>No description available.</td>\n      <td>7.2</td>\n      <td>3.67</td>\n      <td>3.77</td>\n      <td>3.92</td>\n      <td>3.65</td>\n      <td>3.67</td>\n      <td>124</td>\n    </tr>\n    <tr>\n      <th>0</th>\n      <td>Jenlain Bière De Noël</td>\n      <td>Brasserie Duyck</td>\n      <td>Farmhouse Ale</td>\n      <td>No description available.</td>\n      <td>6.8</td>\n      <td>3.58</td>\n      <td>3.63</td>\n      <td>3.79</td>\n      <td>3.48</td>\n      <td>3.54</td>\n      <td>66</td>\n    </tr>\n  </tbody>\n</table>\n</div>"
     },
     "execution_count": 23,
     "metadata": {},
     "output_type": "execute_result"
    }
   ],
   "source": [
    "# Top 5 similar beers of other styles (by overall review score)\n",
    "top_5_diff_style = similar_beers(beers_df, user_input, predicted_style, same_style=False)\n",
    "top_5_diff_style"
   ],
   "metadata": {
    "collapsed": false,
    "pycharm": {
     "name": "#%%\n"
    }
   }
  }
 ],
 "metadata": {
  "kernelspec": {
   "name": "mlenv",
   "language": "python",
   "display_name": "mlenv"
  },
  "language_info": {
   "codemirror_mode": {
    "name": "ipython",
    "version": 2
   },
   "file_extension": ".py",
   "mimetype": "text/x-python",
   "name": "python",
   "nbconvert_exporter": "python",
   "pygments_lexer": "ipython2",
   "version": "2.7.6"
  }
 },
 "nbformat": 4,
 "nbformat_minor": 0
}
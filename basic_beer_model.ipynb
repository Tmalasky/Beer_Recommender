{
 "cells": [
  {
   "cell_type": "code",
   "execution_count": 19,
   "outputs": [],
   "source": [
    "# Machine Learning toolkit\n",
    "import os\n",
    "from sklearn.model_selection import train_test_split\n",
    "from sklearn.preprocessing import MinMaxScaler,OneHotEncoder\n",
    "from sklearn.neighbors import NearestNeighbors\n",
    "import pandas as pd\n",
    "import numpy as np\n",
    "import tensorflow as tf\n",
    "from tensorflow.keras.callbacks import ModelCheckpoint\n",
    "\n",
    "# Python SQL toolkit and Object Relational Mapper\n",
    "import sqlite3"
   ],
   "metadata": {
    "collapsed": false,
    "pycharm": {
     "name": "#%%\n"
    }
   }
  },
  {
   "cell_type": "code",
   "execution_count": 2,
   "outputs": [],
   "source": [
    "con = sqlite3.connect(\"./beer_data.sqlite\")\n",
    "c = con.cursor()"
   ],
   "metadata": {
    "collapsed": false,
    "pycharm": {
     "name": "#%%\n"
    }
   }
  },
  {
   "cell_type": "code",
   "execution_count": 3,
   "outputs": [],
   "source": [
    "beers_df = pd.read_sql_query(\"SELECT * FROM taste_profiles\", con)\n",
    "beer_stats = pd.read_sql_query(\"SELECT * FROM beer_stats\", con)\n",
    "reviews_df = pd.read_sql_query(\"SELECT * FROM reviews\", con)"
   ],
   "metadata": {
    "collapsed": false,
    "pycharm": {
     "name": "#%%\n"
    }
   }
  },
  {
   "cell_type": "code",
   "execution_count": 4,
   "outputs": [],
   "source": [
    "# Insert Description column\n",
    "reviews_df.insert(3, 'Description', pd.read_sql_query(\"SELECT Description FROM beer_labels\", con).values)\n",
    "\n",
    "# Format Description column\n",
    "remove_notes = [val.replace('Notes:', '') for val in reviews_df['Description'].values]\n",
    "reviews_df['Description'] = remove_notes\n",
    "\n",
    "reviews_df['Description'] = reviews_df['Description'].map(\n",
    "    lambda desc: 'No description available.' if desc == '' else desc\n",
    ")"
   ],
   "metadata": {
    "collapsed": false,
    "pycharm": {
     "name": "#%%\n"
    }
   }
  },
  {
   "cell_type": "code",
   "execution_count": 5,
   "outputs": [
    {
     "data": {
      "text/plain": "                                         Full_Beer_Name          Style  \\\n0                     Alaskan Brewing Co. Alaskan Amber        Altbier   \n1                     Long Trail Brewing Co. Double Bag        Altbier   \n2                 Long Trail Brewing Co. Long Trail Ale        Altbier   \n3     Uerige Obergärige Hausbrauerei GmbH / Zum Ueri...        Altbier   \n4     Ninkasi Brewing Company Sleigh'r Dark Doüble A...        Altbier   \n...                                                 ...            ...   \n3192                 Cisco Brewers Inc. Winter Shredder  Winter Warmer   \n3193          RJ Rockers Brewing Company First Snow Ale  Winter Warmer   \n3194  Natty Greene's Pub & Brewing Co. Red Nose Wint...  Winter Warmer   \n3195  Fish Brewing Company / Fishbowl Brewpub Fish T...  Winter Warmer   \n3196  Hoppin' Frog Brewery Barrel Aged Frosted Frog ...  Winter Warmer   \n\n                                               Brewery  \\\n0                                  Alaskan Brewing Co.   \n1                               Long Trail Brewing Co.   \n2                               Long Trail Brewing Co.   \n3     Uerige Obergärige Hausbrauerei GmbH / Zum Uerige   \n4                              Ninkasi Brewing Company   \n...                                                ...   \n3192                                Cisco Brewers Inc.   \n3193                        RJ Rockers Brewing Company   \n3194                  Natty Greene's Pub & Brewing Co.   \n3195           Fish Brewing Company / Fishbowl Brewpub   \n3196                              Hoppin' Frog Brewery   \n\n                                            Description review_aroma  \\\n0     Richly malty and long on the palate, with just...         3.50   \n1     This malty, full-bodied double alt is also kno...         3.80   \n2     Long Trail Ale is a full-bodied amber ale mode...         3.41   \n3                             No description available.         4.15   \n4     Called 'Dark Double Alt' on the label.Seize th...         3.62   \n...                                                 ...          ...   \n3192                          No description available.         4.12   \n3193  This hearty American pale ale contains a rich ...         3.95   \n3194                          No description available.         3.58   \n3195                          No description available.         3.90   \n3196  The essence of Christmas is captured in this v...         3.89   \n\n     review_appearance review_palate review_taste review_overall  \\\n0                 3.64          3.56         3.64           3.85   \n1                 3.85          3.90         4.02           4.03   \n2                 3.67          3.60         3.63           3.83   \n3                 4.03          4.15         4.21           4.01   \n4                 3.97          3.73         3.77           3.82   \n...                ...           ...          ...            ...   \n3192              3.88          3.88         3.75           3.73   \n3193              3.75          3.76         3.79           3.73   \n3194              3.71          3.60         3.67           3.71   \n3195              3.89          3.86         3.90           3.88   \n3196              3.69          3.83         3.56           3.78   \n\n      number_of_reviews  \n0                   497  \n1                   481  \n2                   377  \n3                   368  \n4                    96  \n...                 ...  \n3192                  4  \n3193                 50  \n3194                 26  \n3195                 87  \n3196                 18  \n\n[3197 rows x 10 columns]",
      "text/html": "<div>\n<style scoped>\n    .dataframe tbody tr th:only-of-type {\n        vertical-align: middle;\n    }\n\n    .dataframe tbody tr th {\n        vertical-align: top;\n    }\n\n    .dataframe thead th {\n        text-align: right;\n    }\n</style>\n<table border=\"1\" class=\"dataframe\">\n  <thead>\n    <tr style=\"text-align: right;\">\n      <th></th>\n      <th>Full_Beer_Name</th>\n      <th>Style</th>\n      <th>Brewery</th>\n      <th>Description</th>\n      <th>review_aroma</th>\n      <th>review_appearance</th>\n      <th>review_palate</th>\n      <th>review_taste</th>\n      <th>review_overall</th>\n      <th>number_of_reviews</th>\n    </tr>\n  </thead>\n  <tbody>\n    <tr>\n      <th>0</th>\n      <td>Alaskan Brewing Co. Alaskan Amber</td>\n      <td>Altbier</td>\n      <td>Alaskan Brewing Co.</td>\n      <td>Richly malty and long on the palate, with just...</td>\n      <td>3.50</td>\n      <td>3.64</td>\n      <td>3.56</td>\n      <td>3.64</td>\n      <td>3.85</td>\n      <td>497</td>\n    </tr>\n    <tr>\n      <th>1</th>\n      <td>Long Trail Brewing Co. Double Bag</td>\n      <td>Altbier</td>\n      <td>Long Trail Brewing Co.</td>\n      <td>This malty, full-bodied double alt is also kno...</td>\n      <td>3.80</td>\n      <td>3.85</td>\n      <td>3.90</td>\n      <td>4.02</td>\n      <td>4.03</td>\n      <td>481</td>\n    </tr>\n    <tr>\n      <th>2</th>\n      <td>Long Trail Brewing Co. Long Trail Ale</td>\n      <td>Altbier</td>\n      <td>Long Trail Brewing Co.</td>\n      <td>Long Trail Ale is a full-bodied amber ale mode...</td>\n      <td>3.41</td>\n      <td>3.67</td>\n      <td>3.60</td>\n      <td>3.63</td>\n      <td>3.83</td>\n      <td>377</td>\n    </tr>\n    <tr>\n      <th>3</th>\n      <td>Uerige Obergärige Hausbrauerei GmbH / Zum Ueri...</td>\n      <td>Altbier</td>\n      <td>Uerige Obergärige Hausbrauerei GmbH / Zum Uerige</td>\n      <td>No description available.</td>\n      <td>4.15</td>\n      <td>4.03</td>\n      <td>4.15</td>\n      <td>4.21</td>\n      <td>4.01</td>\n      <td>368</td>\n    </tr>\n    <tr>\n      <th>4</th>\n      <td>Ninkasi Brewing Company Sleigh'r Dark Doüble A...</td>\n      <td>Altbier</td>\n      <td>Ninkasi Brewing Company</td>\n      <td>Called 'Dark Double Alt' on the label.Seize th...</td>\n      <td>3.62</td>\n      <td>3.97</td>\n      <td>3.73</td>\n      <td>3.77</td>\n      <td>3.82</td>\n      <td>96</td>\n    </tr>\n    <tr>\n      <th>...</th>\n      <td>...</td>\n      <td>...</td>\n      <td>...</td>\n      <td>...</td>\n      <td>...</td>\n      <td>...</td>\n      <td>...</td>\n      <td>...</td>\n      <td>...</td>\n      <td>...</td>\n    </tr>\n    <tr>\n      <th>3192</th>\n      <td>Cisco Brewers Inc. Winter Shredder</td>\n      <td>Winter Warmer</td>\n      <td>Cisco Brewers Inc.</td>\n      <td>No description available.</td>\n      <td>4.12</td>\n      <td>3.88</td>\n      <td>3.88</td>\n      <td>3.75</td>\n      <td>3.73</td>\n      <td>4</td>\n    </tr>\n    <tr>\n      <th>3193</th>\n      <td>RJ Rockers Brewing Company First Snow Ale</td>\n      <td>Winter Warmer</td>\n      <td>RJ Rockers Brewing Company</td>\n      <td>This hearty American pale ale contains a rich ...</td>\n      <td>3.95</td>\n      <td>3.75</td>\n      <td>3.76</td>\n      <td>3.79</td>\n      <td>3.73</td>\n      <td>50</td>\n    </tr>\n    <tr>\n      <th>3194</th>\n      <td>Natty Greene's Pub &amp; Brewing Co. Red Nose Wint...</td>\n      <td>Winter Warmer</td>\n      <td>Natty Greene's Pub &amp; Brewing Co.</td>\n      <td>No description available.</td>\n      <td>3.58</td>\n      <td>3.71</td>\n      <td>3.60</td>\n      <td>3.67</td>\n      <td>3.71</td>\n      <td>26</td>\n    </tr>\n    <tr>\n      <th>3195</th>\n      <td>Fish Brewing Company / Fishbowl Brewpub Fish T...</td>\n      <td>Winter Warmer</td>\n      <td>Fish Brewing Company / Fishbowl Brewpub</td>\n      <td>No description available.</td>\n      <td>3.90</td>\n      <td>3.89</td>\n      <td>3.86</td>\n      <td>3.90</td>\n      <td>3.88</td>\n      <td>87</td>\n    </tr>\n    <tr>\n      <th>3196</th>\n      <td>Hoppin' Frog Brewery Barrel Aged Frosted Frog ...</td>\n      <td>Winter Warmer</td>\n      <td>Hoppin' Frog Brewery</td>\n      <td>The essence of Christmas is captured in this v...</td>\n      <td>3.89</td>\n      <td>3.69</td>\n      <td>3.83</td>\n      <td>3.56</td>\n      <td>3.78</td>\n      <td>18</td>\n    </tr>\n  </tbody>\n</table>\n<p>3197 rows × 10 columns</p>\n</div>"
     },
     "execution_count": 5,
     "metadata": {},
     "output_type": "execute_result"
    }
   ],
   "source": [
    "# Round review scores to 2 decimal places\n",
    "for col in reviews_df.columns[4:9]:\n",
    "    reviews_df[col] = reviews_df[col].map(\"{:.2f}\".format)\n",
    "reviews_df"
   ],
   "metadata": {
    "collapsed": false,
    "pycharm": {
     "name": "#%%\n"
    }
   }
  },
  {
   "cell_type": "code",
   "execution_count": 6,
   "outputs": [
    {
     "data": {
      "text/plain": "                                      Full_Beer_Name    Style  \\\n0                  Alaskan Brewing Co. Alaskan Amber  Altbier   \n1                  Long Trail Brewing Co. Double Bag  Altbier   \n2              Long Trail Brewing Co. Long Trail Ale  Altbier   \n3  Uerige Obergärige Hausbrauerei GmbH / Zum Ueri...  Altbier   \n4  Ninkasi Brewing Company Sleigh'r Dark Doüble A...  Altbier   \n\n                                            Brewery  ABV  Min_IBU  Max_IBU  \\\n0                               Alaskan Brewing Co.  5.3       25       50   \n1                            Long Trail Brewing Co.  7.2       25       50   \n2                            Long Trail Brewing Co.  5.0       25       50   \n3  Uerige Obergärige Hausbrauerei GmbH / Zum Uerige  8.5       25       50   \n4                           Ninkasi Brewing Company  7.2       25       50   \n\n   Astringency  Body  Alcohol  Bitter  Sweet  Sour  Salty  Fruits  Hoppy  \\\n0           13    32        9      47     74    33      0      33     57   \n1           12    57       18      33     55    16      0      24     35   \n2           14    37        6      42     43    11      0      10     54   \n3           13    55       31      47    101    18      1      49     40   \n4           25    51       26      44     45     9      1      11     51   \n\n   Spices  Malty  \n0       8    111  \n1      12     84  \n2       4     62  \n3      16    119  \n4      20     95  ",
      "text/html": "<div>\n<style scoped>\n    .dataframe tbody tr th:only-of-type {\n        vertical-align: middle;\n    }\n\n    .dataframe tbody tr th {\n        vertical-align: top;\n    }\n\n    .dataframe thead th {\n        text-align: right;\n    }\n</style>\n<table border=\"1\" class=\"dataframe\">\n  <thead>\n    <tr style=\"text-align: right;\">\n      <th></th>\n      <th>Full_Beer_Name</th>\n      <th>Style</th>\n      <th>Brewery</th>\n      <th>ABV</th>\n      <th>Min_IBU</th>\n      <th>Max_IBU</th>\n      <th>Astringency</th>\n      <th>Body</th>\n      <th>Alcohol</th>\n      <th>Bitter</th>\n      <th>Sweet</th>\n      <th>Sour</th>\n      <th>Salty</th>\n      <th>Fruits</th>\n      <th>Hoppy</th>\n      <th>Spices</th>\n      <th>Malty</th>\n    </tr>\n  </thead>\n  <tbody>\n    <tr>\n      <th>0</th>\n      <td>Alaskan Brewing Co. Alaskan Amber</td>\n      <td>Altbier</td>\n      <td>Alaskan Brewing Co.</td>\n      <td>5.3</td>\n      <td>25</td>\n      <td>50</td>\n      <td>13</td>\n      <td>32</td>\n      <td>9</td>\n      <td>47</td>\n      <td>74</td>\n      <td>33</td>\n      <td>0</td>\n      <td>33</td>\n      <td>57</td>\n      <td>8</td>\n      <td>111</td>\n    </tr>\n    <tr>\n      <th>1</th>\n      <td>Long Trail Brewing Co. Double Bag</td>\n      <td>Altbier</td>\n      <td>Long Trail Brewing Co.</td>\n      <td>7.2</td>\n      <td>25</td>\n      <td>50</td>\n      <td>12</td>\n      <td>57</td>\n      <td>18</td>\n      <td>33</td>\n      <td>55</td>\n      <td>16</td>\n      <td>0</td>\n      <td>24</td>\n      <td>35</td>\n      <td>12</td>\n      <td>84</td>\n    </tr>\n    <tr>\n      <th>2</th>\n      <td>Long Trail Brewing Co. Long Trail Ale</td>\n      <td>Altbier</td>\n      <td>Long Trail Brewing Co.</td>\n      <td>5.0</td>\n      <td>25</td>\n      <td>50</td>\n      <td>14</td>\n      <td>37</td>\n      <td>6</td>\n      <td>42</td>\n      <td>43</td>\n      <td>11</td>\n      <td>0</td>\n      <td>10</td>\n      <td>54</td>\n      <td>4</td>\n      <td>62</td>\n    </tr>\n    <tr>\n      <th>3</th>\n      <td>Uerige Obergärige Hausbrauerei GmbH / Zum Ueri...</td>\n      <td>Altbier</td>\n      <td>Uerige Obergärige Hausbrauerei GmbH / Zum Uerige</td>\n      <td>8.5</td>\n      <td>25</td>\n      <td>50</td>\n      <td>13</td>\n      <td>55</td>\n      <td>31</td>\n      <td>47</td>\n      <td>101</td>\n      <td>18</td>\n      <td>1</td>\n      <td>49</td>\n      <td>40</td>\n      <td>16</td>\n      <td>119</td>\n    </tr>\n    <tr>\n      <th>4</th>\n      <td>Ninkasi Brewing Company Sleigh'r Dark Doüble A...</td>\n      <td>Altbier</td>\n      <td>Ninkasi Brewing Company</td>\n      <td>7.2</td>\n      <td>25</td>\n      <td>50</td>\n      <td>25</td>\n      <td>51</td>\n      <td>26</td>\n      <td>44</td>\n      <td>45</td>\n      <td>9</td>\n      <td>1</td>\n      <td>11</td>\n      <td>51</td>\n      <td>20</td>\n      <td>95</td>\n    </tr>\n  </tbody>\n</table>\n</div>"
     },
     "execution_count": 6,
     "metadata": {},
     "output_type": "execute_result"
    }
   ],
   "source": [
    "# Check beer data\n",
    "beers_df.head()"
   ],
   "metadata": {
    "collapsed": false,
    "pycharm": {
     "name": "#%%\n"
    }
   }
  },
  {
   "cell_type": "code",
   "execution_count": 7,
   "outputs": [
    {
     "data": {
      "text/plain": "                                      Full_Beer_Name    Style  \\\n0                  Alaskan Brewing Co. Alaskan Amber  Altbier   \n1                  Long Trail Brewing Co. Double Bag  Altbier   \n2              Long Trail Brewing Co. Long Trail Ale  Altbier   \n3  Uerige Obergärige Hausbrauerei GmbH / Zum Ueri...  Altbier   \n4  Ninkasi Brewing Company Sleigh'r Dark Doüble A...  Altbier   \n\n                                            Brewery       ABV   Min_IBU  \\\n0                               Alaskan Brewing Co.  0.092174  0.384615   \n1                            Long Trail Brewing Co.  0.125217  0.384615   \n2                            Long Trail Brewing Co.  0.086957  0.384615   \n3  Uerige Obergärige Hausbrauerei GmbH / Zum Uerige  0.147826  0.384615   \n4                           Ninkasi Brewing Company  0.125217  0.384615   \n\n   Max_IBU  Astringency      Body   Alcohol    Bitter     Sweet      Sour  \\\n0      0.5     0.117117  0.288288  0.081081  0.423423  0.666667  0.297297   \n1      0.5     0.142857  0.678571  0.214286  0.392857  0.654762  0.190476   \n2      0.5     0.225806  0.596774  0.096774  0.677419  0.693548  0.177419   \n3      0.5     0.101695  0.457627  0.254237  0.389831  0.847458  0.144068   \n4      0.5     0.255319  0.531915  0.265957  0.457447  0.468085  0.085106   \n\n   Salty    Fruits     Hoppy    Spices  Malty  \n0    0.0  0.297297  0.513514  0.072072    1.0  \n1    0.0  0.285714  0.416667  0.142857    1.0  \n2    0.0  0.161290  0.870968  0.064516    1.0  \n3    0.0  0.406780  0.330508  0.127119    1.0  \n4    0.0  0.106383  0.531915  0.202128    1.0  ",
      "text/html": "<div>\n<style scoped>\n    .dataframe tbody tr th:only-of-type {\n        vertical-align: middle;\n    }\n\n    .dataframe tbody tr th {\n        vertical-align: top;\n    }\n\n    .dataframe thead th {\n        text-align: right;\n    }\n</style>\n<table border=\"1\" class=\"dataframe\">\n  <thead>\n    <tr style=\"text-align: right;\">\n      <th></th>\n      <th>Full_Beer_Name</th>\n      <th>Style</th>\n      <th>Brewery</th>\n      <th>ABV</th>\n      <th>Min_IBU</th>\n      <th>Max_IBU</th>\n      <th>Astringency</th>\n      <th>Body</th>\n      <th>Alcohol</th>\n      <th>Bitter</th>\n      <th>Sweet</th>\n      <th>Sour</th>\n      <th>Salty</th>\n      <th>Fruits</th>\n      <th>Hoppy</th>\n      <th>Spices</th>\n      <th>Malty</th>\n    </tr>\n  </thead>\n  <tbody>\n    <tr>\n      <th>0</th>\n      <td>Alaskan Brewing Co. Alaskan Amber</td>\n      <td>Altbier</td>\n      <td>Alaskan Brewing Co.</td>\n      <td>0.092174</td>\n      <td>0.384615</td>\n      <td>0.5</td>\n      <td>0.117117</td>\n      <td>0.288288</td>\n      <td>0.081081</td>\n      <td>0.423423</td>\n      <td>0.666667</td>\n      <td>0.297297</td>\n      <td>0.0</td>\n      <td>0.297297</td>\n      <td>0.513514</td>\n      <td>0.072072</td>\n      <td>1.0</td>\n    </tr>\n    <tr>\n      <th>1</th>\n      <td>Long Trail Brewing Co. Double Bag</td>\n      <td>Altbier</td>\n      <td>Long Trail Brewing Co.</td>\n      <td>0.125217</td>\n      <td>0.384615</td>\n      <td>0.5</td>\n      <td>0.142857</td>\n      <td>0.678571</td>\n      <td>0.214286</td>\n      <td>0.392857</td>\n      <td>0.654762</td>\n      <td>0.190476</td>\n      <td>0.0</td>\n      <td>0.285714</td>\n      <td>0.416667</td>\n      <td>0.142857</td>\n      <td>1.0</td>\n    </tr>\n    <tr>\n      <th>2</th>\n      <td>Long Trail Brewing Co. Long Trail Ale</td>\n      <td>Altbier</td>\n      <td>Long Trail Brewing Co.</td>\n      <td>0.086957</td>\n      <td>0.384615</td>\n      <td>0.5</td>\n      <td>0.225806</td>\n      <td>0.596774</td>\n      <td>0.096774</td>\n      <td>0.677419</td>\n      <td>0.693548</td>\n      <td>0.177419</td>\n      <td>0.0</td>\n      <td>0.161290</td>\n      <td>0.870968</td>\n      <td>0.064516</td>\n      <td>1.0</td>\n    </tr>\n    <tr>\n      <th>3</th>\n      <td>Uerige Obergärige Hausbrauerei GmbH / Zum Ueri...</td>\n      <td>Altbier</td>\n      <td>Uerige Obergärige Hausbrauerei GmbH / Zum Uerige</td>\n      <td>0.147826</td>\n      <td>0.384615</td>\n      <td>0.5</td>\n      <td>0.101695</td>\n      <td>0.457627</td>\n      <td>0.254237</td>\n      <td>0.389831</td>\n      <td>0.847458</td>\n      <td>0.144068</td>\n      <td>0.0</td>\n      <td>0.406780</td>\n      <td>0.330508</td>\n      <td>0.127119</td>\n      <td>1.0</td>\n    </tr>\n    <tr>\n      <th>4</th>\n      <td>Ninkasi Brewing Company Sleigh'r Dark Doüble A...</td>\n      <td>Altbier</td>\n      <td>Ninkasi Brewing Company</td>\n      <td>0.125217</td>\n      <td>0.384615</td>\n      <td>0.5</td>\n      <td>0.255319</td>\n      <td>0.531915</td>\n      <td>0.265957</td>\n      <td>0.457447</td>\n      <td>0.468085</td>\n      <td>0.085106</td>\n      <td>0.0</td>\n      <td>0.106383</td>\n      <td>0.531915</td>\n      <td>0.202128</td>\n      <td>1.0</td>\n    </tr>\n  </tbody>\n</table>\n</div>"
     },
     "execution_count": 7,
     "metadata": {},
     "output_type": "execute_result"
    }
   ],
   "source": [
    "# Scale numerical values\n",
    "scaler = MinMaxScaler()\n",
    "\n",
    "def scale_col_by_row(df, cols):\n",
    "    # Scale values by row\n",
    "    scaled_cols = pd.DataFrame(scaler.fit_transform(df[cols].T).T, columns=cols)\n",
    "    df[cols] = scaled_cols\n",
    "    return df\n",
    "\n",
    "def scale_col_by_col(df, cols):\n",
    "    # Scale values by column\n",
    "    scaled_cols = pd.DataFrame(scaler.fit_transform(df[cols]), columns=cols)\n",
    "    df[cols] = scaled_cols\n",
    "    return df\n",
    "\n",
    "# Scale values in tasting profile features (across rows)\n",
    "beers_df = scale_col_by_row(beers_df, beers_df.columns[6:])\n",
    "\n",
    "# Scale values in tasting profile features (across columns)\n",
    "beers_df = scale_col_by_col(beers_df, beers_df.columns[6:])\n",
    "\n",
    "# Scale values in chemical features (across columns)\n",
    "beers_df = scale_col_by_col(beers_df, beers_df.columns[3:6])\n",
    "\n",
    "# Peek at re-scaled data\n",
    "beers_df.head()"
   ],
   "metadata": {
    "collapsed": false,
    "pycharm": {
     "name": "#%%\n"
    }
   }
  },
  {
   "cell_type": "code",
   "execution_count": 8,
   "outputs": [
    {
     "name": "stderr",
     "output_type": "stream",
     "text": [
      "C:\\Users\\Jack\\anaconda3\\envs\\mlenv\\lib\\site-packages\\sklearn\\utils\\deprecation.py:87: FutureWarning: Function get_feature_names is deprecated; get_feature_names is deprecated in 1.0 and will be removed in 1.2. Please use get_feature_names_out instead.\n",
      "  warnings.warn(msg, category=FutureWarning)\n"
     ]
    },
    {
     "data": {
      "text/plain": "   Style_Altbier  Style_Barleywine  Style_Bitter  Style_Blonde Ale  \\\n0            1.0               0.0           0.0               0.0   \n1            1.0               0.0           0.0               0.0   \n2            1.0               0.0           0.0               0.0   \n3            1.0               0.0           0.0               0.0   \n4            1.0               0.0           0.0               0.0   \n\n   Style_Bock  Style_Brown Ale  Style_Chile Beer  Style_Cream Ale  \\\n0         0.0              0.0               0.0              0.0   \n1         0.0              0.0               0.0              0.0   \n2         0.0              0.0               0.0              0.0   \n3         0.0              0.0               0.0              0.0   \n4         0.0              0.0               0.0              0.0   \n\n   Style_Dubbel  Style_Farmhouse Ale  ...  Style_Scotch Ale / Wee Heavy  \\\n0           0.0                  0.0  ...                           0.0   \n1           0.0                  0.0  ...                           0.0   \n2           0.0                  0.0  ...                           0.0   \n3           0.0                  0.0  ...                           0.0   \n4           0.0                  0.0  ...                           0.0   \n\n   Style_Scottish Ale  Style_Smoked Beer  Style_Sour  Style_Stout  \\\n0                 0.0                0.0         0.0          0.0   \n1                 0.0                0.0         0.0          0.0   \n2                 0.0                0.0         0.0          0.0   \n3                 0.0                0.0         0.0          0.0   \n4                 0.0                0.0         0.0          0.0   \n\n   Style_Strong Ale  Style_Tripel  Style_Wheat Beer  Style_Wild Ale  \\\n0               0.0           0.0               0.0             0.0   \n1               0.0           0.0               0.0             0.0   \n2               0.0           0.0               0.0             0.0   \n3               0.0           0.0               0.0             0.0   \n4               0.0           0.0               0.0             0.0   \n\n   Style_Winter Warmer  \n0                  0.0  \n1                  0.0  \n2                  0.0  \n3                  0.0  \n4                  0.0  \n\n[5 rows x 38 columns]",
      "text/html": "<div>\n<style scoped>\n    .dataframe tbody tr th:only-of-type {\n        vertical-align: middle;\n    }\n\n    .dataframe tbody tr th {\n        vertical-align: top;\n    }\n\n    .dataframe thead th {\n        text-align: right;\n    }\n</style>\n<table border=\"1\" class=\"dataframe\">\n  <thead>\n    <tr style=\"text-align: right;\">\n      <th></th>\n      <th>Style_Altbier</th>\n      <th>Style_Barleywine</th>\n      <th>Style_Bitter</th>\n      <th>Style_Blonde Ale</th>\n      <th>Style_Bock</th>\n      <th>Style_Brown Ale</th>\n      <th>Style_Chile Beer</th>\n      <th>Style_Cream Ale</th>\n      <th>Style_Dubbel</th>\n      <th>Style_Farmhouse Ale</th>\n      <th>...</th>\n      <th>Style_Scotch Ale / Wee Heavy</th>\n      <th>Style_Scottish Ale</th>\n      <th>Style_Smoked Beer</th>\n      <th>Style_Sour</th>\n      <th>Style_Stout</th>\n      <th>Style_Strong Ale</th>\n      <th>Style_Tripel</th>\n      <th>Style_Wheat Beer</th>\n      <th>Style_Wild Ale</th>\n      <th>Style_Winter Warmer</th>\n    </tr>\n  </thead>\n  <tbody>\n    <tr>\n      <th>0</th>\n      <td>1.0</td>\n      <td>0.0</td>\n      <td>0.0</td>\n      <td>0.0</td>\n      <td>0.0</td>\n      <td>0.0</td>\n      <td>0.0</td>\n      <td>0.0</td>\n      <td>0.0</td>\n      <td>0.0</td>\n      <td>...</td>\n      <td>0.0</td>\n      <td>0.0</td>\n      <td>0.0</td>\n      <td>0.0</td>\n      <td>0.0</td>\n      <td>0.0</td>\n      <td>0.0</td>\n      <td>0.0</td>\n      <td>0.0</td>\n      <td>0.0</td>\n    </tr>\n    <tr>\n      <th>1</th>\n      <td>1.0</td>\n      <td>0.0</td>\n      <td>0.0</td>\n      <td>0.0</td>\n      <td>0.0</td>\n      <td>0.0</td>\n      <td>0.0</td>\n      <td>0.0</td>\n      <td>0.0</td>\n      <td>0.0</td>\n      <td>...</td>\n      <td>0.0</td>\n      <td>0.0</td>\n      <td>0.0</td>\n      <td>0.0</td>\n      <td>0.0</td>\n      <td>0.0</td>\n      <td>0.0</td>\n      <td>0.0</td>\n      <td>0.0</td>\n      <td>0.0</td>\n    </tr>\n    <tr>\n      <th>2</th>\n      <td>1.0</td>\n      <td>0.0</td>\n      <td>0.0</td>\n      <td>0.0</td>\n      <td>0.0</td>\n      <td>0.0</td>\n      <td>0.0</td>\n      <td>0.0</td>\n      <td>0.0</td>\n      <td>0.0</td>\n      <td>...</td>\n      <td>0.0</td>\n      <td>0.0</td>\n      <td>0.0</td>\n      <td>0.0</td>\n      <td>0.0</td>\n      <td>0.0</td>\n      <td>0.0</td>\n      <td>0.0</td>\n      <td>0.0</td>\n      <td>0.0</td>\n    </tr>\n    <tr>\n      <th>3</th>\n      <td>1.0</td>\n      <td>0.0</td>\n      <td>0.0</td>\n      <td>0.0</td>\n      <td>0.0</td>\n      <td>0.0</td>\n      <td>0.0</td>\n      <td>0.0</td>\n      <td>0.0</td>\n      <td>0.0</td>\n      <td>...</td>\n      <td>0.0</td>\n      <td>0.0</td>\n      <td>0.0</td>\n      <td>0.0</td>\n      <td>0.0</td>\n      <td>0.0</td>\n      <td>0.0</td>\n      <td>0.0</td>\n      <td>0.0</td>\n      <td>0.0</td>\n    </tr>\n    <tr>\n      <th>4</th>\n      <td>1.0</td>\n      <td>0.0</td>\n      <td>0.0</td>\n      <td>0.0</td>\n      <td>0.0</td>\n      <td>0.0</td>\n      <td>0.0</td>\n      <td>0.0</td>\n      <td>0.0</td>\n      <td>0.0</td>\n      <td>...</td>\n      <td>0.0</td>\n      <td>0.0</td>\n      <td>0.0</td>\n      <td>0.0</td>\n      <td>0.0</td>\n      <td>0.0</td>\n      <td>0.0</td>\n      <td>0.0</td>\n      <td>0.0</td>\n      <td>0.0</td>\n    </tr>\n  </tbody>\n</table>\n<p>5 rows × 38 columns</p>\n</div>"
     },
     "execution_count": 8,
     "metadata": {},
     "output_type": "execute_result"
    }
   ],
   "source": [
    "enc = OneHotEncoder(sparse=False)\n",
    "\n",
    "# Fit the encoder and produce encoded DataFrame\n",
    "encode_df = pd.DataFrame(enc.fit_transform(beers_df['Style'].values.reshape(-1,1)))\n",
    "\n",
    "# Rename encoded columns\n",
    "encode_df.columns = enc.get_feature_names(['Style'])\n",
    "encode_df.head()"
   ],
   "metadata": {
    "collapsed": false,
    "pycharm": {
     "name": "#%%\n"
    }
   }
  },
  {
   "cell_type": "code",
   "execution_count": 9,
   "outputs": [
    {
     "name": "stderr",
     "output_type": "stream",
     "text": [
      "C:\\Users\\Jack\\anaconda3\\envs\\mlenv\\lib\\site-packages\\ipykernel_launcher.py:2: FutureWarning: In a future version of pandas all arguments of DataFrame.drop except for the argument 'labels' will be keyword-only\n",
      "  \n"
     ]
    },
    {
     "data": {
      "text/plain": "                                         Full_Beer_Name  \\\n0                     Alaskan Brewing Co. Alaskan Amber   \n1                     Long Trail Brewing Co. Double Bag   \n2                 Long Trail Brewing Co. Long Trail Ale   \n3     Uerige Obergärige Hausbrauerei GmbH / Zum Ueri...   \n4     Ninkasi Brewing Company Sleigh'r Dark Doüble A...   \n...                                                 ...   \n3192                 Cisco Brewers Inc. Winter Shredder   \n3193          RJ Rockers Brewing Company First Snow Ale   \n3194  Natty Greene's Pub & Brewing Co. Red Nose Wint...   \n3195  Fish Brewing Company / Fishbowl Brewpub Fish T...   \n3196  Hoppin' Frog Brewery Barrel Aged Frosted Frog ...   \n\n                                               Brewery       ABV   Min_IBU  \\\n0                                  Alaskan Brewing Co.  0.092174  0.384615   \n1                               Long Trail Brewing Co.  0.125217  0.384615   \n2                               Long Trail Brewing Co.  0.086957  0.384615   \n3     Uerige Obergärige Hausbrauerei GmbH / Zum Uerige  0.147826  0.384615   \n4                              Ninkasi Brewing Company  0.125217  0.384615   \n...                                                ...       ...       ...   \n3192                                Cisco Brewers Inc.  0.153043  0.538462   \n3193                        RJ Rockers Brewing Company  0.104348  0.538462   \n3194                  Natty Greene's Pub & Brewing Co.  0.118261  0.538462   \n3195           Fish Brewing Company / Fishbowl Brewpub  0.130435  0.538462   \n3196                              Hoppin' Frog Brewery  0.149565  0.538462   \n\n      Max_IBU  Astringency      Body   Alcohol    Bitter     Sweet  ...  \\\n0         0.5     0.117117  0.288288  0.081081  0.423423  0.666667  ...   \n1         0.5     0.142857  0.678571  0.214286  0.392857  0.654762  ...   \n2         0.5     0.225806  0.596774  0.096774  0.677419  0.693548  ...   \n3         0.5     0.101695  0.457627  0.254237  0.389831  0.847458  ...   \n4         0.5     0.255319  0.531915  0.265957  0.457447  0.468085  ...   \n...       ...          ...       ...       ...       ...       ...  ...   \n3192      0.5     0.202703  0.500000  0.324324  0.472973  0.621622  ...   \n3193      0.5     0.107143  0.221429  0.164286  0.114286  0.385714  ...   \n3194      0.5     0.083333  0.458333  0.250000  0.197917  0.541667  ...   \n3195      0.5     0.100000  0.327273  0.454545  0.636364  0.654545  ...   \n3196      0.5     0.054054  0.337838  0.331081  0.087838  0.479730  ...   \n\n      Style_Scotch Ale / Wee Heavy  Style_Scottish Ale  Style_Smoked Beer  \\\n0                              0.0                 0.0                0.0   \n1                              0.0                 0.0                0.0   \n2                              0.0                 0.0                0.0   \n3                              0.0                 0.0                0.0   \n4                              0.0                 0.0                0.0   \n...                            ...                 ...                ...   \n3192                           0.0                 0.0                0.0   \n3193                           0.0                 0.0                0.0   \n3194                           0.0                 0.0                0.0   \n3195                           0.0                 0.0                0.0   \n3196                           0.0                 0.0                0.0   \n\n      Style_Sour  Style_Stout  Style_Strong Ale  Style_Tripel  \\\n0            0.0          0.0               0.0           0.0   \n1            0.0          0.0               0.0           0.0   \n2            0.0          0.0               0.0           0.0   \n3            0.0          0.0               0.0           0.0   \n4            0.0          0.0               0.0           0.0   \n...          ...          ...               ...           ...   \n3192         0.0          0.0               0.0           0.0   \n3193         0.0          0.0               0.0           0.0   \n3194         0.0          0.0               0.0           0.0   \n3195         0.0          0.0               0.0           0.0   \n3196         0.0          0.0               0.0           0.0   \n\n      Style_Wheat Beer  Style_Wild Ale  Style_Winter Warmer  \n0                  0.0             0.0                  0.0  \n1                  0.0             0.0                  0.0  \n2                  0.0             0.0                  0.0  \n3                  0.0             0.0                  0.0  \n4                  0.0             0.0                  0.0  \n...                ...             ...                  ...  \n3192               0.0             0.0                  1.0  \n3193               0.0             0.0                  1.0  \n3194               0.0             0.0                  1.0  \n3195               0.0             0.0                  1.0  \n3196               0.0             0.0                  1.0  \n\n[3197 rows x 54 columns]",
      "text/html": "<div>\n<style scoped>\n    .dataframe tbody tr th:only-of-type {\n        vertical-align: middle;\n    }\n\n    .dataframe tbody tr th {\n        vertical-align: top;\n    }\n\n    .dataframe thead th {\n        text-align: right;\n    }\n</style>\n<table border=\"1\" class=\"dataframe\">\n  <thead>\n    <tr style=\"text-align: right;\">\n      <th></th>\n      <th>Full_Beer_Name</th>\n      <th>Brewery</th>\n      <th>ABV</th>\n      <th>Min_IBU</th>\n      <th>Max_IBU</th>\n      <th>Astringency</th>\n      <th>Body</th>\n      <th>Alcohol</th>\n      <th>Bitter</th>\n      <th>Sweet</th>\n      <th>...</th>\n      <th>Style_Scotch Ale / Wee Heavy</th>\n      <th>Style_Scottish Ale</th>\n      <th>Style_Smoked Beer</th>\n      <th>Style_Sour</th>\n      <th>Style_Stout</th>\n      <th>Style_Strong Ale</th>\n      <th>Style_Tripel</th>\n      <th>Style_Wheat Beer</th>\n      <th>Style_Wild Ale</th>\n      <th>Style_Winter Warmer</th>\n    </tr>\n  </thead>\n  <tbody>\n    <tr>\n      <th>0</th>\n      <td>Alaskan Brewing Co. Alaskan Amber</td>\n      <td>Alaskan Brewing Co.</td>\n      <td>0.092174</td>\n      <td>0.384615</td>\n      <td>0.5</td>\n      <td>0.117117</td>\n      <td>0.288288</td>\n      <td>0.081081</td>\n      <td>0.423423</td>\n      <td>0.666667</td>\n      <td>...</td>\n      <td>0.0</td>\n      <td>0.0</td>\n      <td>0.0</td>\n      <td>0.0</td>\n      <td>0.0</td>\n      <td>0.0</td>\n      <td>0.0</td>\n      <td>0.0</td>\n      <td>0.0</td>\n      <td>0.0</td>\n    </tr>\n    <tr>\n      <th>1</th>\n      <td>Long Trail Brewing Co. Double Bag</td>\n      <td>Long Trail Brewing Co.</td>\n      <td>0.125217</td>\n      <td>0.384615</td>\n      <td>0.5</td>\n      <td>0.142857</td>\n      <td>0.678571</td>\n      <td>0.214286</td>\n      <td>0.392857</td>\n      <td>0.654762</td>\n      <td>...</td>\n      <td>0.0</td>\n      <td>0.0</td>\n      <td>0.0</td>\n      <td>0.0</td>\n      <td>0.0</td>\n      <td>0.0</td>\n      <td>0.0</td>\n      <td>0.0</td>\n      <td>0.0</td>\n      <td>0.0</td>\n    </tr>\n    <tr>\n      <th>2</th>\n      <td>Long Trail Brewing Co. Long Trail Ale</td>\n      <td>Long Trail Brewing Co.</td>\n      <td>0.086957</td>\n      <td>0.384615</td>\n      <td>0.5</td>\n      <td>0.225806</td>\n      <td>0.596774</td>\n      <td>0.096774</td>\n      <td>0.677419</td>\n      <td>0.693548</td>\n      <td>...</td>\n      <td>0.0</td>\n      <td>0.0</td>\n      <td>0.0</td>\n      <td>0.0</td>\n      <td>0.0</td>\n      <td>0.0</td>\n      <td>0.0</td>\n      <td>0.0</td>\n      <td>0.0</td>\n      <td>0.0</td>\n    </tr>\n    <tr>\n      <th>3</th>\n      <td>Uerige Obergärige Hausbrauerei GmbH / Zum Ueri...</td>\n      <td>Uerige Obergärige Hausbrauerei GmbH / Zum Uerige</td>\n      <td>0.147826</td>\n      <td>0.384615</td>\n      <td>0.5</td>\n      <td>0.101695</td>\n      <td>0.457627</td>\n      <td>0.254237</td>\n      <td>0.389831</td>\n      <td>0.847458</td>\n      <td>...</td>\n      <td>0.0</td>\n      <td>0.0</td>\n      <td>0.0</td>\n      <td>0.0</td>\n      <td>0.0</td>\n      <td>0.0</td>\n      <td>0.0</td>\n      <td>0.0</td>\n      <td>0.0</td>\n      <td>0.0</td>\n    </tr>\n    <tr>\n      <th>4</th>\n      <td>Ninkasi Brewing Company Sleigh'r Dark Doüble A...</td>\n      <td>Ninkasi Brewing Company</td>\n      <td>0.125217</td>\n      <td>0.384615</td>\n      <td>0.5</td>\n      <td>0.255319</td>\n      <td>0.531915</td>\n      <td>0.265957</td>\n      <td>0.457447</td>\n      <td>0.468085</td>\n      <td>...</td>\n      <td>0.0</td>\n      <td>0.0</td>\n      <td>0.0</td>\n      <td>0.0</td>\n      <td>0.0</td>\n      <td>0.0</td>\n      <td>0.0</td>\n      <td>0.0</td>\n      <td>0.0</td>\n      <td>0.0</td>\n    </tr>\n    <tr>\n      <th>...</th>\n      <td>...</td>\n      <td>...</td>\n      <td>...</td>\n      <td>...</td>\n      <td>...</td>\n      <td>...</td>\n      <td>...</td>\n      <td>...</td>\n      <td>...</td>\n      <td>...</td>\n      <td>...</td>\n      <td>...</td>\n      <td>...</td>\n      <td>...</td>\n      <td>...</td>\n      <td>...</td>\n      <td>...</td>\n      <td>...</td>\n      <td>...</td>\n      <td>...</td>\n      <td>...</td>\n    </tr>\n    <tr>\n      <th>3192</th>\n      <td>Cisco Brewers Inc. Winter Shredder</td>\n      <td>Cisco Brewers Inc.</td>\n      <td>0.153043</td>\n      <td>0.538462</td>\n      <td>0.5</td>\n      <td>0.202703</td>\n      <td>0.500000</td>\n      <td>0.324324</td>\n      <td>0.472973</td>\n      <td>0.621622</td>\n      <td>...</td>\n      <td>0.0</td>\n      <td>0.0</td>\n      <td>0.0</td>\n      <td>0.0</td>\n      <td>0.0</td>\n      <td>0.0</td>\n      <td>0.0</td>\n      <td>0.0</td>\n      <td>0.0</td>\n      <td>1.0</td>\n    </tr>\n    <tr>\n      <th>3193</th>\n      <td>RJ Rockers Brewing Company First Snow Ale</td>\n      <td>RJ Rockers Brewing Company</td>\n      <td>0.104348</td>\n      <td>0.538462</td>\n      <td>0.5</td>\n      <td>0.107143</td>\n      <td>0.221429</td>\n      <td>0.164286</td>\n      <td>0.114286</td>\n      <td>0.385714</td>\n      <td>...</td>\n      <td>0.0</td>\n      <td>0.0</td>\n      <td>0.0</td>\n      <td>0.0</td>\n      <td>0.0</td>\n      <td>0.0</td>\n      <td>0.0</td>\n      <td>0.0</td>\n      <td>0.0</td>\n      <td>1.0</td>\n    </tr>\n    <tr>\n      <th>3194</th>\n      <td>Natty Greene's Pub &amp; Brewing Co. Red Nose Wint...</td>\n      <td>Natty Greene's Pub &amp; Brewing Co.</td>\n      <td>0.118261</td>\n      <td>0.538462</td>\n      <td>0.5</td>\n      <td>0.083333</td>\n      <td>0.458333</td>\n      <td>0.250000</td>\n      <td>0.197917</td>\n      <td>0.541667</td>\n      <td>...</td>\n      <td>0.0</td>\n      <td>0.0</td>\n      <td>0.0</td>\n      <td>0.0</td>\n      <td>0.0</td>\n      <td>0.0</td>\n      <td>0.0</td>\n      <td>0.0</td>\n      <td>0.0</td>\n      <td>1.0</td>\n    </tr>\n    <tr>\n      <th>3195</th>\n      <td>Fish Brewing Company / Fishbowl Brewpub Fish T...</td>\n      <td>Fish Brewing Company / Fishbowl Brewpub</td>\n      <td>0.130435</td>\n      <td>0.538462</td>\n      <td>0.5</td>\n      <td>0.100000</td>\n      <td>0.327273</td>\n      <td>0.454545</td>\n      <td>0.636364</td>\n      <td>0.654545</td>\n      <td>...</td>\n      <td>0.0</td>\n      <td>0.0</td>\n      <td>0.0</td>\n      <td>0.0</td>\n      <td>0.0</td>\n      <td>0.0</td>\n      <td>0.0</td>\n      <td>0.0</td>\n      <td>0.0</td>\n      <td>1.0</td>\n    </tr>\n    <tr>\n      <th>3196</th>\n      <td>Hoppin' Frog Brewery Barrel Aged Frosted Frog ...</td>\n      <td>Hoppin' Frog Brewery</td>\n      <td>0.149565</td>\n      <td>0.538462</td>\n      <td>0.5</td>\n      <td>0.054054</td>\n      <td>0.337838</td>\n      <td>0.331081</td>\n      <td>0.087838</td>\n      <td>0.479730</td>\n      <td>...</td>\n      <td>0.0</td>\n      <td>0.0</td>\n      <td>0.0</td>\n      <td>0.0</td>\n      <td>0.0</td>\n      <td>0.0</td>\n      <td>0.0</td>\n      <td>0.0</td>\n      <td>0.0</td>\n      <td>1.0</td>\n    </tr>\n  </tbody>\n</table>\n<p>3197 rows × 54 columns</p>\n</div>"
     },
     "execution_count": 9,
     "metadata": {},
     "output_type": "execute_result"
    }
   ],
   "source": [
    "# Merge the two DataFrames together and drop the Style column\n",
    "encoded_styles_df = beers_df.merge(encode_df,left_index=True,right_index=True).drop(\"Style\",1)\n",
    "encoded_styles_df"
   ],
   "metadata": {
    "collapsed": false,
    "pycharm": {
     "name": "#%%\n"
    }
   }
  },
  {
   "cell_type": "code",
   "execution_count": 10,
   "outputs": [],
   "source": [
    "# Split our preprocessed data into our features and target arrays\n",
    "y = encoded_styles_df[encoded_styles_df.columns[16:]].values\n",
    "X = encoded_styles_df[encoded_styles_df.columns[2:16]].values\n",
    "\n",
    "# Split the preprocessed data into a training and testing dataset\n",
    "X_train, X_test, y_train, y_test = train_test_split(X, y, stratify=y, random_state=78)"
   ],
   "metadata": {
    "collapsed": false,
    "pycharm": {
     "name": "#%%\n"
    }
   }
  },
  {
   "cell_type": "code",
   "execution_count": 11,
   "outputs": [
    {
     "name": "stdout",
     "output_type": "stream",
     "text": [
      "WARNING:tensorflow:`period` argument is deprecated. Please use `save_freq` to specify the frequency in number of batches seen.\n"
     ]
    }
   ],
   "source": [
    "# Define the checkpoint path and filenames\n",
    "os.makedirs(\"./ML_Weight_Checkpoints/\", exist_ok=True)\n",
    "checkpoint_path = \"./ML_Weight_Checkpoints/seg2_model.h5\"\n",
    "\n",
    "# Create a callback that saves the model's weights every 5 epochs\n",
    "cp_callback = ModelCheckpoint(\n",
    "    filepath=checkpoint_path,\n",
    "    verbose=1,\n",
    "    save_weights_only=True,\n",
    "    save_freq='epoch',\n",
    "    period=10)"
   ],
   "metadata": {
    "collapsed": false,
    "pycharm": {
     "name": "#%%\n"
    }
   }
  },
  {
   "cell_type": "code",
   "execution_count": 12,
   "outputs": [
    {
     "name": "stdout",
     "output_type": "stream",
     "text": [
      "Model: \"sequential\"\n",
      "_________________________________________________________________\n",
      " Layer (type)                Output Shape              Param #   \n",
      "=================================================================\n",
      " dense (Dense)               (None, 15)                225       \n",
      "                                                                 \n",
      " dense_1 (Dense)             (None, 12)                192       \n",
      "                                                                 \n",
      " dense_2 (Dense)             (None, 8)                 104       \n",
      "                                                                 \n",
      " dense_3 (Dense)             (None, 38)                342       \n",
      "                                                                 \n",
      "=================================================================\n",
      "Total params: 863\n",
      "Trainable params: 863\n",
      "Non-trainable params: 0\n",
      "_________________________________________________________________\n"
     ]
    }
   ],
   "source": [
    "# Define the model\n",
    "number_input_features = len(X_train[0])\n",
    "hidden_nodes_layer1 = 15\n",
    "hidden_nodes_layer2 = 12\n",
    "hidden_nodes_layer3 = 8\n",
    "\n",
    "nn = tf.keras.models.Sequential()\n",
    "\n",
    "# First hidden layer\n",
    "nn.add(tf.keras.layers.Dense(units=hidden_nodes_layer1, input_dim=number_input_features, activation=\"relu\"))\n",
    "\n",
    "# Second hidden layer\n",
    "nn.add(tf.keras.layers.Dense(units=hidden_nodes_layer2, activation=\"relu\"))\n",
    "\n",
    "# Third hidden layer\n",
    "nn.add(tf.keras.layers.Dense(units=hidden_nodes_layer3, activation=\"relu\"))\n",
    "\n",
    "# Output layer\n",
    "nn.add(tf.keras.layers.Dense(units=38, activation=\"softmax\"))\n",
    "\n",
    "# Check the structure of the model\n",
    "nn.summary()"
   ],
   "metadata": {
    "collapsed": false,
    "pycharm": {
     "name": "#%%\n"
    }
   }
  },
  {
   "cell_type": "code",
   "execution_count": 13,
   "outputs": [],
   "source": [
    "# Compile the model\n",
    "nn.compile(loss=\"categorical_crossentropy\", optimizer=\"adam\", metrics=[\"accuracy\"])"
   ],
   "metadata": {
    "collapsed": false,
    "pycharm": {
     "name": "#%%\n"
    }
   }
  },
  {
   "cell_type": "code",
   "execution_count": 14,
   "outputs": [
    {
     "name": "stdout",
     "output_type": "stream",
     "text": [
      "Epoch 1/200\n",
      "75/75 [==============================] - 1s 3ms/step - loss: 3.5885 - accuracy: 0.0492\n",
      "Epoch 2/200\n",
      "75/75 [==============================] - 0s 3ms/step - loss: 3.3852 - accuracy: 0.0884\n",
      "Epoch 3/200\n",
      "75/75 [==============================] - 0s 3ms/step - loss: 3.1655 - accuracy: 0.1777\n",
      "Epoch 4/200\n",
      "75/75 [==============================] - 0s 3ms/step - loss: 3.0626 - accuracy: 0.2040\n",
      "Epoch 5/200\n",
      "75/75 [==============================] - 0s 3ms/step - loss: 2.9675 - accuracy: 0.2094\n",
      "Epoch 6/200\n",
      "75/75 [==============================] - 0s 3ms/step - loss: 2.8743 - accuracy: 0.2165\n",
      "Epoch 7/200\n",
      "75/75 [==============================] - 0s 2ms/step - loss: 2.8025 - accuracy: 0.2324\n",
      "Epoch 8/200\n",
      "75/75 [==============================] - 0s 3ms/step - loss: 2.7355 - accuracy: 0.2416\n",
      "Epoch 9/200\n",
      "75/75 [==============================] - 0s 3ms/step - loss: 2.6756 - accuracy: 0.2482\n",
      "Epoch 10/200\n",
      "74/75 [============================>.] - ETA: 0s - loss: 2.6204 - accuracy: 0.2513\n",
      "Epoch 10: saving model to ./ML_Weight_Checkpoints\\seg1_basic_model.h5\n",
      "75/75 [==============================] - 0s 3ms/step - loss: 2.6176 - accuracy: 0.2524\n",
      "Epoch 11/200\n",
      "75/75 [==============================] - 0s 2ms/step - loss: 2.5662 - accuracy: 0.2645\n",
      "Epoch 12/200\n",
      "75/75 [==============================] - 0s 3ms/step - loss: 2.5099 - accuracy: 0.3108\n",
      "Epoch 13/200\n",
      "75/75 [==============================] - 0s 3ms/step - loss: 2.4584 - accuracy: 0.3287\n",
      "Epoch 14/200\n",
      "75/75 [==============================] - 0s 3ms/step - loss: 2.4036 - accuracy: 0.3421\n",
      "Epoch 15/200\n",
      "75/75 [==============================] - 0s 3ms/step - loss: 2.3513 - accuracy: 0.3496\n",
      "Epoch 16/200\n",
      "75/75 [==============================] - 0s 3ms/step - loss: 2.2981 - accuracy: 0.3680\n",
      "Epoch 17/200\n",
      "75/75 [==============================] - 0s 2ms/step - loss: 2.2460 - accuracy: 0.3713\n",
      "Epoch 18/200\n",
      "75/75 [==============================] - 0s 2ms/step - loss: 2.2025 - accuracy: 0.3759\n",
      "Epoch 19/200\n",
      "75/75 [==============================] - 0s 2ms/step - loss: 2.1595 - accuracy: 0.3788\n",
      "Epoch 20/200\n",
      "55/75 [=====================>........] - ETA: 0s - loss: 2.1381 - accuracy: 0.3886\n",
      "Epoch 20: saving model to ./ML_Weight_Checkpoints\\seg1_basic_model.h5\n",
      "75/75 [==============================] - 0s 3ms/step - loss: 2.1232 - accuracy: 0.3834\n",
      "Epoch 21/200\n",
      "75/75 [==============================] - 0s 2ms/step - loss: 2.0912 - accuracy: 0.3888\n",
      "Epoch 22/200\n",
      "75/75 [==============================] - 0s 2ms/step - loss: 2.0625 - accuracy: 0.3951\n",
      "Epoch 23/200\n",
      "75/75 [==============================] - 0s 2ms/step - loss: 2.0357 - accuracy: 0.3967\n",
      "Epoch 24/200\n",
      "75/75 [==============================] - 0s 2ms/step - loss: 2.0077 - accuracy: 0.3988\n",
      "Epoch 25/200\n",
      "75/75 [==============================] - 0s 3ms/step - loss: 1.9842 - accuracy: 0.4001\n",
      "Epoch 26/200\n",
      "75/75 [==============================] - 0s 2ms/step - loss: 1.9644 - accuracy: 0.4009\n",
      "Epoch 27/200\n",
      "75/75 [==============================] - 0s 2ms/step - loss: 1.9449 - accuracy: 0.4051\n",
      "Epoch 28/200\n",
      "75/75 [==============================] - 0s 2ms/step - loss: 1.9260 - accuracy: 0.4113\n",
      "Epoch 29/200\n",
      "75/75 [==============================] - 0s 2ms/step - loss: 1.9039 - accuracy: 0.4176\n",
      "Epoch 30/200\n",
      "68/75 [==========================>...] - ETA: 0s - loss: 1.8812 - accuracy: 0.4223\n",
      "Epoch 30: saving model to ./ML_Weight_Checkpoints\\seg1_basic_model.h5\n",
      "75/75 [==============================] - 0s 3ms/step - loss: 1.8817 - accuracy: 0.4243\n",
      "Epoch 31/200\n",
      "75/75 [==============================] - 0s 2ms/step - loss: 1.8674 - accuracy: 0.4301\n",
      "Epoch 32/200\n",
      "75/75 [==============================] - 0s 2ms/step - loss: 1.8582 - accuracy: 0.4376\n",
      "Epoch 33/200\n",
      "75/75 [==============================] - 0s 2ms/step - loss: 1.8373 - accuracy: 0.4422\n",
      "Epoch 34/200\n",
      "75/75 [==============================] - 0s 3ms/step - loss: 1.8203 - accuracy: 0.4464\n",
      "Epoch 35/200\n",
      "75/75 [==============================] - 0s 2ms/step - loss: 1.8081 - accuracy: 0.4481\n",
      "Epoch 36/200\n",
      "75/75 [==============================] - 0s 2ms/step - loss: 1.7948 - accuracy: 0.4556\n",
      "Epoch 37/200\n",
      "75/75 [==============================] - 0s 2ms/step - loss: 1.7819 - accuracy: 0.4535\n",
      "Epoch 38/200\n",
      "75/75 [==============================] - 0s 2ms/step - loss: 1.7683 - accuracy: 0.4522\n",
      "Epoch 39/200\n",
      "75/75 [==============================] - 0s 2ms/step - loss: 1.7574 - accuracy: 0.4497\n",
      "Epoch 40/200\n",
      "71/75 [===========================>..] - ETA: 0s - loss: 1.7542 - accuracy: 0.4630\n",
      "Epoch 40: saving model to ./ML_Weight_Checkpoints\\seg1_basic_model.h5\n",
      "75/75 [==============================] - 0s 3ms/step - loss: 1.7489 - accuracy: 0.4639\n",
      "Epoch 41/200\n",
      "75/75 [==============================] - 0s 2ms/step - loss: 1.7368 - accuracy: 0.4639\n",
      "Epoch 42/200\n",
      "75/75 [==============================] - 0s 3ms/step - loss: 1.7285 - accuracy: 0.4689\n",
      "Epoch 43/200\n",
      "75/75 [==============================] - 0s 2ms/step - loss: 1.7198 - accuracy: 0.4693\n",
      "Epoch 44/200\n",
      "75/75 [==============================] - 0s 2ms/step - loss: 1.7112 - accuracy: 0.4714\n",
      "Epoch 45/200\n",
      "75/75 [==============================] - 0s 2ms/step - loss: 1.7001 - accuracy: 0.4685\n",
      "Epoch 46/200\n",
      "75/75 [==============================] - 0s 3ms/step - loss: 1.6971 - accuracy: 0.4714\n",
      "Epoch 47/200\n",
      "75/75 [==============================] - 0s 2ms/step - loss: 1.6861 - accuracy: 0.4798\n",
      "Epoch 48/200\n",
      "75/75 [==============================] - 0s 3ms/step - loss: 1.6730 - accuracy: 0.4814\n",
      "Epoch 49/200\n",
      "75/75 [==============================] - 0s 3ms/step - loss: 1.6696 - accuracy: 0.4839\n",
      "Epoch 50/200\n",
      "57/75 [=====================>........] - ETA: 0s - loss: 1.6452 - accuracy: 0.4857\n",
      "Epoch 50: saving model to ./ML_Weight_Checkpoints\\seg1_basic_model.h5\n",
      "75/75 [==============================] - 0s 3ms/step - loss: 1.6651 - accuracy: 0.4806\n",
      "Epoch 51/200\n",
      "75/75 [==============================] - 0s 3ms/step - loss: 1.6532 - accuracy: 0.4827\n",
      "Epoch 52/200\n",
      "75/75 [==============================] - 0s 3ms/step - loss: 1.6482 - accuracy: 0.4806\n",
      "Epoch 53/200\n",
      "75/75 [==============================] - 0s 3ms/step - loss: 1.6422 - accuracy: 0.4831\n",
      "Epoch 54/200\n",
      "75/75 [==============================] - 0s 3ms/step - loss: 1.6325 - accuracy: 0.4894\n",
      "Epoch 55/200\n",
      "75/75 [==============================] - 0s 3ms/step - loss: 1.6291 - accuracy: 0.4940\n",
      "Epoch 56/200\n",
      "75/75 [==============================] - 0s 2ms/step - loss: 1.6197 - accuracy: 0.4931\n",
      "Epoch 57/200\n",
      "75/75 [==============================] - 0s 2ms/step - loss: 1.6105 - accuracy: 0.5010\n",
      "Epoch 58/200\n",
      "75/75 [==============================] - 0s 2ms/step - loss: 1.6045 - accuracy: 0.4998\n",
      "Epoch 59/200\n",
      "75/75 [==============================] - 0s 2ms/step - loss: 1.5941 - accuracy: 0.5056\n",
      "Epoch 60/200\n",
      "52/75 [===================>..........] - ETA: 0s - loss: 1.5767 - accuracy: 0.5156\n",
      "Epoch 60: saving model to ./ML_Weight_Checkpoints\\seg1_basic_model.h5\n",
      "75/75 [==============================] - 0s 2ms/step - loss: 1.5844 - accuracy: 0.5073\n",
      "Epoch 61/200\n",
      "75/75 [==============================] - 0s 2ms/step - loss: 1.5832 - accuracy: 0.5040\n",
      "Epoch 62/200\n",
      "75/75 [==============================] - 0s 3ms/step - loss: 1.5788 - accuracy: 0.5106\n",
      "Epoch 63/200\n",
      "75/75 [==============================] - 0s 3ms/step - loss: 1.5694 - accuracy: 0.5073\n",
      "Epoch 64/200\n",
      "75/75 [==============================] - 0s 3ms/step - loss: 1.5625 - accuracy: 0.5136\n",
      "Epoch 65/200\n",
      "75/75 [==============================] - 0s 3ms/step - loss: 1.5574 - accuracy: 0.5073\n",
      "Epoch 66/200\n",
      "75/75 [==============================] - 0s 3ms/step - loss: 1.5537 - accuracy: 0.5044\n",
      "Epoch 67/200\n",
      "75/75 [==============================] - 0s 3ms/step - loss: 1.5442 - accuracy: 0.5169\n",
      "Epoch 68/200\n",
      "75/75 [==============================] - 0s 2ms/step - loss: 1.5392 - accuracy: 0.5094\n",
      "Epoch 69/200\n",
      "75/75 [==============================] - 0s 2ms/step - loss: 1.5313 - accuracy: 0.5165\n",
      "Epoch 70/200\n",
      "72/75 [===========================>..] - ETA: 0s - loss: 1.5187 - accuracy: 0.5195\n",
      "Epoch 70: saving model to ./ML_Weight_Checkpoints\\seg1_basic_model.h5\n",
      "75/75 [==============================] - 0s 4ms/step - loss: 1.5224 - accuracy: 0.5181\n",
      "Epoch 71/200\n",
      "75/75 [==============================] - 0s 3ms/step - loss: 1.5169 - accuracy: 0.5244\n",
      "Epoch 72/200\n",
      "75/75 [==============================] - 0s 2ms/step - loss: 1.5124 - accuracy: 0.5252\n",
      "Epoch 73/200\n",
      "75/75 [==============================] - 0s 3ms/step - loss: 1.5057 - accuracy: 0.5265\n",
      "Epoch 74/200\n",
      "75/75 [==============================] - 0s 3ms/step - loss: 1.5014 - accuracy: 0.5273\n",
      "Epoch 75/200\n",
      "75/75 [==============================] - 0s 3ms/step - loss: 1.4924 - accuracy: 0.5198\n",
      "Epoch 76/200\n",
      "75/75 [==============================] - 0s 2ms/step - loss: 1.4926 - accuracy: 0.5277\n",
      "Epoch 77/200\n",
      "75/75 [==============================] - 0s 2ms/step - loss: 1.4799 - accuracy: 0.5282\n",
      "Epoch 78/200\n",
      "75/75 [==============================] - 0s 3ms/step - loss: 1.4761 - accuracy: 0.5290\n",
      "Epoch 79/200\n",
      "75/75 [==============================] - 0s 2ms/step - loss: 1.4715 - accuracy: 0.5344\n",
      "Epoch 80/200\n",
      "65/75 [=========================>....] - ETA: 0s - loss: 1.4584 - accuracy: 0.5312\n",
      "Epoch 80: saving model to ./ML_Weight_Checkpoints\\seg1_basic_model.h5\n",
      "75/75 [==============================] - 0s 2ms/step - loss: 1.4636 - accuracy: 0.5357\n",
      "Epoch 81/200\n",
      "75/75 [==============================] - 0s 2ms/step - loss: 1.4567 - accuracy: 0.5282\n",
      "Epoch 82/200\n",
      "75/75 [==============================] - 0s 2ms/step - loss: 1.4552 - accuracy: 0.5332\n",
      "Epoch 83/200\n",
      "75/75 [==============================] - 0s 2ms/step - loss: 1.4458 - accuracy: 0.5373\n",
      "Epoch 84/200\n",
      "75/75 [==============================] - 0s 2ms/step - loss: 1.4448 - accuracy: 0.5369\n",
      "Epoch 85/200\n",
      "75/75 [==============================] - 0s 2ms/step - loss: 1.4380 - accuracy: 0.5373\n",
      "Epoch 86/200\n",
      "75/75 [==============================] - 0s 2ms/step - loss: 1.4347 - accuracy: 0.5378\n",
      "Epoch 87/200\n",
      "75/75 [==============================] - 0s 2ms/step - loss: 1.4263 - accuracy: 0.5453\n",
      "Epoch 88/200\n",
      "75/75 [==============================] - 0s 2ms/step - loss: 1.4250 - accuracy: 0.5344\n",
      "Epoch 89/200\n",
      "75/75 [==============================] - 0s 2ms/step - loss: 1.4191 - accuracy: 0.5419\n",
      "Epoch 90/200\n",
      "75/75 [==============================] - ETA: 0s - loss: 1.4120 - accuracy: 0.5432\n",
      "Epoch 90: saving model to ./ML_Weight_Checkpoints\\seg1_basic_model.h5\n",
      "75/75 [==============================] - 0s 2ms/step - loss: 1.4120 - accuracy: 0.5432\n",
      "Epoch 91/200\n",
      "75/75 [==============================] - 0s 4ms/step - loss: 1.4053 - accuracy: 0.5444\n",
      "Epoch 92/200\n",
      "75/75 [==============================] - 0s 3ms/step - loss: 1.4042 - accuracy: 0.5440\n",
      "Epoch 93/200\n",
      "75/75 [==============================] - 0s 4ms/step - loss: 1.4030 - accuracy: 0.5461\n",
      "Epoch 94/200\n",
      "75/75 [==============================] - 0s 3ms/step - loss: 1.3934 - accuracy: 0.5544\n",
      "Epoch 95/200\n",
      "75/75 [==============================] - 0s 2ms/step - loss: 1.3939 - accuracy: 0.5532\n",
      "Epoch 96/200\n",
      "75/75 [==============================] - 0s 2ms/step - loss: 1.3838 - accuracy: 0.5486\n",
      "Epoch 97/200\n",
      "75/75 [==============================] - 0s 2ms/step - loss: 1.3790 - accuracy: 0.5553\n",
      "Epoch 98/200\n",
      "75/75 [==============================] - 0s 3ms/step - loss: 1.3797 - accuracy: 0.5536\n",
      "Epoch 99/200\n",
      "75/75 [==============================] - 0s 3ms/step - loss: 1.3706 - accuracy: 0.5582\n",
      "Epoch 100/200\n",
      "72/75 [===========================>..] - ETA: 0s - loss: 1.3687 - accuracy: 0.5525\n",
      "Epoch 100: saving model to ./ML_Weight_Checkpoints\\seg1_basic_model.h5\n",
      "75/75 [==============================] - 0s 3ms/step - loss: 1.3681 - accuracy: 0.5515\n",
      "Epoch 101/200\n",
      "75/75 [==============================] - 0s 3ms/step - loss: 1.3619 - accuracy: 0.5528\n",
      "Epoch 102/200\n",
      "75/75 [==============================] - 0s 3ms/step - loss: 1.3628 - accuracy: 0.5649\n",
      "Epoch 103/200\n",
      "75/75 [==============================] - 0s 3ms/step - loss: 1.3540 - accuracy: 0.5628\n",
      "Epoch 104/200\n",
      "75/75 [==============================] - 0s 3ms/step - loss: 1.3546 - accuracy: 0.5624\n",
      "Epoch 105/200\n",
      "75/75 [==============================] - 0s 3ms/step - loss: 1.3479 - accuracy: 0.5594\n",
      "Epoch 106/200\n",
      "75/75 [==============================] - 0s 3ms/step - loss: 1.3451 - accuracy: 0.5599\n",
      "Epoch 107/200\n",
      "75/75 [==============================] - 0s 3ms/step - loss: 1.3421 - accuracy: 0.5594\n",
      "Epoch 108/200\n",
      "75/75 [==============================] - 0s 2ms/step - loss: 1.3349 - accuracy: 0.5611\n",
      "Epoch 109/200\n",
      "75/75 [==============================] - 0s 3ms/step - loss: 1.3364 - accuracy: 0.5569\n",
      "Epoch 110/200\n",
      "73/75 [============================>.] - ETA: 0s - loss: 1.3278 - accuracy: 0.5642\n",
      "Epoch 110: saving model to ./ML_Weight_Checkpoints\\seg1_basic_model.h5\n",
      "75/75 [==============================] - 0s 3ms/step - loss: 1.3290 - accuracy: 0.5636\n",
      "Epoch 111/200\n",
      "75/75 [==============================] - 0s 3ms/step - loss: 1.3259 - accuracy: 0.5665\n",
      "Epoch 112/200\n",
      "75/75 [==============================] - 0s 2ms/step - loss: 1.3213 - accuracy: 0.5674\n",
      "Epoch 113/200\n",
      "75/75 [==============================] - 0s 3ms/step - loss: 1.3169 - accuracy: 0.5690\n",
      "Epoch 114/200\n",
      "75/75 [==============================] - 0s 3ms/step - loss: 1.3112 - accuracy: 0.5674\n",
      "Epoch 115/200\n",
      "75/75 [==============================] - 0s 2ms/step - loss: 1.3082 - accuracy: 0.5724\n",
      "Epoch 116/200\n",
      "75/75 [==============================] - 0s 2ms/step - loss: 1.3101 - accuracy: 0.5674\n",
      "Epoch 117/200\n",
      "75/75 [==============================] - 0s 3ms/step - loss: 1.3052 - accuracy: 0.5703\n",
      "Epoch 118/200\n",
      "75/75 [==============================] - 0s 3ms/step - loss: 1.2966 - accuracy: 0.5695\n",
      "Epoch 119/200\n",
      "75/75 [==============================] - 0s 4ms/step - loss: 1.2937 - accuracy: 0.5753\n",
      "Epoch 120/200\n",
      "62/75 [=======================>......] - ETA: 0s - loss: 1.2818 - accuracy: 0.5786\n",
      "Epoch 120: saving model to ./ML_Weight_Checkpoints\\seg1_basic_model.h5\n",
      "75/75 [==============================] - 0s 4ms/step - loss: 1.2925 - accuracy: 0.5749\n",
      "Epoch 121/200\n",
      "75/75 [==============================] - 0s 3ms/step - loss: 1.2881 - accuracy: 0.5799\n",
      "Epoch 122/200\n",
      "75/75 [==============================] - 0s 2ms/step - loss: 1.2841 - accuracy: 0.5699\n",
      "Epoch 123/200\n",
      "75/75 [==============================] - 0s 2ms/step - loss: 1.2832 - accuracy: 0.5703\n",
      "Epoch 124/200\n",
      "75/75 [==============================] - 0s 2ms/step - loss: 1.2806 - accuracy: 0.5703\n",
      "Epoch 125/200\n",
      "75/75 [==============================] - 0s 2ms/step - loss: 1.2815 - accuracy: 0.5707\n",
      "Epoch 126/200\n",
      "75/75 [==============================] - 0s 3ms/step - loss: 1.2690 - accuracy: 0.5811\n",
      "Epoch 127/200\n",
      "75/75 [==============================] - 0s 2ms/step - loss: 1.2677 - accuracy: 0.5766\n",
      "Epoch 128/200\n",
      "75/75 [==============================] - 0s 3ms/step - loss: 1.2691 - accuracy: 0.5736\n",
      "Epoch 129/200\n",
      "75/75 [==============================] - 0s 3ms/step - loss: 1.2677 - accuracy: 0.5770\n",
      "Epoch 130/200\n",
      "69/75 [==========================>...] - ETA: 0s - loss: 1.2533 - accuracy: 0.5856\n",
      "Epoch 130: saving model to ./ML_Weight_Checkpoints\\seg1_basic_model.h5\n",
      "75/75 [==============================] - 0s 3ms/step - loss: 1.2627 - accuracy: 0.5828\n",
      "Epoch 131/200\n",
      "75/75 [==============================] - 0s 3ms/step - loss: 1.2532 - accuracy: 0.5836\n",
      "Epoch 132/200\n",
      "75/75 [==============================] - 0s 3ms/step - loss: 1.2488 - accuracy: 0.5853\n",
      "Epoch 133/200\n",
      "75/75 [==============================] - 0s 3ms/step - loss: 1.2524 - accuracy: 0.5849\n",
      "Epoch 134/200\n",
      "75/75 [==============================] - 0s 4ms/step - loss: 1.2469 - accuracy: 0.5849\n",
      "Epoch 135/200\n",
      "75/75 [==============================] - 0s 3ms/step - loss: 1.2455 - accuracy: 0.5803\n",
      "Epoch 136/200\n",
      "75/75 [==============================] - 0s 2ms/step - loss: 1.2498 - accuracy: 0.5832\n",
      "Epoch 137/200\n",
      "75/75 [==============================] - 0s 2ms/step - loss: 1.2377 - accuracy: 0.5866\n",
      "Epoch 138/200\n",
      "75/75 [==============================] - 0s 2ms/step - loss: 1.2368 - accuracy: 0.5903\n",
      "Epoch 139/200\n",
      "75/75 [==============================] - 0s 2ms/step - loss: 1.2386 - accuracy: 0.5870\n",
      "Epoch 140/200\n",
      "69/75 [==========================>...] - ETA: 0s - loss: 1.2351 - accuracy: 0.5793\n",
      "Epoch 140: saving model to ./ML_Weight_Checkpoints\\seg1_basic_model.h5\n",
      "75/75 [==============================] - 0s 3ms/step - loss: 1.2305 - accuracy: 0.5832\n",
      "Epoch 141/200\n",
      "75/75 [==============================] - 0s 3ms/step - loss: 1.2247 - accuracy: 0.5920\n",
      "Epoch 142/200\n",
      "75/75 [==============================] - 0s 3ms/step - loss: 1.2217 - accuracy: 0.5887\n",
      "Epoch 143/200\n",
      "75/75 [==============================] - 0s 3ms/step - loss: 1.2231 - accuracy: 0.5857\n",
      "Epoch 144/200\n",
      "75/75 [==============================] - 0s 3ms/step - loss: 1.2147 - accuracy: 0.5916\n",
      "Epoch 145/200\n",
      "75/75 [==============================] - 0s 3ms/step - loss: 1.2174 - accuracy: 0.5899\n",
      "Epoch 146/200\n",
      "75/75 [==============================] - 0s 4ms/step - loss: 1.2122 - accuracy: 0.5966\n",
      "Epoch 147/200\n",
      "75/75 [==============================] - 0s 3ms/step - loss: 1.2092 - accuracy: 0.5920\n",
      "Epoch 148/200\n",
      "75/75 [==============================] - 0s 4ms/step - loss: 1.2082 - accuracy: 0.5949\n",
      "Epoch 149/200\n",
      "75/75 [==============================] - 0s 3ms/step - loss: 1.2046 - accuracy: 0.6020\n",
      "Epoch 150/200\n",
      "68/75 [==========================>...] - ETA: 0s - loss: 1.2136 - accuracy: 0.5960\n",
      "Epoch 150: saving model to ./ML_Weight_Checkpoints\\seg1_basic_model.h5\n",
      "75/75 [==============================] - 0s 4ms/step - loss: 1.2010 - accuracy: 0.6020\n",
      "Epoch 151/200\n",
      "75/75 [==============================] - 0s 3ms/step - loss: 1.1995 - accuracy: 0.6024\n",
      "Epoch 152/200\n",
      "75/75 [==============================] - 0s 3ms/step - loss: 1.1952 - accuracy: 0.5949\n",
      "Epoch 153/200\n",
      "75/75 [==============================] - 0s 3ms/step - loss: 1.1947 - accuracy: 0.6045\n",
      "Epoch 154/200\n",
      "75/75 [==============================] - 0s 3ms/step - loss: 1.1847 - accuracy: 0.6024\n",
      "Epoch 155/200\n",
      "75/75 [==============================] - 0s 4ms/step - loss: 1.1916 - accuracy: 0.6049\n",
      "Epoch 156/200\n",
      "75/75 [==============================] - 0s 2ms/step - loss: 1.1838 - accuracy: 0.6062\n",
      "Epoch 157/200\n",
      "75/75 [==============================] - 0s 2ms/step - loss: 1.1798 - accuracy: 0.6053\n",
      "Epoch 158/200\n",
      "75/75 [==============================] - 0s 2ms/step - loss: 1.1786 - accuracy: 0.6095\n",
      "Epoch 159/200\n",
      "75/75 [==============================] - 0s 2ms/step - loss: 1.1827 - accuracy: 0.6037\n",
      "Epoch 160/200\n",
      "70/75 [===========================>..] - ETA: 0s - loss: 1.1729 - accuracy: 0.6054\n",
      "Epoch 160: saving model to ./ML_Weight_Checkpoints\\seg1_basic_model.h5\n",
      "75/75 [==============================] - 0s 3ms/step - loss: 1.1787 - accuracy: 0.6037\n",
      "Epoch 161/200\n",
      "75/75 [==============================] - 0s 2ms/step - loss: 1.1738 - accuracy: 0.6053\n",
      "Epoch 162/200\n",
      "75/75 [==============================] - 0s 3ms/step - loss: 1.1652 - accuracy: 0.6158\n",
      "Epoch 163/200\n",
      "75/75 [==============================] - 0s 3ms/step - loss: 1.1662 - accuracy: 0.6053\n",
      "Epoch 164/200\n",
      "75/75 [==============================] - 0s 3ms/step - loss: 1.1601 - accuracy: 0.6162\n",
      "Epoch 165/200\n",
      "75/75 [==============================] - 0s 3ms/step - loss: 1.1615 - accuracy: 0.6099\n",
      "Epoch 166/200\n",
      "75/75 [==============================] - 0s 3ms/step - loss: 1.1567 - accuracy: 0.6120\n",
      "Epoch 167/200\n",
      "75/75 [==============================] - 0s 3ms/step - loss: 1.1621 - accuracy: 0.6083\n",
      "Epoch 168/200\n",
      "75/75 [==============================] - 0s 4ms/step - loss: 1.1494 - accuracy: 0.6183\n",
      "Epoch 169/200\n",
      "75/75 [==============================] - 0s 4ms/step - loss: 1.1461 - accuracy: 0.6224\n",
      "Epoch 170/200\n",
      "74/75 [============================>.] - ETA: 0s - loss: 1.1447 - accuracy: 0.6204\n",
      "Epoch 170: saving model to ./ML_Weight_Checkpoints\\seg1_basic_model.h5\n",
      "75/75 [==============================] - 0s 4ms/step - loss: 1.1481 - accuracy: 0.6187\n",
      "Epoch 171/200\n",
      "75/75 [==============================] - 0s 2ms/step - loss: 1.1450 - accuracy: 0.6183\n",
      "Epoch 172/200\n",
      "75/75 [==============================] - 0s 2ms/step - loss: 1.1402 - accuracy: 0.6191\n",
      "Epoch 173/200\n",
      "75/75 [==============================] - 0s 2ms/step - loss: 1.1347 - accuracy: 0.6191\n",
      "Epoch 174/200\n",
      "75/75 [==============================] - 0s 2ms/step - loss: 1.1359 - accuracy: 0.6270\n",
      "Epoch 175/200\n",
      "75/75 [==============================] - 0s 2ms/step - loss: 1.1377 - accuracy: 0.6220\n",
      "Epoch 176/200\n",
      "75/75 [==============================] - 0s 2ms/step - loss: 1.1326 - accuracy: 0.6233\n",
      "Epoch 177/200\n",
      "75/75 [==============================] - 0s 2ms/step - loss: 1.1303 - accuracy: 0.6233\n",
      "Epoch 178/200\n",
      "75/75 [==============================] - 0s 2ms/step - loss: 1.1262 - accuracy: 0.6258\n",
      "Epoch 179/200\n",
      "75/75 [==============================] - 0s 2ms/step - loss: 1.1252 - accuracy: 0.6187\n",
      "Epoch 180/200\n",
      "59/75 [======================>.......] - ETA: 0s - loss: 1.0948 - accuracy: 0.6388\n",
      "Epoch 180: saving model to ./ML_Weight_Checkpoints\\seg1_basic_model.h5\n",
      "75/75 [==============================] - 0s 2ms/step - loss: 1.1180 - accuracy: 0.6287\n",
      "Epoch 181/200\n",
      "75/75 [==============================] - 0s 2ms/step - loss: 1.1181 - accuracy: 0.6275\n",
      "Epoch 182/200\n",
      "75/75 [==============================] - 0s 2ms/step - loss: 1.1185 - accuracy: 0.6195\n",
      "Epoch 183/200\n",
      "75/75 [==============================] - 0s 2ms/step - loss: 1.1163 - accuracy: 0.6262\n",
      "Epoch 184/200\n",
      "75/75 [==============================] - 0s 2ms/step - loss: 1.1183 - accuracy: 0.6287\n",
      "Epoch 185/200\n",
      "75/75 [==============================] - 0s 2ms/step - loss: 1.1086 - accuracy: 0.6320\n",
      "Epoch 186/200\n",
      "75/75 [==============================] - 0s 2ms/step - loss: 1.1084 - accuracy: 0.6350\n",
      "Epoch 187/200\n",
      "75/75 [==============================] - 0s 2ms/step - loss: 1.1078 - accuracy: 0.6283\n",
      "Epoch 188/200\n",
      "75/75 [==============================] - 0s 2ms/step - loss: 1.1060 - accuracy: 0.6358\n",
      "Epoch 189/200\n",
      "75/75 [==============================] - 0s 2ms/step - loss: 1.1030 - accuracy: 0.6412\n",
      "Epoch 190/200\n",
      "61/75 [=======================>......] - ETA: 0s - loss: 1.0968 - accuracy: 0.6281\n",
      "Epoch 190: saving model to ./ML_Weight_Checkpoints\\seg1_basic_model.h5\n",
      "75/75 [==============================] - 0s 2ms/step - loss: 1.0951 - accuracy: 0.6316\n",
      "Epoch 191/200\n",
      "75/75 [==============================] - 0s 2ms/step - loss: 1.0941 - accuracy: 0.6395\n",
      "Epoch 192/200\n",
      "75/75 [==============================] - 0s 2ms/step - loss: 1.1001 - accuracy: 0.6287\n",
      "Epoch 193/200\n",
      "75/75 [==============================] - 0s 3ms/step - loss: 1.0923 - accuracy: 0.6379\n",
      "Epoch 194/200\n",
      "75/75 [==============================] - 0s 2ms/step - loss: 1.0911 - accuracy: 0.6325\n",
      "Epoch 195/200\n",
      "75/75 [==============================] - 0s 2ms/step - loss: 1.0899 - accuracy: 0.6312\n",
      "Epoch 196/200\n",
      "75/75 [==============================] - 0s 2ms/step - loss: 1.0954 - accuracy: 0.6366\n",
      "Epoch 197/200\n",
      "75/75 [==============================] - 0s 2ms/step - loss: 1.0837 - accuracy: 0.6370\n",
      "Epoch 198/200\n",
      "75/75 [==============================] - 0s 2ms/step - loss: 1.0874 - accuracy: 0.6283\n",
      "Epoch 199/200\n",
      "75/75 [==============================] - 0s 1ms/step - loss: 1.0862 - accuracy: 0.6383\n",
      "Epoch 200/200\n",
      "50/75 [===================>..........] - ETA: 0s - loss: 1.0793 - accuracy: 0.6369\n",
      "Epoch 200: saving model to ./ML_Weight_Checkpoints\\seg1_basic_model.h5\n",
      "75/75 [==============================] - 0s 2ms/step - loss: 1.0768 - accuracy: 0.6446\n"
     ]
    }
   ],
   "source": [
    "# Train the model\n",
    "fit_model = nn.fit(X_train,y_train,epochs=200, callbacks=[cp_callback])"
   ],
   "metadata": {
    "collapsed": false,
    "pycharm": {
     "name": "#%%\n"
    }
   }
  },
  {
   "cell_type": "code",
   "execution_count": 15,
   "outputs": [
    {
     "name": "stdout",
     "output_type": "stream",
     "text": [
      "25/25 - 0s - loss: 1.1600 - accuracy: 0.6325 - 241ms/epoch - 10ms/step\n",
      "Loss: 1.159985065460205, Accuracy: 0.6324999928474426\n"
     ]
    }
   ],
   "source": [
    "# Evaluate the model using the test data\n",
    "model_loss, model_accuracy = nn.evaluate(X_test,y_test,verbose=2)\n",
    "print(f\"Loss: {model_loss}, Accuracy: {model_accuracy}\")"
   ],
   "metadata": {
    "collapsed": false,
    "pycharm": {
     "name": "#%%\n"
    }
   }
  },
  {
   "cell_type": "code",
   "execution_count": 16,
   "outputs": [
    {
     "data": {
      "text/plain": "array([[0.1426086956521739, 0.23076923076923078, 0.3,\n        0.13333333333333333, 0.4222222222222222, 0.2777777777777778,\n        0.14444444444444446, 0.9999999999999998, 0.28888888888888886,\n        0.0, 0.8111111111111109, 0.16666666666666666,\n        0.31111111111111106, 0.8111111111111109]], dtype=object)"
     },
     "execution_count": 16,
     "metadata": {},
     "output_type": "execute_result"
    }
   ],
   "source": [
    "# Test model with data from a random beer, simulating user's preference data\n",
    "user_input = beers_df.sample().iloc[0][3:].values\n",
    "user_input = user_input.reshape(1,-1)\n",
    "user_input"
   ],
   "metadata": {
    "collapsed": false,
    "pycharm": {
     "name": "#%%\n"
    }
   }
  },
  {
   "cell_type": "code",
   "execution_count": 21,
   "outputs": [
    {
     "name": "stdout",
     "output_type": "stream",
     "text": [
      "1/1 [==============================] - 0s 37ms/step\n",
      "Predicted Beer Style: Dubbel\n"
     ]
    }
   ],
   "source": [
    "# Output beer style based on taste profile inputs\n",
    "index = nn.predict(np.asarray(user_input).astype(np.float64)).argmax()\n",
    "predicted_style = encode_df.columns[index].split('_', 1)[1]\n",
    "print(f\"Predicted Beer Style: {predicted_style}\")"
   ],
   "metadata": {
    "collapsed": false,
    "pycharm": {
     "name": "#%%\n"
    }
   }
  },
  {
   "cell_type": "code",
   "execution_count": 75,
   "outputs": [],
   "source": [
    "# Function to find top 5 similar beers with or without same style\n",
    "def similar_beers(beers_df, user_input, style, same_style):\n",
    "    if same_style:\n",
    "        # Locate beers of same style\n",
    "        sim_beers_df = beers_df.loc[beers_df['Style'] == style].reset_index(drop=True)\n",
    "    else:\n",
    "        # Locate other similar beers\n",
    "        sim_beers_df = beers_df.loc[beers_df[\"Style\"] != style].reset_index(drop=True)\n",
    "\n",
    "    # Get numeric data for similar beers\n",
    "    sim_beers_data = sim_beers_df.iloc[:, 3:]\n",
    "\n",
    "    # Find nearest neighbors\n",
    "    search = NearestNeighbors(n_neighbors=6, algorithm='ball_tree').fit(sim_beers_data)\n",
    "    _, queried_indices = search.kneighbors(user_input)\n",
    "\n",
    "    # Top 5 recommendations\n",
    "    recommends_df = sim_beers_df.loc[queried_indices[0][1:]]\n",
    "    recommends_df = recommends_df[['Full_Beer_Name', 'Brewery', 'Style']]\n",
    "    recommends_df = pd.merge(recommends_df, reviews_df, how='inner', on=['Full_Beer_Name', 'Brewery', 'Style'])\n",
    "    recommends_df = recommends_df.sort_values(by=['review_overall'], ascending=False)\n",
    "    return recommends_df"
   ],
   "metadata": {
    "collapsed": false,
    "pycharm": {
     "name": "#%%\n"
    }
   }
  },
  {
   "cell_type": "code",
   "execution_count": 76,
   "outputs": [
    {
     "name": "stderr",
     "output_type": "stream",
     "text": [
      "C:\\Users\\Jack\\anaconda3\\envs\\mlenv\\lib\\site-packages\\sklearn\\base.py:451: UserWarning: X does not have valid feature names, but NearestNeighbors was fitted with feature names\n",
      "  \"X does not have valid feature names, but\"\n"
     ]
    },
    {
     "data": {
      "text/plain": "                                     Full_Beer_Name  \\\n0  Brouwerij St. Bernardus NV St. Bernardus Pater 6   \n2     Brouwerij Westmalle Westmalle Trappist Dubbel   \n1             The Lost Abbey Lost & Found Abbey Ale   \n3       Brouwerij Sterkens N.V. St. Sebastiaan Dark   \n4       New Belgium Brewing Abbey Belgian Style Ale   \n\n                      Brewery   Style  \\\n0  Brouwerij St. Bernardus NV  Dubbel   \n2         Brouwerij Westmalle  Dubbel   \n1              The Lost Abbey  Dubbel   \n3     Brouwerij Sterkens N.V.  Dubbel   \n4         New Belgium Brewing  Dubbel   \n\n                                         Description review_aroma  \\\n0                          No description available.         4.03   \n2  Westmalle Dubbel (7%) is a dark red-brown beer...         4.08   \n1  Modeled after the great Trappist and Monastic ...         3.98   \n3                          No description available.         3.85   \n4  Our award-winning Abbey stays true to traditio...         4.02   \n\n  review_appearance review_palate review_taste review_overall  \\\n0              4.16          4.03         4.12           4.17   \n2              4.18          4.06         4.15           4.14   \n1              3.89          3.86         3.98           3.92   \n3              3.95          3.76         3.90           3.85   \n4              4.06          3.93         4.02           3.83   \n\n   number_of_reviews  \n0                556  \n2               1026  \n1                284  \n3                110  \n4                640  ",
      "text/html": "<div>\n<style scoped>\n    .dataframe tbody tr th:only-of-type {\n        vertical-align: middle;\n    }\n\n    .dataframe tbody tr th {\n        vertical-align: top;\n    }\n\n    .dataframe thead th {\n        text-align: right;\n    }\n</style>\n<table border=\"1\" class=\"dataframe\">\n  <thead>\n    <tr style=\"text-align: right;\">\n      <th></th>\n      <th>Full_Beer_Name</th>\n      <th>Brewery</th>\n      <th>Style</th>\n      <th>Description</th>\n      <th>review_aroma</th>\n      <th>review_appearance</th>\n      <th>review_palate</th>\n      <th>review_taste</th>\n      <th>review_overall</th>\n      <th>number_of_reviews</th>\n    </tr>\n  </thead>\n  <tbody>\n    <tr>\n      <th>0</th>\n      <td>Brouwerij St. Bernardus NV St. Bernardus Pater 6</td>\n      <td>Brouwerij St. Bernardus NV</td>\n      <td>Dubbel</td>\n      <td>No description available.</td>\n      <td>4.03</td>\n      <td>4.16</td>\n      <td>4.03</td>\n      <td>4.12</td>\n      <td>4.17</td>\n      <td>556</td>\n    </tr>\n    <tr>\n      <th>2</th>\n      <td>Brouwerij Westmalle Westmalle Trappist Dubbel</td>\n      <td>Brouwerij Westmalle</td>\n      <td>Dubbel</td>\n      <td>Westmalle Dubbel (7%) is a dark red-brown beer...</td>\n      <td>4.08</td>\n      <td>4.18</td>\n      <td>4.06</td>\n      <td>4.15</td>\n      <td>4.14</td>\n      <td>1026</td>\n    </tr>\n    <tr>\n      <th>1</th>\n      <td>The Lost Abbey Lost &amp; Found Abbey Ale</td>\n      <td>The Lost Abbey</td>\n      <td>Dubbel</td>\n      <td>Modeled after the great Trappist and Monastic ...</td>\n      <td>3.98</td>\n      <td>3.89</td>\n      <td>3.86</td>\n      <td>3.98</td>\n      <td>3.92</td>\n      <td>284</td>\n    </tr>\n    <tr>\n      <th>3</th>\n      <td>Brouwerij Sterkens N.V. St. Sebastiaan Dark</td>\n      <td>Brouwerij Sterkens N.V.</td>\n      <td>Dubbel</td>\n      <td>No description available.</td>\n      <td>3.85</td>\n      <td>3.95</td>\n      <td>3.76</td>\n      <td>3.90</td>\n      <td>3.85</td>\n      <td>110</td>\n    </tr>\n    <tr>\n      <th>4</th>\n      <td>New Belgium Brewing Abbey Belgian Style Ale</td>\n      <td>New Belgium Brewing</td>\n      <td>Dubbel</td>\n      <td>Our award-winning Abbey stays true to traditio...</td>\n      <td>4.02</td>\n      <td>4.06</td>\n      <td>3.93</td>\n      <td>4.02</td>\n      <td>3.83</td>\n      <td>640</td>\n    </tr>\n  </tbody>\n</table>\n</div>"
     },
     "execution_count": 76,
     "metadata": {},
     "output_type": "execute_result"
    }
   ],
   "source": [
    "# Top 5 similar beers of same style (by overall review score)\n",
    "top_5_same_style = similar_beers(beers_df, user_input, predicted_style, same_style=True)\n",
    "top_5_same_style"
   ],
   "metadata": {
    "collapsed": false,
    "pycharm": {
     "name": "#%%\n"
    }
   }
  },
  {
   "cell_type": "code",
   "execution_count": 77,
   "outputs": [
    {
     "name": "stderr",
     "output_type": "stream",
     "text": [
      "C:\\Users\\Jack\\anaconda3\\envs\\mlenv\\lib\\site-packages\\sklearn\\base.py:451: UserWarning: X does not have valid feature names, but NearestNeighbors was fitted with feature names\n",
      "  \"X does not have valid feature names, but\"\n"
     ]
    },
    {
     "data": {
      "text/plain": "                                      Full_Beer_Name  \\\n3  Bierbrouwerij De Koningshoeven B.V. La Trappe ...   \n2             Brouwerij Van Steenberge N.V. Piraat 9   \n4    Les Trois Mousquetaires Weizenbock Grande Cuvée   \n0           Portsmouth Brewery Portsmouth Weizenbock   \n1                     Brouwerij Bosteels Pauwel Kwak   \n\n                               Brewery             Style  \\\n3  Bierbrouwerij De Koningshoeven B.V.  Quadrupel (Quad)   \n2        Brouwerij Van Steenberge N.V.        Strong Ale   \n4              Les Trois Mousquetaires              Bock   \n0                   Portsmouth Brewery              Bock   \n1                   Brouwerij Bosteels        Strong Ale   \n\n                                         Description review_aroma  \\\n3  Quadrupel is La Trappe’s heaviest ale with a s...         4.07   \n2  Belgian Strong Pale Ale, re-fermented with Bor...         3.67   \n4  A dark wheat beer, hearty and top-fermented, i...         3.83   \n0  A dark wheat bock beer. The addition of NH map...         3.92   \n1                            Belgian Specialty Ale\\t         3.72   \n\n  review_appearance review_palate review_taste review_overall  \\\n3              4.08          4.05         4.11           3.96   \n2              4.00          3.83         4.33           3.92   \n4              3.96          4.04         3.83           3.88   \n0              4.05          3.88         3.92           3.83   \n1              3.85          3.74         3.74           3.70   \n\n   number_of_reviews  \n3                725  \n2                  3  \n4                 23  \n0                 20  \n1                580  ",
      "text/html": "<div>\n<style scoped>\n    .dataframe tbody tr th:only-of-type {\n        vertical-align: middle;\n    }\n\n    .dataframe tbody tr th {\n        vertical-align: top;\n    }\n\n    .dataframe thead th {\n        text-align: right;\n    }\n</style>\n<table border=\"1\" class=\"dataframe\">\n  <thead>\n    <tr style=\"text-align: right;\">\n      <th></th>\n      <th>Full_Beer_Name</th>\n      <th>Brewery</th>\n      <th>Style</th>\n      <th>Description</th>\n      <th>review_aroma</th>\n      <th>review_appearance</th>\n      <th>review_palate</th>\n      <th>review_taste</th>\n      <th>review_overall</th>\n      <th>number_of_reviews</th>\n    </tr>\n  </thead>\n  <tbody>\n    <tr>\n      <th>3</th>\n      <td>Bierbrouwerij De Koningshoeven B.V. La Trappe ...</td>\n      <td>Bierbrouwerij De Koningshoeven B.V.</td>\n      <td>Quadrupel (Quad)</td>\n      <td>Quadrupel is La Trappe’s heaviest ale with a s...</td>\n      <td>4.07</td>\n      <td>4.08</td>\n      <td>4.05</td>\n      <td>4.11</td>\n      <td>3.96</td>\n      <td>725</td>\n    </tr>\n    <tr>\n      <th>2</th>\n      <td>Brouwerij Van Steenberge N.V. Piraat 9</td>\n      <td>Brouwerij Van Steenberge N.V.</td>\n      <td>Strong Ale</td>\n      <td>Belgian Strong Pale Ale, re-fermented with Bor...</td>\n      <td>3.67</td>\n      <td>4.00</td>\n      <td>3.83</td>\n      <td>4.33</td>\n      <td>3.92</td>\n      <td>3</td>\n    </tr>\n    <tr>\n      <th>4</th>\n      <td>Les Trois Mousquetaires Weizenbock Grande Cuvée</td>\n      <td>Les Trois Mousquetaires</td>\n      <td>Bock</td>\n      <td>A dark wheat beer, hearty and top-fermented, i...</td>\n      <td>3.83</td>\n      <td>3.96</td>\n      <td>4.04</td>\n      <td>3.83</td>\n      <td>3.88</td>\n      <td>23</td>\n    </tr>\n    <tr>\n      <th>0</th>\n      <td>Portsmouth Brewery Portsmouth Weizenbock</td>\n      <td>Portsmouth Brewery</td>\n      <td>Bock</td>\n      <td>A dark wheat bock beer. The addition of NH map...</td>\n      <td>3.92</td>\n      <td>4.05</td>\n      <td>3.88</td>\n      <td>3.92</td>\n      <td>3.83</td>\n      <td>20</td>\n    </tr>\n    <tr>\n      <th>1</th>\n      <td>Brouwerij Bosteels Pauwel Kwak</td>\n      <td>Brouwerij Bosteels</td>\n      <td>Strong Ale</td>\n      <td>Belgian Specialty Ale\\t</td>\n      <td>3.72</td>\n      <td>3.85</td>\n      <td>3.74</td>\n      <td>3.74</td>\n      <td>3.70</td>\n      <td>580</td>\n    </tr>\n  </tbody>\n</table>\n</div>"
     },
     "execution_count": 77,
     "metadata": {},
     "output_type": "execute_result"
    }
   ],
   "source": [
    "# Top 5 similar beers of other styles (by overall review score)\n",
    "top_5_diff_style = similar_beers(beers_df, user_input, predicted_style, same_style=False)\n",
    "top_5_diff_style"
   ],
   "metadata": {
    "collapsed": false,
    "pycharm": {
     "name": "#%%\n"
    }
   }
  }
 ],
 "metadata": {
  "kernelspec": {
   "name": "mlenv",
   "language": "python",
   "display_name": "mlenv"
  },
  "language_info": {
   "codemirror_mode": {
    "name": "ipython",
    "version": 2
   },
   "file_extension": ".py",
   "mimetype": "text/x-python",
   "name": "python",
   "nbconvert_exporter": "python",
   "pygments_lexer": "ipython2",
   "version": "2.7.6"
  }
 },
 "nbformat": 4,
 "nbformat_minor": 0
}